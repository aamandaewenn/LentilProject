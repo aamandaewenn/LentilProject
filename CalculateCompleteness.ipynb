{
 "cells": [
  {
   "cell_type": "code",
   "execution_count": 2,
   "id": "bf799eff-e4bc-4d94-83ea-cb474dc9b26c",
   "metadata": {},
   "outputs": [],
   "source": [
    "import pandas as pd\n",
    "import numpy as np\n",
    "from itertools import repeat\n",
    "from sklearn import metrics"
   ]
  },
  {
   "cell_type": "code",
   "execution_count": 3,
   "id": "11da1291-429f-4144-83bf-56c2b267a993",
   "metadata": {},
   "outputs": [
    {
     "data": {
      "text/html": [
       "<div>\n",
       "<style scoped>\n",
       "    .dataframe tbody tr th:only-of-type {\n",
       "        vertical-align: middle;\n",
       "    }\n",
       "\n",
       "    .dataframe tbody tr th {\n",
       "        vertical-align: top;\n",
       "    }\n",
       "\n",
       "    .dataframe thead th {\n",
       "        text-align: right;\n",
       "    }\n",
       "</style>\n",
       "<table border=\"1\" class=\"dataframe\">\n",
       "  <thead>\n",
       "    <tr style=\"text-align: right;\">\n",
       "      <th></th>\n",
       "      <th>path</th>\n",
       "      <th>label</th>\n",
       "    </tr>\n",
       "  </thead>\n",
       "  <tbody>\n",
       "    <tr>\n",
       "      <th>0</th>\n",
       "      <td>New_Lentils/brown-marbled-7059 (segmented)/164...</td>\n",
       "      <td>4</td>\n",
       "    </tr>\n",
       "    <tr>\n",
       "      <th>1</th>\n",
       "      <td>New_Lentils/brown-marbled-7059 (segmented)/164...</td>\n",
       "      <td>4</td>\n",
       "    </tr>\n",
       "    <tr>\n",
       "      <th>2</th>\n",
       "      <td>New_Lentils/brown-marbled-7059 (segmented)/164...</td>\n",
       "      <td>4</td>\n",
       "    </tr>\n",
       "    <tr>\n",
       "      <th>3</th>\n",
       "      <td>New_Lentils/brown-marbled-7059 (segmented)/164...</td>\n",
       "      <td>4</td>\n",
       "    </tr>\n",
       "    <tr>\n",
       "      <th>4</th>\n",
       "      <td>New_Lentils/brown-marbled-7059 (segmented)/164...</td>\n",
       "      <td>6</td>\n",
       "    </tr>\n",
       "  </tbody>\n",
       "</table>\n",
       "</div>"
      ],
      "text/plain": [
       "                                                path  label\n",
       "0  New_Lentils/brown-marbled-7059 (segmented)/164...      4\n",
       "1  New_Lentils/brown-marbled-7059 (segmented)/164...      4\n",
       "2  New_Lentils/brown-marbled-7059 (segmented)/164...      4\n",
       "3  New_Lentils/brown-marbled-7059 (segmented)/164...      4\n",
       "4  New_Lentils/brown-marbled-7059 (segmented)/164...      6"
      ]
     },
     "execution_count": 3,
     "metadata": {},
     "output_type": "execute_result"
    }
   ],
   "source": [
    "# can change pathname to different clustering results\n",
    "cluster_results = pd.read_csv('results/newLentilFineTunedEncodedFeats.csv')\n",
    "cluster_results.head()"
   ]
  },
  {
   "cell_type": "code",
   "execution_count": 4,
   "id": "9c09bb40-3477-44bf-937b-910291b9155d",
   "metadata": {},
   "outputs": [],
   "source": [
    "groups = cluster_results.groupby(\"label\")[\"path\"]"
   ]
  },
  {
   "cell_type": "markdown",
   "id": "afd169c3-1ed6-4e8e-9c43-f9f74e60f8f8",
   "metadata": {},
   "source": [
    "# Calculate Completeness"
   ]
  },
  {
   "cell_type": "code",
   "execution_count": 5,
   "id": "a1dc77b5-5b3d-487b-ae69-33822fd14b98",
   "metadata": {},
   "outputs": [],
   "source": [
    "# create list of true labels based on labels in dataset folder names\n",
    "true_labels = []\n",
    "true_labels.extend(repeat(0, 200))\n",
    "true_labels.extend(repeat(1, 199))\n",
    "true_labels.extend(repeat(2, 198))\n",
    "true_labels.extend(repeat(3, 197))\n",
    "true_labels.extend(repeat(4, 198))\n",
    "true_labels.extend(repeat(5, 195))\n",
    "true_labels.extend(repeat(6, 153))\n",
    "true_labels = np.array(true_labels)"
   ]
  },
  {
   "cell_type": "code",
   "execution_count": 6,
   "id": "19a9c65b-7d37-46fb-8bee-41afef5754df",
   "metadata": {},
   "outputs": [],
   "source": [
    "predicted_labels = np.array(cluster_results.label)"
   ]
  },
  {
   "cell_type": "code",
   "execution_count": 7,
   "id": "329be951-0e0e-417b-a737-799d63241b5f",
   "metadata": {},
   "outputs": [
    {
     "name": "stdout",
     "output_type": "stream",
     "text": [
      "0.36878716631542\n"
     ]
    }
   ],
   "source": [
    "completeness = metrics.completeness_score(labels_true=true_labels, labels_pred=predicted_labels)\n",
    "print(completeness)"
   ]
  }
 ],
 "metadata": {
  "kernelspec": {
   "display_name": "Python 3 (ipykernel)",
   "language": "python",
   "name": "python3"
  },
  "language_info": {
   "codemirror_mode": {
    "name": "ipython",
    "version": 3
   },
   "file_extension": ".py",
   "mimetype": "text/x-python",
   "name": "python",
   "nbconvert_exporter": "python",
   "pygments_lexer": "ipython3",
   "version": "3.10.4"
  }
 },
 "nbformat": 4,
 "nbformat_minor": 5
}
