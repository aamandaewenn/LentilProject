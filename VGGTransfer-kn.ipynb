{
 "cells": [
  {
   "cell_type": "markdown",
   "metadata": {},
   "source": [
    "# If using Google CoLab Connect to Drive"
   ]
  },
  {
   "cell_type": "code",
   "execution_count": 1,
   "metadata": {
    "colab": {
     "base_uri": "https://localhost:8080/"
    },
    "executionInfo": {
     "elapsed": 17878,
     "status": "ok",
     "timestamp": 1660230884636,
     "user": {
      "displayName": "Amanda E",
      "userId": "18060553539545466159"
     },
     "user_tz": 360
    },
    "id": "Susqj6W9s83t",
    "outputId": "f96dc40e-9d75-445e-de8d-13f6e8b669be"
   },
   "outputs": [
    {
     "name": "stdout",
     "output_type": "stream",
     "text": [
      "Mounted at /content/gdrive\n"
     ]
    }
   ],
   "source": [
    "from google.colab import drive\n",
    "drive.mount(\"/content/gdrive\")"
   ]
  },
  {
   "cell_type": "code",
   "execution_count": 2,
   "metadata": {
    "executionInfo": {
     "elapsed": 195,
     "status": "ok",
     "timestamp": 1660230917913,
     "user": {
      "displayName": "Amanda E",
      "userId": "18060553539545466159"
     },
     "user_tz": 360
    },
    "id": "EPrylvhqtY2X"
   },
   "outputs": [],
   "source": [
    "import os\n",
    "os.chdir(\"gdrive/MyDrive/Lentil Project/\")"
   ]
  },
  {
   "cell_type": "code",
   "execution_count": 3,
   "metadata": {
    "colab": {
     "base_uri": "https://localhost:8080/"
    },
    "executionInfo": {
     "elapsed": 866,
     "status": "ok",
     "timestamp": 1660230920095,
     "user": {
      "displayName": "Amanda E",
      "userId": "18060553539545466159"
     },
     "user_tz": 360
    },
    "id": "QzzrcP73tmSu",
    "outputId": "f9cbed87-13de-4fc5-9644-beedcf05e6cd"
   },
   "outputs": [
    {
     "name": "stdout",
     "output_type": "stream",
     "text": [
      "/content/gdrive/MyDrive/Lentil Project\n"
     ]
    }
   ],
   "source": [
    "!pwd"
   ]
  },
  {
   "cell_type": "markdown",
   "metadata": {},
   "source": [
    "# If not using CoLab Start Here"
   ]
  },
  {
   "cell_type": "code",
   "execution_count": 4,
   "metadata": {
    "executionInfo": {
     "elapsed": 3640,
     "status": "ok",
     "timestamp": 1660230925110,
     "user": {
      "displayName": "Amanda E",
      "userId": "18060553539545466159"
     },
     "user_tz": 360
    },
    "id": "v6sg8Dr4tqas"
   },
   "outputs": [],
   "source": [
    "import torch\n",
    "import torchvision\n",
    "\n",
    "import numpy as np\n",
    "import matplotlib.pyplot as plt\n",
    "import torch.nn as nn\n",
    "import torch.nn.functional as F\n",
    "\n",
    "\n",
    "from torch.utils.data.dataloader import DataLoader\n",
    "from torch.utils.data import random_split, ConcatDataset\n",
    "from torch.utils.data import Dataset\n",
    "from torch.utils.data.sampler import SubsetRandomSampler\n",
    "\n",
    "import torch.optim as optim\n",
    "\n",
    "import pandas as pd\n",
    "\n",
    "from torchvision.datasets import CIFAR10\n",
    "\n",
    "from skimage import io\n",
    "\n",
    "import copy\n",
    "%matplotlib inline"
   ]
  },
  {
   "cell_type": "code",
   "execution_count": null,
   "metadata": {
    "id": "7tKberRHaJ14"
   },
   "outputs": [],
   "source": [
    "torch.cuda.empty_cache()"
   ]
  },
  {
   "cell_type": "markdown",
   "metadata": {
    "id": "MlnQVNSQubdq"
   },
   "source": [
    "Data Loader"
   ]
  },
  {
   "cell_type": "code",
   "execution_count": null,
   "metadata": {
    "id": "WVptZkSaudQU"
   },
   "outputs": [],
   "source": [
    "class LentilDataset(Dataset): \n",
    "    def __init__(self, paths, transformer): \n",
    "        super(LentilDataset, self).__init__()\n",
    "        self.image_paths = paths\n",
    "        self.transformer = transformer\n",
    "        \n",
    "    def __len__(self): \n",
    "        return len(self.image_paths)\n",
    "    \n",
    "    def __getitem__(self, item): \n",
    "        path = self.image_paths[item]\n",
    "        image = io.imread(path)\n",
    "        \n",
    "        image = self.transformer(image)\n",
    "            \n",
    "        return item, image"
   ]
  },
  {
   "cell_type": "code",
   "execution_count": null,
   "metadata": {
    "id": "lp1nYBcBuk0b"
   },
   "outputs": [],
   "source": [
    "transform = torchvision.transforms.Compose([\n",
    "    torchvision.transforms.ToTensor(),\n",
    "    torchvision.transforms.Resize(size=(256, 256)),\n",
    "    torchvision.transforms.Normalize(mean = [0.485, 0.456, 0.406], std = [0.229, 0.224, 0.225])\n",
    "])"
   ]
  },
  {
   "cell_type": "code",
   "execution_count": null,
   "metadata": {
    "id": "k0wWW8O4uryE"
   },
   "outputs": [],
   "source": [
    "df = pd.read_csv('../metadata/real_features.csv')\n",
    "paths = df.Image.tolist()\n",
    "# may need to change paths depending where images are saved\n",
    "for i in range(len(paths)):\n",
    "    paths[i] = \"../\" + paths[i].split(\"/\")[-2]+\"/\"+paths[i].split(\"/\")[-1]"
   ]
  },
  {
   "cell_type": "code",
   "execution_count": null,
   "metadata": {
    "id": "nBQvdSClvDoL"
   },
   "outputs": [],
   "source": [
    "train_paths, valid_paths = np.split(paths, [int(.8*len(df))])"
   ]
  },
  {
   "cell_type": "code",
   "execution_count": null,
   "metadata": {
    "colab": {
     "base_uri": "https://localhost:8080/"
    },
    "executionInfo": {
     "elapsed": 133,
     "status": "ok",
     "timestamp": 1658853377452,
     "user": {
      "displayName": "Amanda E",
      "userId": "18060553539545466159"
     },
     "user_tz": 360
    },
    "id": "x-l2VGIDvhML",
    "outputId": "c5d525fd-2989-4f09-dc2a-b7060dc8c31d"
   },
   "outputs": [
    {
     "data": {
      "text/plain": [
       "(1272,)"
      ]
     },
     "execution_count": 11,
     "metadata": {},
     "output_type": "execute_result"
    }
   ],
   "source": [
    "train_dataset = LentilDataset(train_paths, transform)\n",
    "valid_dataset = LentilDataset(valid_paths, transform)\n",
    "train_dataset.image_paths.shape"
   ]
  },
  {
   "cell_type": "code",
   "execution_count": null,
   "metadata": {
    "id": "KgYBcFpLvpnT"
   },
   "outputs": [],
   "source": [
    "# Define dataloaders. \n",
    "BATCH_SIZE = 16\n",
    "\n",
    "train_loader = DataLoader(\n",
    "    train_dataset, \n",
    "    batch_size=BATCH_SIZE, \n",
    "    shuffle=True, \n",
    "    num_workers=0\n",
    ")\n",
    "valid_loader = DataLoader(\n",
    "    valid_dataset, \n",
    "    batch_size=BATCH_SIZE, \n",
    "    shuffle=False,\n",
    "    num_workers=0\n",
    ")"
   ]
  },
  {
   "cell_type": "code",
   "execution_count": null,
   "metadata": {
    "colab": {
     "base_uri": "https://localhost:8080/"
    },
    "executionInfo": {
     "elapsed": 268989,
     "status": "ok",
     "timestamp": 1658853650788,
     "user": {
      "displayName": "Amanda E",
      "userId": "18060553539545466159"
     },
     "user_tz": 360
    },
    "id": "MRXQfv37vtsr",
    "outputId": "f1297df7-7020-43ec-ffd5-db3cff08b588"
   },
   "outputs": [
    {
     "name": "stdout",
     "output_type": "stream",
     "text": [
      "torch.Size([16, 3, 256, 256])\n",
      "torch.Size([16, 3, 256, 256])\n",
      "torch.Size([16, 3, 256, 256])\n",
      "torch.Size([16, 3, 256, 256])\n",
      "torch.Size([16, 3, 256, 256])\n",
      "torch.Size([16, 3, 256, 256])\n",
      "torch.Size([16, 3, 256, 256])\n",
      "torch.Size([16, 3, 256, 256])\n",
      "torch.Size([16, 3, 256, 256])\n",
      "torch.Size([16, 3, 256, 256])\n",
      "torch.Size([16, 3, 256, 256])\n",
      "torch.Size([16, 3, 256, 256])\n",
      "torch.Size([16, 3, 256, 256])\n",
      "torch.Size([16, 3, 256, 256])\n",
      "torch.Size([16, 3, 256, 256])\n",
      "torch.Size([16, 3, 256, 256])\n",
      "torch.Size([16, 3, 256, 256])\n",
      "torch.Size([16, 3, 256, 256])\n",
      "torch.Size([16, 3, 256, 256])\n",
      "torch.Size([16, 3, 256, 256])\n",
      "torch.Size([16, 3, 256, 256])\n",
      "torch.Size([16, 3, 256, 256])\n",
      "torch.Size([16, 3, 256, 256])\n",
      "torch.Size([16, 3, 256, 256])\n",
      "torch.Size([16, 3, 256, 256])\n",
      "torch.Size([16, 3, 256, 256])\n",
      "torch.Size([16, 3, 256, 256])\n",
      "torch.Size([16, 3, 256, 256])\n",
      "torch.Size([16, 3, 256, 256])\n",
      "torch.Size([16, 3, 256, 256])\n",
      "torch.Size([16, 3, 256, 256])\n",
      "torch.Size([16, 3, 256, 256])\n",
      "torch.Size([16, 3, 256, 256])\n",
      "torch.Size([16, 3, 256, 256])\n",
      "torch.Size([16, 3, 256, 256])\n",
      "torch.Size([16, 3, 256, 256])\n",
      "torch.Size([16, 3, 256, 256])\n",
      "torch.Size([16, 3, 256, 256])\n",
      "torch.Size([16, 3, 256, 256])\n",
      "torch.Size([16, 3, 256, 256])\n",
      "torch.Size([16, 3, 256, 256])\n",
      "torch.Size([16, 3, 256, 256])\n",
      "torch.Size([16, 3, 256, 256])\n",
      "torch.Size([16, 3, 256, 256])\n",
      "torch.Size([16, 3, 256, 256])\n",
      "torch.Size([16, 3, 256, 256])\n",
      "torch.Size([16, 3, 256, 256])\n",
      "torch.Size([16, 3, 256, 256])\n",
      "torch.Size([16, 3, 256, 256])\n",
      "torch.Size([16, 3, 256, 256])\n",
      "torch.Size([16, 3, 256, 256])\n",
      "torch.Size([16, 3, 256, 256])\n",
      "torch.Size([16, 3, 256, 256])\n",
      "torch.Size([16, 3, 256, 256])\n",
      "torch.Size([16, 3, 256, 256])\n",
      "torch.Size([16, 3, 256, 256])\n",
      "torch.Size([16, 3, 256, 256])\n",
      "torch.Size([16, 3, 256, 256])\n",
      "torch.Size([16, 3, 256, 256])\n",
      "torch.Size([16, 3, 256, 256])\n",
      "torch.Size([16, 3, 256, 256])\n",
      "torch.Size([16, 3, 256, 256])\n",
      "torch.Size([16, 3, 256, 256])\n",
      "torch.Size([16, 3, 256, 256])\n",
      "torch.Size([16, 3, 256, 256])\n",
      "torch.Size([16, 3, 256, 256])\n",
      "torch.Size([16, 3, 256, 256])\n",
      "torch.Size([16, 3, 256, 256])\n",
      "torch.Size([16, 3, 256, 256])\n",
      "torch.Size([16, 3, 256, 256])\n",
      "torch.Size([16, 3, 256, 256])\n",
      "torch.Size([16, 3, 256, 256])\n",
      "torch.Size([16, 3, 256, 256])\n",
      "torch.Size([16, 3, 256, 256])\n",
      "torch.Size([16, 3, 256, 256])\n",
      "torch.Size([16, 3, 256, 256])\n",
      "torch.Size([16, 3, 256, 256])\n",
      "torch.Size([16, 3, 256, 256])\n",
      "torch.Size([16, 3, 256, 256])\n",
      "torch.Size([8, 3, 256, 256])\n"
     ]
    }
   ],
   "source": [
    "for data in train_loader:\n",
    "    items, image = data\n",
    "    print(image.shape)"
   ]
  },
  {
   "cell_type": "code",
   "execution_count": 1,
   "metadata": {
    "colab": {
     "base_uri": "https://localhost:8080/",
     "height": 204
    },
    "executionInfo": {
     "elapsed": 390,
     "status": "error",
     "timestamp": 1660165016957,
     "user": {
      "displayName": "Amanda E",
      "userId": "18060553539545466159"
     },
     "user_tz": 360
    },
    "id": "Pl1gPIXONffq",
    "outputId": "26952b4e-983e-4521-c559-2d52b0085e4a"
   },
   "outputs": [
    {
     "ename": "ModuleNotFoundError",
     "evalue": "No module named 'torchsummary'",
     "output_type": "error",
     "traceback": [
      "\u001b[0;31m---------------------------------------------------------------------------\u001b[0m",
      "\u001b[0;31mModuleNotFoundError\u001b[0m                       Traceback (most recent call last)",
      "Input \u001b[0;32mIn [1]\u001b[0m, in \u001b[0;36m<cell line: 1>\u001b[0;34m()\u001b[0m\n\u001b[0;32m----> 1\u001b[0m \u001b[38;5;28;01mimport\u001b[39;00m \u001b[38;5;21;01mtorchsummary\u001b[39;00m\n\u001b[1;32m      2\u001b[0m model \u001b[38;5;241m=\u001b[39m torchvision\u001b[38;5;241m.\u001b[39mcuda\u001b[38;5;241m.\u001b[39mmodels\u001b[38;5;241m.\u001b[39mvgg19()\n\u001b[1;32m      3\u001b[0m torchsummary\u001b[38;5;241m.\u001b[39msummary(model, (\u001b[38;5;241m3\u001b[39m, \u001b[38;5;241m256\u001b[39m, \u001b[38;5;241m256\u001b[39m))\n",
      "\u001b[0;31mModuleNotFoundError\u001b[0m: No module named 'torchsummary'"
     ]
    }
   ],
   "source": [
    "import torchsummary\n",
    "model = torchvision.cuda.models.vgg19()\n",
    "torchsummary.summary(model, (3, 256, 256))"
   ]
  },
  {
   "cell_type": "markdown",
   "metadata": {
    "id": "7iOlntjswQY2"
   },
   "source": [
    "**Model Definition**"
   ]
  },
  {
   "cell_type": "code",
   "execution_count": null,
   "metadata": {
    "id": "vsqAFkmoJa0z"
   },
   "outputs": [],
   "source": [
    "# Encoder Class\n",
    "class Encoder(nn.Module):\n",
    "    def __init__(self, pretrained_model):\n",
    "        super(Encoder, self).__init__()\n",
    "        # Define main module.\n",
    "        self.encoder_layers = nn.ModuleList(\n",
    "            *pretrained_model[:-2] # Removing Fully connected module, and the AdaptiveAvgPool2d\n",
    "        )\n",
    "\n",
    "        for i in range(len(self.encoder_layers)): \n",
    "            if isinstance(self.encoder_layers[i], nn.MaxPool2d):\n",
    "              self.encoder_layers[i] = nn.MaxPool2d(kernel_size=2, stride=2, padding=0, dilation=1, \n",
    "                                                    ceil_mode=False, return_indices=True)    \n",
    "        # Define linear module. \n",
    "        self.linear_encoder_module = nn.Sequential(\n",
    "            nn.Linear(in_features=512 * 8 * 8, out_features=1024, bias=True),\n",
    "            nn.ReLU(inplace=True),\n",
    "            nn.Dropout(p=0.5, inplace=False),\n",
    "            nn.Linear(1024, 128, bias=True)\n",
    "        )\n",
    "\n",
    "    def forward(self, x):\n",
    "      # Apply main module.\n",
    "      maxpool_indices = []\n",
    "      for layer in self.encoder_layers:\n",
    "          if isinstance(layer, nn.MaxPool2d):\n",
    "              x, indices = layer(x)\n",
    "              maxpool_indices.append(indices)\n",
    "          else:\n",
    "              x = layer(x)\n",
    "      # Apply linear module.\n",
    "      x = x.view(-1, self.linear_encoder_module[0].in_features)\n",
    "      x = self.linear_encoder_module(x)\n",
    "      return x, maxpool_indices"
   ]
  },
  {
   "cell_type": "code",
   "execution_count": null,
   "metadata": {
    "id": "t6l56gayNbXE"
   },
   "outputs": [],
   "source": [
    "# Decoder Class.\n",
    "class Decoder(nn.Module):\n",
    "    def __init__(self, pretrained_model):\n",
    "        super(Decoder, self).__init__()\n",
    "        # Define Decoder linera module.\n",
    "        self.linear_decoder_module = nn.Sequential(\n",
    "            nn.Linear(128, 1024),\n",
    "            nn.Dropout(p=0.5, inplace=False),\n",
    "            nn.ReLU(),\n",
    "            nn.Linear(1024, 512 * 8 * 8)\n",
    "        )\n",
    "        # Define upsampling reference layer. \n",
    "        reference_model_layers = nn.ModuleList(\n",
    "            *pretrained_model[:-2]\n",
    "        )\n",
    "        self.decoder = nn.ModuleList() # Define the decoder empty model. \n",
    "        for ref_layer in reference_model_layers[::-1]: # iterate over Reversed reference model. \n",
    "            layer = None \n",
    "            if isinstance(ref_layer, nn.MaxPool2d):\n",
    "                layer = nn.MaxUnpool2d(kernel_size=2, stride=2, padding=0)\n",
    "            if isinstance(ref_layer, nn.Conv2d):\n",
    "                layer = nn.Sequential(\n",
    "                    nn.Conv2d(\n",
    "                          in_channels=ref_layer.out_channels, out_channels=ref_layer.in_channels, \n",
    "                          kernel_size=3, stride=1, padding=1\n",
    "                    ), \n",
    "                    nn.BatchNorm2d(num_features=ref_layer.in_channels), # If you want to exclude BatchNorm Layer you can comment this line. \n",
    "                    nn.ReLU() # If you want to exclude ReLU you can comment this line.\n",
    "                )\n",
    "            if layer is not None: \n",
    "                self.decoder.append(layer)\n",
    "        self.decoder.append(nn.Sigmoid())\n",
    "\n",
    "    def forward(self, x, indices_list):\n",
    "        # Applying linear module. \n",
    "        x = self.linear_decoder_module(x)\n",
    "        x = x.view(-1, 512, 8, 8)\n",
    "        # Applying main module.\n",
    "        indices_list = indices_list[::-1] # Reverce the indices_list.\n",
    "        i = 0\n",
    "        for layer in self.decoder:\n",
    "          if isinstance(layer, nn.MaxUnpool2d):\n",
    "            x = layer(x, indices=indices_list[i])\n",
    "            i += 1\n",
    "          else:\n",
    "              x = layer(x)\n",
    "        return x"
   ]
  },
  {
   "cell_type": "code",
   "execution_count": null,
   "metadata": {
    "colab": {
     "base_uri": "https://localhost:8080/",
     "height": 176,
     "referenced_widgets": [
      "b35307a386aa4bb690f5f64791801dc9",
      "9dab36dd8b634d71bd13d587b20ebe11",
      "c718997ddccb4cddaaf44eb220fff885",
      "aa8da9a0f9d14d7d8b6f450d4b17f812",
      "435f50a6527c455589c6b5bf8c2cfd5c",
      "57df0d18a2544c79b5d10344071a6eb1",
      "2a66c666e88f4b778bf4d7e8504d9649",
      "93339553e9f04ef6a97e86901a0b45b2",
      "336e3325290e40f59a84786e0dd8783b",
      "045ed6397dd941ce92e8df8054dfd726",
      "65dc6dcb01fb43939e5b7f5eede68da6"
     ]
    },
    "executionInfo": {
     "elapsed": 10878,
     "status": "ok",
     "timestamp": 1660165231086,
     "user": {
      "displayName": "Amanda E",
      "userId": "18060553539545466159"
     },
     "user_tz": 360
    },
    "id": "JUidQc9Lvwlz",
    "outputId": "9a34aefa-6aec-4165-f45d-29e125804802"
   },
   "outputs": [
    {
     "name": "stdout",
     "output_type": "stream",
     "text": [
      "Set device to  cuda\n"
     ]
    },
    {
     "name": "stderr",
     "output_type": "stream",
     "text": [
      "/usr/local/lib/python3.7/dist-packages/torchvision/models/_utils.py:209: UserWarning: The parameter 'pretrained' is deprecated since 0.13 and will be removed in 0.15, please use 'weights' instead.\n",
      "  f\"The parameter '{pretrained_param}' is deprecated since 0.13 and will be removed in 0.15, \"\n",
      "/usr/local/lib/python3.7/dist-packages/torchvision/models/_utils.py:223: UserWarning: Arguments other than a weight enum or `None` for 'weights' are deprecated since 0.13 and will be removed in 0.15. The current behavior is equivalent to passing `weights=VGG16_Weights.IMAGENET1K_V1`. You can also use `weights=VGG16_Weights.DEFAULT` to get the most up-to-date weights.\n",
      "  warnings.warn(msg)\n",
      "Downloading: \"https://download.pytorch.org/models/vgg16-397923af.pth\" to /root/.cache/torch/hub/checkpoints/vgg16-397923af.pth\n"
     ]
    },
    {
     "data": {
      "application/vnd.jupyter.widget-view+json": {
       "model_id": "b35307a386aa4bb690f5f64791801dc9",
       "version_major": 2,
       "version_minor": 0
      },
      "text/plain": [
       "  0%|          | 0.00/528M [00:00<?, ?B/s]"
      ]
     },
     "metadata": {},
     "output_type": "display_data"
    }
   ],
   "source": [
    "from torch.nn.modules.activation import ReLU\n",
    "class CNN_Model(nn.Module):\n",
    "    def __init__(self, reference_model):\n",
    "        super().__init__()\n",
    "        self.encoder = Encoder(copy.deepcopy(reference_model))\n",
    "        self.decoder = Decoder(copy.deepcopy(reference_model))\n",
    "\n",
    "    def forward(self, x):\n",
    "        encoded, maxpool_indices = self.encoder(x)\n",
    "        decoded = self.decoder(encoded, maxpool_indices)\n",
    "        return decoded\n",
    "    \n",
    "device = torch.device('cuda' if torch.cuda.is_available() else 'cpu')\n",
    "print('Set device to ', device)\n",
    "# can change reference model to another vgg network\n",
    "model = CNN_Model(\n",
    "    reference_model=list(torchvision.models.vgg16(pretrained=True).children())\n",
    ")\n",
    "model = model.to(device)"
   ]
  },
  {
   "cell_type": "code",
   "execution_count": null,
   "metadata": {
    "id": "6b501MwhwXlT"
   },
   "outputs": [],
   "source": [
    " #print(model)"
   ]
  },
  {
   "cell_type": "code",
   "execution_count": null,
   "metadata": {
    "id": "Ygvi709AzpWS"
   },
   "outputs": [],
   "source": [
    "# can use as custom loss function\n",
    "class Loss(nn.Module): \n",
    "    def __init__(self): \n",
    "        super().__init__()\n",
    "        self.loss1 = nn.MSELoss()\n",
    "        self.loss2 = nn.L1Loss()\n",
    "    \n",
    "    def __call__(self, predictions, ground_truth): \n",
    "        return (self.loss1(predictions, ground_truth) + \n",
    "               self.loss2(predictions, ground_truth)\n",
    "               )\n",
    "    \n",
    "criterion = nn.L1Loss()\n",
    "optimizer = optim.Adam(model.parameters(), lr=0.0001, weight_decay=1e-5)"
   ]
  },
  {
   "cell_type": "code",
   "execution_count": null,
   "metadata": {
    "colab": {
     "base_uri": "https://localhost:8080/"
    },
    "executionInfo": {
     "elapsed": 1219815,
     "status": "ok",
     "timestamp": 1658851610416,
     "user": {
      "displayName": "Amanda E",
      "userId": "18060553539545466159"
     },
     "user_tz": 360
    },
    "id": "eIfR68PFzsVZ",
    "outputId": "a8076fef-e0f8-4f20-e9c3-f6a2ebb581aa"
   },
   "outputs": [
    {
     "name": "stdout",
     "output_type": "stream",
     "text": [
      "Start\n",
      "Epoch: 0\n",
      "Train --> Epoch: 0, Loss: 1.3953763410449027.\n",
      "Valid --> Epoch: 0, Loss: 1.3194078862667085.\n",
      "--------------------------------------------------\n",
      "Epoch: 1\n",
      "Train --> Epoch: 1, Loss: 1.3707336828112602.\n",
      "Valid --> Epoch: 1, Loss: 1.287602722644806.\n",
      "--------------------------------------------------\n",
      "Epoch: 2\n",
      "Train --> Epoch: 2, Loss: 1.3634044036269188.\n",
      "Valid --> Epoch: 2, Loss: 1.2828770250082016.\n",
      "--------------------------------------------------\n",
      "Epoch: 3\n",
      "Train --> Epoch: 3, Loss: 1.3594983771443367.\n",
      "Valid --> Epoch: 3, Loss: 1.2807614535093308.\n",
      "--------------------------------------------------\n",
      "Epoch: 4\n",
      "Train --> Epoch: 4, Loss: 1.3593458652496337.\n",
      "Valid --> Epoch: 4, Loss: 1.2794521808624268.\n",
      "--------------------------------------------------\n",
      "Epoch: 5\n",
      "Train --> Epoch: 5, Loss: 1.3592777013778687.\n",
      "Valid --> Epoch: 5, Loss: 1.2796163469552995.\n",
      "--------------------------------------------------\n",
      "Epoch: 6\n",
      "Train --> Epoch: 6, Loss: 1.3574745208024979.\n",
      "Valid --> Epoch: 6, Loss: 1.2811994194984435.\n",
      "--------------------------------------------------\n",
      "Epoch: 7\n",
      "Train --> Epoch: 7, Loss: 1.358013714849949.\n",
      "Valid --> Epoch: 7, Loss: 1.2788313776254654.\n",
      "--------------------------------------------------\n",
      "Epoch: 8\n",
      "Train --> Epoch: 8, Loss: 1.3574122801423072.\n",
      "Valid --> Epoch: 8, Loss: 1.2764362156391145.\n",
      "--------------------------------------------------\n",
      "Epoch: 9\n",
      "Train --> Epoch: 9, Loss: 1.3569300174713135.\n",
      "Valid --> Epoch: 9, Loss: 1.2756795436143875.\n",
      "--------------------------------------------------\n",
      "Epoch: 10\n",
      "Train --> Epoch: 10, Loss: 1.3569182738661767.\n",
      "Valid --> Epoch: 10, Loss: 1.2786096572875976.\n",
      "--------------------------------------------------\n",
      "Epoch: 11\n",
      "Train --> Epoch: 11, Loss: 1.3557154178619384.\n",
      "Valid --> Epoch: 11, Loss: 1.2770116299390792.\n",
      "--------------------------------------------------\n",
      "Epoch: 12\n",
      "Train --> Epoch: 12, Loss: 1.3563660696148871.\n",
      "Valid --> Epoch: 12, Loss: 1.2750503361225127.\n",
      "--------------------------------------------------\n",
      "Epoch: 13\n",
      "Train --> Epoch: 13, Loss: 1.3572775989770889.\n",
      "Valid --> Epoch: 13, Loss: 1.2760257214307784.\n",
      "--------------------------------------------------\n",
      "Epoch: 14\n",
      "Train --> Epoch: 14, Loss: 1.3575921803712845.\n",
      "Valid --> Epoch: 14, Loss: 1.2773348152637483.\n",
      "--------------------------------------------------\n",
      "Epoch: 15\n",
      "Train --> Epoch: 15, Loss: 1.3553811863064766.\n",
      "Valid --> Epoch: 15, Loss: 1.2752598911523818.\n",
      "--------------------------------------------------\n",
      "Epoch: 16\n",
      "Train --> Epoch: 16, Loss: 1.3562937825918198.\n",
      "Valid --> Epoch: 16, Loss: 1.274981400370598.\n",
      "--------------------------------------------------\n",
      "Epoch: 17\n",
      "Train --> Epoch: 17, Loss: 1.3560471430420875.\n",
      "Valid --> Epoch: 17, Loss: 1.2750425428152083.\n",
      "--------------------------------------------------\n",
      "Epoch: 18\n",
      "Train --> Epoch: 18, Loss: 1.3563223600387573.\n",
      "Valid --> Epoch: 18, Loss: 1.2743382453918457.\n",
      "--------------------------------------------------\n",
      "Epoch: 19\n",
      "Train --> Epoch: 19, Loss: 1.3549233347177505.\n",
      "Valid --> Epoch: 19, Loss: 1.2756900429725646.\n",
      "--------------------------------------------------\n",
      "Epoch: 20\n",
      "Train --> Epoch: 20, Loss: 1.3565263420343399.\n",
      "Valid --> Epoch: 20, Loss: 1.274461132287979.\n",
      "--------------------------------------------------\n",
      "Epoch: 21\n",
      "Train --> Epoch: 21, Loss: 1.3553274288773536.\n",
      "Valid --> Epoch: 21, Loss: 1.2751227855682372.\n",
      "--------------------------------------------------\n",
      "Epoch: 22\n",
      "Train --> Epoch: 22, Loss: 1.3551797583699225.\n",
      "Valid --> Epoch: 22, Loss: 1.2746632993221283.\n",
      "--------------------------------------------------\n",
      "Epoch: 23\n",
      "Train --> Epoch: 23, Loss: 1.3547619357705116.\n",
      "Valid --> Epoch: 23, Loss: 1.2749711841344833.\n",
      "--------------------------------------------------\n",
      "Epoch: 24\n",
      "Train --> Epoch: 24, Loss: 1.3548235297203064.\n",
      "Valid --> Epoch: 24, Loss: 1.274810865521431.\n",
      "--------------------------------------------------\n",
      "Epoch: 25\n",
      "Train --> Epoch: 25, Loss: 1.3554804041981696.\n",
      "Valid --> Epoch: 25, Loss: 1.274002581834793.\n",
      "--------------------------------------------------\n",
      "Epoch: 26\n",
      "Train --> Epoch: 26, Loss: 1.3551686123013496.\n",
      "Valid --> Epoch: 26, Loss: 1.273984670639038.\n",
      "--------------------------------------------------\n",
      "Epoch: 27\n",
      "Train --> Epoch: 27, Loss: 1.3551695749163628.\n",
      "Valid --> Epoch: 27, Loss: 1.2750595718622209.\n",
      "--------------------------------------------------\n",
      "Epoch: 28\n",
      "Train --> Epoch: 28, Loss: 1.3555123865604402.\n",
      "Valid --> Epoch: 28, Loss: 1.2745992511510849.\n",
      "--------------------------------------------------\n",
      "Epoch: 29\n",
      "Train --> Epoch: 29, Loss: 1.355011098086834.\n",
      "Valid --> Epoch: 29, Loss: 1.2740960657596587.\n",
      "--------------------------------------------------\n",
      "Epoch: 30\n",
      "Train --> Epoch: 30, Loss: 1.3534845024347306.\n",
      "Valid --> Epoch: 30, Loss: 1.2749855548143387.\n",
      "--------------------------------------------------\n",
      "Epoch: 31\n",
      "Train --> Epoch: 31, Loss: 1.3536048963665963.\n",
      "Valid --> Epoch: 31, Loss: 1.2744998395442964.\n",
      "--------------------------------------------------\n",
      "Epoch: 32\n",
      "Train --> Epoch: 32, Loss: 1.354943472146988.\n",
      "Valid --> Epoch: 32, Loss: 1.275076186656952.\n",
      "--------------------------------------------------\n",
      "Epoch: 33\n",
      "Train --> Epoch: 33, Loss: 1.355356475710869.\n",
      "Valid --> Epoch: 33, Loss: 1.2743242532014847.\n",
      "--------------------------------------------------\n",
      "Epoch: 34\n",
      "Train --> Epoch: 34, Loss: 1.3549166277050972.\n",
      "Valid --> Epoch: 34, Loss: 1.274222519993782.\n",
      "--------------------------------------------------\n",
      "Epoch: 35\n",
      "Train --> Epoch: 35, Loss: 1.353658600151539.\n",
      "Valid --> Epoch: 35, Loss: 1.2740910977125168.\n",
      "--------------------------------------------------\n",
      "Epoch: 36\n",
      "Train --> Epoch: 36, Loss: 1.3550718262791634.\n",
      "Valid --> Epoch: 36, Loss: 1.2754938662052155.\n",
      "--------------------------------------------------\n",
      "Epoch: 37\n",
      "Train --> Epoch: 37, Loss: 1.3553690791130066.\n",
      "Valid --> Epoch: 37, Loss: 1.2735857754945754.\n",
      "--------------------------------------------------\n",
      "Epoch: 38\n",
      "Train --> Epoch: 38, Loss: 1.354417186975479.\n",
      "Valid --> Epoch: 38, Loss: 1.274317118525505.\n",
      "--------------------------------------------------\n",
      "Epoch: 39\n",
      "Train --> Epoch: 39, Loss: 1.3555166661739348.\n",
      "Valid --> Epoch: 39, Loss: 1.2756110191345216.\n",
      "--------------------------------------------------\n",
      "Epoch: 40\n",
      "Train --> Epoch: 40, Loss: 1.3550386130809784.\n",
      "Valid --> Epoch: 40, Loss: 1.274491834640503.\n",
      "--------------------------------------------------\n",
      "Epoch: 41\n",
      "Train --> Epoch: 41, Loss: 1.3547501862049103.\n",
      "Valid --> Epoch: 41, Loss: 1.2749996483325958.\n",
      "--------------------------------------------------\n",
      "Epoch: 42\n",
      "Train --> Epoch: 42, Loss: 1.355734746158123.\n",
      "Valid --> Epoch: 42, Loss: 1.2763341337442398.\n",
      "--------------------------------------------------\n",
      "Epoch: 43\n",
      "Train --> Epoch: 43, Loss: 1.355035001039505.\n",
      "Valid --> Epoch: 43, Loss: 1.274095892906189.\n",
      "--------------------------------------------------\n",
      "Epoch: 44\n",
      "Train --> Epoch: 44, Loss: 1.3569283843040467.\n",
      "Valid --> Epoch: 44, Loss: 1.2745309829711915.\n",
      "--------------------------------------------------\n",
      "Epoch: 45\n",
      "Train --> Epoch: 45, Loss: 1.3552084401249886.\n",
      "Valid --> Epoch: 45, Loss: 1.2750985682010652.\n",
      "--------------------------------------------------\n",
      "Epoch: 46\n",
      "Train --> Epoch: 46, Loss: 1.3545237988233567.\n",
      "Valid --> Epoch: 46, Loss: 1.274331447482109.\n",
      "--------------------------------------------------\n",
      "Epoch: 47\n",
      "Train --> Epoch: 47, Loss: 1.3547744765877723.\n",
      "Valid --> Epoch: 47, Loss: 1.2737790822982789.\n",
      "--------------------------------------------------\n",
      "Epoch: 48\n",
      "Train --> Epoch: 48, Loss: 1.3548199221491815.\n",
      "Valid --> Epoch: 48, Loss: 1.2751166343688964.\n",
      "--------------------------------------------------\n",
      "Epoch: 49\n",
      "Train --> Epoch: 49, Loss: 1.354055455327034.\n",
      "Valid --> Epoch: 49, Loss: 1.2741440117359162.\n",
      "--------------------------------------------------\n",
      "Finished.\n"
     ]
    }
   ],
   "source": [
    "MAXEPOCH = 50\n",
    "\n",
    "train_loss_tracking = []\n",
    "vlaid_loss_tracking = []\n",
    "\n",
    "print(\"Start\")\n",
    "for epoch in range(MAXEPOCH):\n",
    "    print(\"Epoch:\", epoch)\n",
    "    # Change the development mode to the training mode. \n",
    "    model.train()\n",
    "    running_loss = 0.0\n",
    "    \n",
    "    running_steps = 0\n",
    "    for i, data in enumerate(train_loader, 0):\n",
    "        _, images = data\n",
    "        images=images.to(device)\n",
    "\n",
    "        optimizer.zero_grad()\n",
    "\n",
    "        outputs = model(images)\n",
    "\n",
    "        loss = criterion(outputs, images.clone())\n",
    "        loss.backward()\n",
    "        optimizer.step()\n",
    "\n",
    "        running_loss += loss.item()\n",
    "\n",
    "        running_steps += 1\n",
    "    train_loss = running_loss / running_steps\n",
    "    train_loss_tracking.append(train_loss)\n",
    "\n",
    "    print(f'Train --> Epoch: {epoch}, Loss: {train_loss}.')\n",
    "\n",
    "    # Evaluate the model for this epoch. \n",
    "    # Change the development mode to the evaluating mode. \n",
    "    model.eval()\n",
    "    with torch.no_grad():\n",
    "        running_loss = 0.0\n",
    "\n",
    "        running_steps = 0\n",
    "        for i, data in enumerate(valid_loader, 0):\n",
    "            _, features = data\n",
    "            features=features.to(device)\n",
    "\n",
    "            outputs = model(features)\n",
    "            loss = criterion(outputs, features)\n",
    "\n",
    "            running_loss += loss.cpu().item()\n",
    "  \n",
    "            running_steps += 1\n",
    "        valid_loss = running_loss / running_steps\n",
    "        vlaid_loss_tracking.append(valid_loss)\n",
    "\n",
    "        print(f'Valid --> Epoch: {epoch}, Loss: {valid_loss}.')\n",
    "        print('-' * 50)\n",
    "        \n",
    "print('Finished.')"
   ]
  },
  {
   "cell_type": "markdown",
   "metadata": {
    "id": "cu_bD4uO3XM8"
   },
   "source": [
    "**Visualize the Loss Over Different Epochs**"
   ]
  },
  {
   "cell_type": "code",
   "execution_count": null,
   "metadata": {
    "colab": {
     "base_uri": "https://localhost:8080/",
     "height": 240
    },
    "executionInfo": {
     "elapsed": 5,
     "status": "error",
     "timestamp": 1658853252870,
     "user": {
      "displayName": "Amanda E",
      "userId": "18060553539545466159"
     },
     "user_tz": 360
    },
    "id": "3ZsGqAtuzvia",
    "outputId": "b6e9859f-758c-40ee-a0c7-3e03f95293be"
   },
   "outputs": [
    {
     "data": {
      "image/png": "[encoded data removed]",
      "text/plain": [
       "<Figure size 432x288 with 1 Axes>"
      ]
     },
     "metadata": {
      "needs_background": "light"
     },
     "output_type": "display_data"
    }
   ],
   "source": [
    "plt.plot(range(len(train_loss_tracking)), train_loss_tracking, 'r-', label='Train Loss')\n",
    "plt.plot(range(len(vlaid_loss_tracking)), vlaid_loss_tracking, 'g-', label='Valid Loss')\n",
    "plt.title('Loss')\n",
    "plt.xlabel('Epochs')\n",
    "plt.ylabel('Loss Values')\n",
    "plt.legend()\n",
    "plt.show()"
   ]
  },
  {
   "cell_type": "code",
   "execution_count": null,
   "metadata": {
    "id": "YD7FlWiZ2-18"
   },
   "outputs": [],
   "source": [
    "# change path to where you want to save model\n",
    "PATH = '../TransferCNN/VGG/CNN6.pth'\n",
    "torch.save(model.state_dict(), PATH)"
   ]
  },
  {
   "cell_type": "code",
   "execution_count": null,
   "metadata": {
    "id": "IKetdLlO3C_p"
   },
   "outputs": [],
   "source": [
    "# Load the best saved model. \n",
    "checkpoint = torch.load('../TransferCNN/VGG/CNN^.pth')\n",
    "# Define the base model.\n",
    "model = CNN_Model(\n",
    "    reference_model=list(torchvision.models.vgg16(pretrained=True).children())\n",
    ")\n",
    "# Load the weights. \n",
    "model.load_state_dict(checkpoint)\n",
    "model = model.to(device)\n",
    "model = model.eval()"
   ]
  },
  {
   "cell_type": "code",
   "execution_count": null,
   "metadata": {
    "colab": {
     "base_uri": "https://localhost:8080/"
    },
    "executionInfo": {
     "elapsed": 35318,
     "status": "ok",
     "timestamp": 1658850301980,
     "user": {
      "displayName": "Amanda E",
      "userId": "18060553539545466159"
     },
     "user_tz": 360
    },
    "id": "eGaxYEYF3QsB",
    "outputId": "dc323b7f-55c5-4692-c8f1-40b2033d9079"
   },
   "outputs": [
    {
     "name": "stdout",
     "output_type": "stream",
     "text": [
      "0\n",
      "1\n",
      "2\n",
      "3\n",
      "4\n",
      "5\n",
      "6\n",
      "7\n",
      "8\n",
      "9\n",
      "10\n",
      "11\n",
      "12\n",
      "13\n",
      "14\n",
      "15\n",
      "16\n",
      "17\n",
      "18\n",
      "19\n",
      "20\n",
      "21\n",
      "22\n",
      "23\n",
      "24\n"
     ]
    }
   ],
   "source": [
    "# encode the images\n",
    "\n",
    "df = pd.read_csv('../metadata/real_features.csv')\n",
    "paths = df.Image.tolist()\n",
    "for i in range(len(paths)):\n",
    "    paths[i] = \"../\" + paths[i].split(\"/\")[-2]+\"/\"+paths[i].split(\"/\")[-1]\n",
    "\n",
    "image_dataset = LentilDataset(paths, transform)\n",
    "\n",
    "\n",
    "image_loader = DataLoader(\n",
    "    image_dataset, \n",
    "    batch_size=64, \n",
    "    shuffle=False,\n",
    "    num_workers=0\n",
    ")\n",
    "\n",
    "output_images = []\n",
    "output_items = []\n",
    "with torch.no_grad():\n",
    "    for i, data in enumerate(image_loader):\n",
    "        print(i)\n",
    "        items, images = data\n",
    "        images = images.to(device)\n",
    "        output, indices = model.encoder(images)\n",
    "        output_images.extend(output.cpu().numpy().tolist())\n",
    "        output_items.extend(items.numpy().tolist())"
   ]
  },
  {
   "cell_type": "code",
   "execution_count": null,
   "metadata": {
    "colab": {
     "base_uri": "https://localhost:8080/",
     "height": 300
    },
    "executionInfo": {
     "elapsed": 155,
     "status": "ok",
     "timestamp": 1658850304084,
     "user": {
      "displayName": "Amanda E",
      "userId": "18060553539545466159"
     },
     "user_tz": 360
    },
    "id": "9mUxw59L_WVw",
    "outputId": "dee99af7-5b6f-485d-ad12-aec763a6cfbc"
   },
   "outputs": [
    {
     "data": {
      "text/html": [
       "<div>\n",
       "<style scoped>\n",
       "    .dataframe tbody tr th:only-of-type {\n",
       "        vertical-align: middle;\n",
       "    }\n",
       "\n",
       "    .dataframe tbody tr th {\n",
       "        vertical-align: top;\n",
       "    }\n",
       "\n",
       "    .dataframe thead th {\n",
       "        text-align: right;\n",
       "    }\n",
       "</style>\n",
       "<table border=\"1\" class=\"dataframe\">\n",
       "  <thead>\n",
       "    <tr style=\"text-align: right;\">\n",
       "      <th></th>\n",
       "      <th>Image</th>\n",
       "      <th>0</th>\n",
       "      <th>1</th>\n",
       "      <th>2</th>\n",
       "      <th>3</th>\n",
       "      <th>4</th>\n",
       "      <th>5</th>\n",
       "      <th>6</th>\n",
       "      <th>7</th>\n",
       "      <th>8</th>\n",
       "      <th>...</th>\n",
       "      <th>118</th>\n",
       "      <th>119</th>\n",
       "      <th>120</th>\n",
       "      <th>121</th>\n",
       "      <th>122</th>\n",
       "      <th>123</th>\n",
       "      <th>124</th>\n",
       "      <th>125</th>\n",
       "      <th>126</th>\n",
       "      <th>127</th>\n",
       "    </tr>\n",
       "  </thead>\n",
       "  <tbody>\n",
       "    <tr>\n",
       "      <th>0</th>\n",
       "      <td>../real_regions/0000_16401081_1.png</td>\n",
       "      <td>-0.200978</td>\n",
       "      <td>0.213196</td>\n",
       "      <td>-1.369448</td>\n",
       "      <td>-0.220220</td>\n",
       "      <td>-0.162302</td>\n",
       "      <td>0.475558</td>\n",
       "      <td>0.619602</td>\n",
       "      <td>-0.242718</td>\n",
       "      <td>-0.008542</td>\n",
       "      <td>...</td>\n",
       "      <td>0.351919</td>\n",
       "      <td>0.494627</td>\n",
       "      <td>-0.196244</td>\n",
       "      <td>-0.178202</td>\n",
       "      <td>1.067329</td>\n",
       "      <td>-0.401638</td>\n",
       "      <td>-0.878526</td>\n",
       "      <td>-0.088733</td>\n",
       "      <td>-0.506404</td>\n",
       "      <td>0.643858</td>\n",
       "    </tr>\n",
       "    <tr>\n",
       "      <th>1</th>\n",
       "      <td>../real_regions/0001_16401081_10.png</td>\n",
       "      <td>-0.004492</td>\n",
       "      <td>0.113322</td>\n",
       "      <td>-0.736791</td>\n",
       "      <td>-0.093579</td>\n",
       "      <td>-0.154324</td>\n",
       "      <td>0.320086</td>\n",
       "      <td>0.396997</td>\n",
       "      <td>-0.241123</td>\n",
       "      <td>0.100578</td>\n",
       "      <td>...</td>\n",
       "      <td>0.110217</td>\n",
       "      <td>0.448000</td>\n",
       "      <td>-0.246624</td>\n",
       "      <td>0.093985</td>\n",
       "      <td>0.906550</td>\n",
       "      <td>-0.351883</td>\n",
       "      <td>-0.510070</td>\n",
       "      <td>-0.159958</td>\n",
       "      <td>-0.446981</td>\n",
       "      <td>0.320377</td>\n",
       "    </tr>\n",
       "    <tr>\n",
       "      <th>2</th>\n",
       "      <td>../real_regions/0002_16401081_11.png</td>\n",
       "      <td>-0.034915</td>\n",
       "      <td>0.137256</td>\n",
       "      <td>-0.784063</td>\n",
       "      <td>-0.114133</td>\n",
       "      <td>-0.213609</td>\n",
       "      <td>0.308362</td>\n",
       "      <td>0.424661</td>\n",
       "      <td>-0.147258</td>\n",
       "      <td>0.015742</td>\n",
       "      <td>...</td>\n",
       "      <td>0.040688</td>\n",
       "      <td>0.445498</td>\n",
       "      <td>-0.216090</td>\n",
       "      <td>0.090196</td>\n",
       "      <td>0.756271</td>\n",
       "      <td>-0.329647</td>\n",
       "      <td>-0.566823</td>\n",
       "      <td>-0.161953</td>\n",
       "      <td>-0.394717</td>\n",
       "      <td>0.189014</td>\n",
       "    </tr>\n",
       "    <tr>\n",
       "      <th>3</th>\n",
       "      <td>../real_regions/0003_16401081_12.png</td>\n",
       "      <td>-0.000117</td>\n",
       "      <td>0.110674</td>\n",
       "      <td>-0.698490</td>\n",
       "      <td>-0.110241</td>\n",
       "      <td>-0.175622</td>\n",
       "      <td>0.314529</td>\n",
       "      <td>0.387562</td>\n",
       "      <td>-0.217386</td>\n",
       "      <td>0.080806</td>\n",
       "      <td>...</td>\n",
       "      <td>0.085048</td>\n",
       "      <td>0.469593</td>\n",
       "      <td>-0.247111</td>\n",
       "      <td>0.123305</td>\n",
       "      <td>0.861673</td>\n",
       "      <td>-0.349628</td>\n",
       "      <td>-0.496976</td>\n",
       "      <td>-0.175754</td>\n",
       "      <td>-0.437957</td>\n",
       "      <td>0.261786</td>\n",
       "    </tr>\n",
       "    <tr>\n",
       "      <th>4</th>\n",
       "      <td>../real_regions/0004_16401081_14.png</td>\n",
       "      <td>-3.850628</td>\n",
       "      <td>-0.032314</td>\n",
       "      <td>-6.763506</td>\n",
       "      <td>-1.676245</td>\n",
       "      <td>1.598400</td>\n",
       "      <td>3.568512</td>\n",
       "      <td>2.967791</td>\n",
       "      <td>2.220088</td>\n",
       "      <td>-1.495821</td>\n",
       "      <td>...</td>\n",
       "      <td>0.735997</td>\n",
       "      <td>1.182367</td>\n",
       "      <td>0.133087</td>\n",
       "      <td>-4.864451</td>\n",
       "      <td>1.151105</td>\n",
       "      <td>-0.718605</td>\n",
       "      <td>-4.125764</td>\n",
       "      <td>1.368015</td>\n",
       "      <td>1.266999</td>\n",
       "      <td>2.087436</td>\n",
       "    </tr>\n",
       "  </tbody>\n",
       "</table>\n",
       "<p>5 rows × 129 columns</p>\n",
       "</div>"
      ],
      "text/plain": [
       "                                  Image         0         1         2  \\\n",
       "0   ../real_regions/0000_16401081_1.png -0.200978  0.213196 -1.369448   \n",
       "1  ../real_regions/0001_16401081_10.png -0.004492  0.113322 -0.736791   \n",
       "2  ../real_regions/0002_16401081_11.png -0.034915  0.137256 -0.784063   \n",
       "3  ../real_regions/0003_16401081_12.png -0.000117  0.110674 -0.698490   \n",
       "4  ../real_regions/0004_16401081_14.png -3.850628 -0.032314 -6.763506   \n",
       "\n",
       "          3         4         5         6         7         8  ...       118  \\\n",
       "0 -0.220220 -0.162302  0.475558  0.619602 -0.242718 -0.008542  ...  0.351919   \n",
       "1 -0.093579 -0.154324  0.320086  0.396997 -0.241123  0.100578  ...  0.110217   \n",
       "2 -0.114133 -0.213609  0.308362  0.424661 -0.147258  0.015742  ...  0.040688   \n",
       "3 -0.110241 -0.175622  0.314529  0.387562 -0.217386  0.080806  ...  0.085048   \n",
       "4 -1.676245  1.598400  3.568512  2.967791  2.220088 -1.495821  ...  0.735997   \n",
       "\n",
       "        119       120       121       122       123       124       125  \\\n",
       "0  0.494627 -0.196244 -0.178202  1.067329 -0.401638 -0.878526 -0.088733   \n",
       "1  0.448000 -0.246624  0.093985  0.906550 -0.351883 -0.510070 -0.159958   \n",
       "2  0.445498 -0.216090  0.090196  0.756271 -0.329647 -0.566823 -0.161953   \n",
       "3  0.469593 -0.247111  0.123305  0.861673 -0.349628 -0.496976 -0.175754   \n",
       "4  1.182367  0.133087 -4.864451  1.151105 -0.718605 -4.125764  1.368015   \n",
       "\n",
       "        126       127  \n",
       "0 -0.506404  0.643858  \n",
       "1 -0.446981  0.320377  \n",
       "2 -0.394717  0.189014  \n",
       "3 -0.437957  0.261786  \n",
       "4  1.266999  2.087436  \n",
       "\n",
       "[5 rows x 129 columns]"
      ]
     },
     "execution_count": 49,
     "metadata": {},
     "output_type": "execute_result"
    }
   ],
   "source": [
    "# save encoded features\n",
    "\n",
    "output_paths = pd.DataFrame({\"Image\":[paths[i] for i in output_items]})\n",
    "output_features = pd.DataFrame(output_images)\n",
    "\n",
    "output_features = pd.concat([output_paths, output_features], axis=1)\n",
    "output_features.head()\n"
   ]
  },
  {
   "cell_type": "code",
   "execution_count": null,
   "metadata": {
    "id": "pWwldL3iC34U"
   },
   "outputs": [],
   "source": [
    "output_features.to_csv(\"../metadata/vgg_encoded_features.csv\", index=False)"
   ]
  },
  {
   "cell_type": "markdown",
   "metadata": {
    "id": "bCke7kRulSen"
   },
   "source": [
    "**Check Decoded Images**"
   ]
  },
  {
   "cell_type": "code",
   "execution_count": null,
   "metadata": {
    "colab": {
     "base_uri": "https://localhost:8080/",
     "height": 773
    },
    "executionInfo": {
     "elapsed": 973,
     "status": "ok",
     "timestamp": 1658850312043,
     "user": {
      "displayName": "Amanda E",
      "userId": "18060553539545466159"
     },
     "user_tz": 360
    },
    "id": "UjefmYLgTX0D",
    "outputId": "14ba68ae-1d5d-4bb4-e78b-6782deaef320"
   },
   "outputs": [
    {
     "data": {
      "image/png": "[encoded data removed]",
      "text/plain": [
       "<Figure size 432x288 with 1 Axes>"
      ]
     },
     "metadata": {
      "needs_background": "light"
     },
     "output_type": "display_data"
    },
    {
     "data": {
      "image/png": "[encoded data removed]",
      "text/plain": [
       "<Figure size 432x288 with 1 Axes>"
      ]
     },
     "metadata": {
      "needs_background": "light"
     },
     "output_type": "display_data"
    },
    {
     "data": {
      "image/png": "[encoded data removed]",
      "text/plain": [
       "<Figure size 432x288 with 1 Axes>"
      ]
     },
     "metadata": {
      "needs_background": "light"
     },
     "output_type": "display_data"
    }
   ],
   "source": [
    "# show original images\n",
    "image_paths = ['../real_regions/0003_16401081_12.png', '../real_regions/1003_16401081_41.png', '../real_regions/0011_16401081_22.png']\n",
    "\n",
    "for path in image_paths:\n",
    "  img = io.imread(path)\n",
    "  plt.imshow(img)\n",
    "  plt.show()"
   ]
  },
  {
   "cell_type": "code",
   "execution_count": null,
   "metadata": {
    "id": "R2MwfZY-kqUw"
   },
   "outputs": [],
   "source": [
    "#load the model\n",
    "\n",
    "# Load the best saved model. \n",
    "checkpoint = torch.load('../TransferCNN/VGG/CNN10.pth', map_location=device)\n",
    "# Define the base model.\n",
    "model = CNN_Model(\n",
    "    reference_model=list(torchvision.models.vgg19(pretrained=True).children())\n",
    ")\n",
    "# Load the weights. \n",
    "model.load_state_dict(checkpoint)\n",
    "model = model.to(device)\n",
    "model = model.eval()"
   ]
  },
  {
   "cell_type": "code",
   "execution_count": null,
   "metadata": {
    "id": "ZUi1OQrQKBSL"
   },
   "outputs": [],
   "source": [
    "#encode and decode the images\n",
    "\n",
    "\n",
    "image_test_dataset = LentilDataset(image_paths, transform)\n",
    "\n",
    "\n",
    "image_test_loader = DataLoader(\n",
    "    image_test_dataset, \n",
    "    batch_size=1, \n",
    "    shuffle=False,\n",
    "    num_workers=0\n",
    ")\n",
    "\n",
    "output_images = []\n",
    "output_index = []\n",
    "with torch.no_grad():\n",
    "    for i, data in enumerate(image_test_loader):\n",
    "        index, images = data\n",
    "        images = images.to(device)\n",
    "        output = model(images)\n",
    "        output_images.extend(output.cpu().numpy())\n",
    "        output_index.extend(index.numpy().tolist())"
   ]
  },
  {
   "cell_type": "code",
   "execution_count": null,
   "metadata": {
    "colab": {
     "base_uri": "https://localhost:8080/",
     "height": 773
    },
    "executionInfo": {
     "elapsed": 689,
     "status": "ok",
     "timestamp": 1658850348583,
     "user": {
      "displayName": "Amanda E",
      "userId": "18060553539545466159"
     },
     "user_tz": 360
    },
    "id": "0PXf5eP9laAn",
    "outputId": "90744013-6844-4718-aa5a-f7d6ae2d822a"
   },
   "outputs": [
    {
     "data": {
      "image/png": "[encoded data removed]",
      "text/plain": [
       "<Figure size 432x288 with 1 Axes>"
      ]
     },
     "metadata": {
      "needs_background": "light"
     },
     "output_type": "display_data"
    },
    {
     "data": {
      "image/png": "[encoded data removed]",
      "text/plain": [
       "<Figure size 432x288 with 1 Axes>"
      ]
     },
     "metadata": {
      "needs_background": "light"
     },
     "output_type": "display_data"
    },
    {
     "data": {
      "image/png": "[encoded data removed]",
      "text/plain": [
       "<Figure size 432x288 with 1 Axes>"
      ]
     },
     "metadata": {
      "needs_background": "light"
     },
     "output_type": "display_data"
    }
   ],
   "source": [
    "# show decoded images\n",
    "for img in output_images:\n",
    "  img = img.swapaxes(0,1)\n",
    "  img = img.swapaxes(1,2)\n",
    "  plt.imshow(img)\n",
    "  plt.show()"
   ]
  },
  {
   "cell_type": "markdown",
   "metadata": {
    "executionInfo": {
     "elapsed": 171,
     "status": "ok",
     "timestamp": 1658523097909,
     "user": {
      "displayName": "Amanda E",
      "userId": "18060553539545466159"
     },
     "user_tz": 360
    },
    "id": "C0JhQdvHuJps",
    "outputId": "4c5aa418-c9cc-4387-ab07-178c83e54de8"
   },
   "source": [
    "**Encode new lentil images**"
   ]
  },
  {
   "cell_type": "code",
   "execution_count": null,
   "metadata": {
    "colab": {
     "base_uri": "https://localhost:8080/",
     "height": 158,
     "referenced_widgets": [
      "8a1042d1430b4099b0fe5394fb77704f",
      "dcb98b3b0a314f3a828e227010736b30",
      "80e40fe0a8714918812784b367869e87",
      "316ed2c2ef1e442ca9c37a0a605d55c9",
      "a444dc0ee3e74c9abd66a2ade25b9132",
      "5a02871f9ac54c4ab82bcd6cd728cabe",
      "4a111ba8489040028e977ffb34a9c6a6",
      "df2f263c498f49e6a8fd2d3b18ad13c3",
      "a1b28a7e96c548fd804b5a83106728b0",
      "9da6f95a8c1541b2a6f212d1a5f94a77",
      "53eb117d999d49a99bf4edca6148f998"
     ]
    },
    "executionInfo": {
     "elapsed": 24264,
     "status": "ok",
     "timestamp": 1660165800787,
     "user": {
      "displayName": "Amanda E",
      "userId": "18060553539545466159"
     },
     "user_tz": 360
    },
    "id": "xkSKlgTGjHc9",
    "outputId": "1af507f8-4b00-4214-9937-3c87700367e3"
   },
   "outputs": [
    {
     "name": "stderr",
     "output_type": "stream",
     "text": [
      "/usr/local/lib/python3.7/dist-packages/torchvision/models/_utils.py:209: UserWarning: The parameter 'pretrained' is deprecated since 0.13 and will be removed in 0.15, please use 'weights' instead.\n",
      "  f\"The parameter '{pretrained_param}' is deprecated since 0.13 and will be removed in 0.15, \"\n",
      "/usr/local/lib/python3.7/dist-packages/torchvision/models/_utils.py:223: UserWarning: Arguments other than a weight enum or `None` for 'weights' are deprecated since 0.13 and will be removed in 0.15. The current behavior is equivalent to passing `weights=VGG19_Weights.IMAGENET1K_V1`. You can also use `weights=VGG19_Weights.DEFAULT` to get the most up-to-date weights.\n",
      "  warnings.warn(msg)\n",
      "Downloading: \"https://download.pytorch.org/models/vgg19-dcbb9e9d.pth\" to /root/.cache/torch/hub/checkpoints/vgg19-dcbb9e9d.pth\n"
     ]
    },
    {
     "data": {
      "application/vnd.jupyter.widget-view+json": {
       "model_id": "8a1042d1430b4099b0fe5394fb77704f",
       "version_major": 2,
       "version_minor": 0
      },
      "text/plain": [
       "  0%|          | 0.00/548M [00:00<?, ?B/s]"
      ]
     },
     "metadata": {},
     "output_type": "display_data"
    }
   ],
   "source": [
    "#load the model\n",
    "\n",
    "# Load the best saved model. \n",
    "checkpoint = torch.load('TransferCNN/VGG/CNN6.pth', map_location=device)\n",
    "# Define the base model.\n",
    "model = CNN_Model(\n",
    "    reference_model=list(torchvision.models.vgg19(pretrained=True).children())\n",
    ")\n",
    "# Load the weights. \n",
    "model.load_state_dict(checkpoint)\n",
    "model = model.to(device)\n",
    "model = model.eval()"
   ]
  },
  {
   "cell_type": "code",
   "execution_count": null,
   "metadata": {
    "colab": {
     "base_uri": "https://localhost:8080/"
    },
    "executionInfo": {
     "elapsed": 17397,
     "status": "ok",
     "timestamp": 1660165822839,
     "user": {
      "displayName": "Amanda E",
      "userId": "18060553539545466159"
     },
     "user_tz": 360
    },
    "id": "ftYwrwcGjP1g",
    "outputId": "87c6b1b9-6375-4c20-a963-eeb299a76bec"
   },
   "outputs": [
    {
     "name": "stdout",
     "output_type": "stream",
     "text": [
      "0\n",
      "1\n",
      "2\n",
      "3\n",
      "4\n",
      "5\n",
      "6\n",
      "7\n",
      "8\n",
      "9\n",
      "10\n",
      "11\n",
      "12\n",
      "13\n",
      "14\n",
      "15\n",
      "16\n",
      "17\n",
      "18\n",
      "19\n",
      "20\n"
     ]
    }
   ],
   "source": [
    "# encode the images\n",
    "\n",
    "df = pd.read_csv('metadata/new_lentil_paths.csv')\n",
    "paths = df.Image.tolist()\n",
    "\n",
    "image_dataset = LentilDataset(paths, transform)\n",
    "\n",
    "\n",
    "image_loader = DataLoader(\n",
    "    image_dataset, \n",
    "    batch_size=64, \n",
    "    shuffle=False,\n",
    "    num_workers=0\n",
    ")\n",
    "\n",
    "output_images = []\n",
    "output_items = []\n",
    "with torch.no_grad():\n",
    "    for i, data in enumerate(image_loader):\n",
    "        print(i)\n",
    "        items, images = data\n",
    "        images = images.to(device)\n",
    "        output, indices = model.encoder(images)\n",
    "        output_images.extend(output.cpu().numpy().tolist())\n",
    "        output_items.extend(items.numpy().tolist())"
   ]
  },
  {
   "cell_type": "code",
   "execution_count": null,
   "metadata": {
    "colab": {
     "base_uri": "https://localhost:8080/",
     "height": 236
    },
    "executionInfo": {
     "elapsed": 175,
     "status": "ok",
     "timestamp": 1660165825839,
     "user": {
      "displayName": "Amanda E",
      "userId": "18060553539545466159"
     },
     "user_tz": 360
    },
    "id": "stTkWPpNjQDX",
    "outputId": "3fb3bf90-6dd8-46c4-ff0b-94b1b52ba4d7"
   },
   "outputs": [
    {
     "data": {
      "text/html": [
       "\n",
       "  <div id=\"df-f2c18708-ef81-4f02-bdbb-27105b505e6b\">\n",
       "    <div class=\"colab-df-container\">\n",
       "      <div>\n",
       "<style scoped>\n",
       "    .dataframe tbody tr th:only-of-type {\n",
       "        vertical-align: middle;\n",
       "    }\n",
       "\n",
       "    .dataframe tbody tr th {\n",
       "        vertical-align: top;\n",
       "    }\n",
       "\n",
       "    .dataframe thead th {\n",
       "        text-align: right;\n",
       "    }\n",
       "</style>\n",
       "<table border=\"1\" class=\"dataframe\">\n",
       "  <thead>\n",
       "    <tr style=\"text-align: right;\">\n",
       "      <th></th>\n",
       "      <th>Image</th>\n",
       "      <th>0</th>\n",
       "      <th>1</th>\n",
       "      <th>2</th>\n",
       "      <th>3</th>\n",
       "      <th>4</th>\n",
       "      <th>5</th>\n",
       "      <th>6</th>\n",
       "      <th>7</th>\n",
       "      <th>8</th>\n",
       "      <th>...</th>\n",
       "      <th>118</th>\n",
       "      <th>119</th>\n",
       "      <th>120</th>\n",
       "      <th>121</th>\n",
       "      <th>122</th>\n",
       "      <th>123</th>\n",
       "      <th>124</th>\n",
       "      <th>125</th>\n",
       "      <th>126</th>\n",
       "      <th>127</th>\n",
       "    </tr>\n",
       "  </thead>\n",
       "  <tbody>\n",
       "    <tr>\n",
       "      <th>0</th>\n",
       "      <td>New_Lentils/brown-marbled-7059 (segmented)/164...</td>\n",
       "      <td>3.472744</td>\n",
       "      <td>-7.791566</td>\n",
       "      <td>-11.115875</td>\n",
       "      <td>-28.577242</td>\n",
       "      <td>0.416464</td>\n",
       "      <td>3.195112</td>\n",
       "      <td>-18.978952</td>\n",
       "      <td>9.062703</td>\n",
       "      <td>8.709677</td>\n",
       "      <td>...</td>\n",
       "      <td>0.715232</td>\n",
       "      <td>0.373784</td>\n",
       "      <td>-1.543487</td>\n",
       "      <td>-19.384401</td>\n",
       "      <td>9.337774</td>\n",
       "      <td>4.547543</td>\n",
       "      <td>3.055873</td>\n",
       "      <td>0.819611</td>\n",
       "      <td>-2.488159</td>\n",
       "      <td>-16.804657</td>\n",
       "    </tr>\n",
       "    <tr>\n",
       "      <th>1</th>\n",
       "      <td>New_Lentils/brown-marbled-7059 (segmented)/164...</td>\n",
       "      <td>4.261943</td>\n",
       "      <td>-8.690232</td>\n",
       "      <td>-12.435905</td>\n",
       "      <td>-31.215820</td>\n",
       "      <td>0.302173</td>\n",
       "      <td>3.897196</td>\n",
       "      <td>-20.949816</td>\n",
       "      <td>9.975708</td>\n",
       "      <td>9.654572</td>\n",
       "      <td>...</td>\n",
       "      <td>1.050864</td>\n",
       "      <td>0.369083</td>\n",
       "      <td>-2.112067</td>\n",
       "      <td>-21.117386</td>\n",
       "      <td>10.937609</td>\n",
       "      <td>3.782949</td>\n",
       "      <td>3.984198</td>\n",
       "      <td>0.108885</td>\n",
       "      <td>-3.421465</td>\n",
       "      <td>-18.467602</td>\n",
       "    </tr>\n",
       "    <tr>\n",
       "      <th>2</th>\n",
       "      <td>New_Lentils/brown-marbled-7059 (segmented)/164...</td>\n",
       "      <td>3.277071</td>\n",
       "      <td>-8.328452</td>\n",
       "      <td>-12.179215</td>\n",
       "      <td>-29.450203</td>\n",
       "      <td>0.279695</td>\n",
       "      <td>3.429807</td>\n",
       "      <td>-19.627571</td>\n",
       "      <td>9.451573</td>\n",
       "      <td>9.368268</td>\n",
       "      <td>...</td>\n",
       "      <td>0.423134</td>\n",
       "      <td>0.352748</td>\n",
       "      <td>-2.137646</td>\n",
       "      <td>-19.859459</td>\n",
       "      <td>9.923081</td>\n",
       "      <td>4.942915</td>\n",
       "      <td>3.586838</td>\n",
       "      <td>0.727810</td>\n",
       "      <td>-3.213026</td>\n",
       "      <td>-17.622442</td>\n",
       "    </tr>\n",
       "    <tr>\n",
       "      <th>3</th>\n",
       "      <td>New_Lentils/brown-marbled-7059 (segmented)/164...</td>\n",
       "      <td>3.831583</td>\n",
       "      <td>-9.199608</td>\n",
       "      <td>-12.915775</td>\n",
       "      <td>-33.099720</td>\n",
       "      <td>0.173131</td>\n",
       "      <td>4.311076</td>\n",
       "      <td>-22.165121</td>\n",
       "      <td>10.555343</td>\n",
       "      <td>9.751234</td>\n",
       "      <td>...</td>\n",
       "      <td>0.831147</td>\n",
       "      <td>0.317629</td>\n",
       "      <td>-2.794471</td>\n",
       "      <td>-22.834976</td>\n",
       "      <td>10.731540</td>\n",
       "      <td>5.125924</td>\n",
       "      <td>4.280877</td>\n",
       "      <td>0.738847</td>\n",
       "      <td>-3.114667</td>\n",
       "      <td>-19.237587</td>\n",
       "    </tr>\n",
       "    <tr>\n",
       "      <th>4</th>\n",
       "      <td>New_Lentils/brown-marbled-7059 (segmented)/164...</td>\n",
       "      <td>3.549095</td>\n",
       "      <td>-7.697216</td>\n",
       "      <td>-11.077764</td>\n",
       "      <td>-27.136477</td>\n",
       "      <td>0.225350</td>\n",
       "      <td>3.355776</td>\n",
       "      <td>-18.175486</td>\n",
       "      <td>8.709937</td>\n",
       "      <td>8.654549</td>\n",
       "      <td>...</td>\n",
       "      <td>0.778002</td>\n",
       "      <td>0.390469</td>\n",
       "      <td>-1.845145</td>\n",
       "      <td>-18.279079</td>\n",
       "      <td>9.577237</td>\n",
       "      <td>3.581088</td>\n",
       "      <td>3.581614</td>\n",
       "      <td>0.128818</td>\n",
       "      <td>-3.273410</td>\n",
       "      <td>-16.112465</td>\n",
       "    </tr>\n",
       "  </tbody>\n",
       "</table>\n",
       "<p>5 rows × 129 columns</p>\n",
       "</div>\n",
       "      <button class=\"colab-df-convert\" onclick=\"convertToInteractive('df-f2c18708-ef81-4f02-bdbb-27105b505e6b')\"\n",
       "              title=\"Convert this dataframe to an interactive table.\"\n",
       "              style=\"display:none;\">\n",
       "        \n",
       "  <svg xmlns=\"http://www.w3.org/2000/svg\" height=\"24px\"viewBox=\"0 0 24 24\"\n",
       "       width=\"24px\">\n",
       "    <path d=\"M0 0h24v24H0V0z\" fill=\"none\"/>\n",
       "    <path d=\"M18.56 5.44l.94 2.06.94-2.06 2.06-.94-2.06-.94-.94-2.06-.94 2.06-2.06.94zm-11 1L8.5 8.5l.94-2.06 2.06-.94-2.06-.94L8.5 2.5l-.94 2.06-2.06.94zm10 10l.94 2.06.94-2.06 2.06-.94-2.06-.94-.94-2.06-.94 2.06-2.06.94z\"/><path d=\"M17.41 7.96l-1.37-1.37c-.4-.4-.92-.59-1.43-.59-.52 0-1.04.2-1.43.59L10.3 9.45l-7.72 7.72c-.78.78-.78 2.05 0 2.83L4 21.41c.39.39.9.59 1.41.59.51 0 1.02-.2 1.41-.59l7.78-7.78 2.81-2.81c.8-.78.8-2.07 0-2.86zM5.41 20L4 18.59l7.72-7.72 1.47 1.35L5.41 20z\"/>\n",
       "  </svg>\n",
       "      </button>\n",
       "      \n",
       "  <style>\n",
       "    .colab-df-container {\n",
       "      display:flex;\n",
       "      flex-wrap:wrap;\n",
       "      gap: 12px;\n",
       "    }\n",
       "\n",
       "    .colab-df-convert {\n",
       "      background-color: #E8F0FE;\n",
       "      border: none;\n",
       "      border-radius: 50%;\n",
       "      cursor: pointer;\n",
       "      display: none;\n",
       "      fill: #1967D2;\n",
       "      height: 32px;\n",
       "      padding: 0 0 0 0;\n",
       "      width: 32px;\n",
       "    }\n",
       "\n",
       "    .colab-df-convert:hover {\n",
       "      background-color: #E2EBFA;\n",
       "      box-shadow: 0px 1px 2px rgba(60, 64, 67, 0.3), 0px 1px 3px 1px rgba(60, 64, 67, 0.15);\n",
       "      fill: #174EA6;\n",
       "    }\n",
       "\n",
       "    [theme=dark] .colab-df-convert {\n",
       "      background-color: #3B4455;\n",
       "      fill: #D2E3FC;\n",
       "    }\n",
       "\n",
       "    [theme=dark] .colab-df-convert:hover {\n",
       "      background-color: #434B5C;\n",
       "      box-shadow: 0px 1px 3px 1px rgba(0, 0, 0, 0.15);\n",
       "      filter: drop-shadow(0px 1px 2px rgba(0, 0, 0, 0.3));\n",
       "      fill: #FFFFFF;\n",
       "    }\n",
       "  </style>\n",
       "\n",
       "      <script>\n",
       "        const buttonEl =\n",
       "          document.querySelector('#df-f2c18708-ef81-4f02-bdbb-27105b505e6b button.colab-df-convert');\n",
       "        buttonEl.style.display =\n",
       "          google.colab.kernel.accessAllowed ? 'block' : 'none';\n",
       "\n",
       "        async function convertToInteractive(key) {\n",
       "          const element = document.querySelector('#df-f2c18708-ef81-4f02-bdbb-27105b505e6b');\n",
       "          const dataTable =\n",
       "            await google.colab.kernel.invokeFunction('convertToInteractive',\n",
       "                                                     [key], {});\n",
       "          if (!dataTable) return;\n",
       "\n",
       "          const docLinkHtml = 'Like what you see? Visit the ' +\n",
       "            '<a target=\"_blank\" href=https://colab.research.google.com/notebooks/data_table.ipynb>data table notebook</a>'\n",
       "            + ' to learn more about interactive tables.';\n",
       "          element.innerHTML = '';\n",
       "          dataTable['output_type'] = 'display_data';\n",
       "          await google.colab.output.renderOutput(dataTable, element);\n",
       "          const docLink = document.createElement('div');\n",
       "          docLink.innerHTML = docLinkHtml;\n",
       "          element.appendChild(docLink);\n",
       "        }\n",
       "      </script>\n",
       "    </div>\n",
       "  </div>\n",
       "  "
      ],
      "text/plain": [
       "                                               Image         0         1  \\\n",
       "0  New_Lentils/brown-marbled-7059 (segmented)/164...  3.472744 -7.791566   \n",
       "1  New_Lentils/brown-marbled-7059 (segmented)/164...  4.261943 -8.690232   \n",
       "2  New_Lentils/brown-marbled-7059 (segmented)/164...  3.277071 -8.328452   \n",
       "3  New_Lentils/brown-marbled-7059 (segmented)/164...  3.831583 -9.199608   \n",
       "4  New_Lentils/brown-marbled-7059 (segmented)/164...  3.549095 -7.697216   \n",
       "\n",
       "           2          3         4         5          6          7         8  \\\n",
       "0 -11.115875 -28.577242  0.416464  3.195112 -18.978952   9.062703  8.709677   \n",
       "1 -12.435905 -31.215820  0.302173  3.897196 -20.949816   9.975708  9.654572   \n",
       "2 -12.179215 -29.450203  0.279695  3.429807 -19.627571   9.451573  9.368268   \n",
       "3 -12.915775 -33.099720  0.173131  4.311076 -22.165121  10.555343  9.751234   \n",
       "4 -11.077764 -27.136477  0.225350  3.355776 -18.175486   8.709937  8.654549   \n",
       "\n",
       "   ...       118       119       120        121        122       123  \\\n",
       "0  ...  0.715232  0.373784 -1.543487 -19.384401   9.337774  4.547543   \n",
       "1  ...  1.050864  0.369083 -2.112067 -21.117386  10.937609  3.782949   \n",
       "2  ...  0.423134  0.352748 -2.137646 -19.859459   9.923081  4.942915   \n",
       "3  ...  0.831147  0.317629 -2.794471 -22.834976  10.731540  5.125924   \n",
       "4  ...  0.778002  0.390469 -1.845145 -18.279079   9.577237  3.581088   \n",
       "\n",
       "        124       125       126        127  \n",
       "0  3.055873  0.819611 -2.488159 -16.804657  \n",
       "1  3.984198  0.108885 -3.421465 -18.467602  \n",
       "2  3.586838  0.727810 -3.213026 -17.622442  \n",
       "3  4.280877  0.738847 -3.114667 -19.237587  \n",
       "4  3.581614  0.128818 -3.273410 -16.112465  \n",
       "\n",
       "[5 rows x 129 columns]"
      ]
     },
     "execution_count": 23,
     "metadata": {},
     "output_type": "execute_result"
    }
   ],
   "source": [
    "# save the encoded features\n",
    "output_paths = pd.DataFrame({\"Image\":[paths[i] for i in output_items]})\n",
    "output_features = pd.DataFrame(output_images)\n",
    "\n",
    "output_features = pd.concat([output_paths, output_features], axis=1)\n",
    "output_features.head()\n"
   ]
  },
  {
   "cell_type": "code",
   "execution_count": null,
   "metadata": {
    "id": "iXMR5jMkkXSB"
   },
   "outputs": [],
   "source": [
    "output_features.to_csv(\"metadata/newlentils_vgg19_encoded_features.csv\", index=False)"
   ]
  },
  {
   "cell_type": "code",
   "execution_count": null,
   "metadata": {
    "id": "BDCeFfVgmDfk"
   },
   "outputs": [],
   "source": []
  }
 ],
 "metadata": {
  "accelerator": "GPU",
  "colab": {
   "collapsed_sections": [],
   "name": "VGG16Transfer-kn.ipynb",
   "provenance": []
  },
  "gpuClass": "standard",
  "kernelspec": {
   "display_name": "Python 3 (ipykernel)",
   "language": "python",
   "name": "python3"
  },
  "language_info": {
   "codemirror_mode": {
    "name": "ipython",
    "version": 3
   },
   "file_extension": ".py",
   "mimetype": "text/x-python",
   "name": "python",
   "nbconvert_exporter": "python",
   "pygments_lexer": "ipython3",
   "version": "3.10.4"
  },
  "widgets": {
   "application/vnd.jupyter.widget-state+json": {
    "045ed6397dd941ce92e8df8054dfd726": {
     "model_module": "@jupyter-widgets/base",
     "model_module_version": "1.2.0",
     "model_name": "LayoutModel",
     "state": {
      "_model_module": "@jupyter-widgets/base",
      "_model_module_version": "1.2.0",
      "_model_name": "LayoutModel",
      "_view_count": null,
      "_view_module": "@jupyter-widgets/base",
      "_view_module_version": "1.2.0",
      "_view_name": "LayoutView",
      "align_content": null,
      "align_items": null,
      "align_self": null,
      "border": null,
      "bottom": null,
      "display": null,
      "flex": null,
      "flex_flow": null,
      "grid_area": null,
      "grid_auto_columns": null,
      "grid_auto_flow": null,
      "grid_auto_rows": null,
      "grid_column": null,
      "grid_gap": null,
      "grid_row": null,
      "grid_template_areas": null,
      "grid_template_columns": null,
      "grid_template_rows": null,
      "height": null,
      "justify_content": null,
      "justify_items": null,
      "left": null,
      "margin": null,
      "max_height": null,
      "max_width": null,
      "min_height": null,
      "min_width": null,
      "object_fit": null,
      "object_position": null,
      "order": null,
      "overflow": null,
      "overflow_x": null,
      "overflow_y": null,
      "padding": null,
      "right": null,
      "top": null,
      "visibility": null,
      "width": null
     }
    },
    "2a66c666e88f4b778bf4d7e8504d9649": {
     "model_module": "@jupyter-widgets/controls",
     "model_module_version": "1.5.0",
     "model_name": "DescriptionStyleModel",
     "state": {
      "_model_module": "@jupyter-widgets/controls",
      "_model_module_version": "1.5.0",
      "_model_name": "DescriptionStyleModel",
      "_view_count": null,
      "_view_module": "@jupyter-widgets/base",
      "_view_module_version": "1.2.0",
      "_view_name": "StyleView",
      "description_width": ""
     }
    },
    "316ed2c2ef1e442ca9c37a0a605d55c9": {
     "model_module": "@jupyter-widgets/controls",
     "model_module_version": "1.5.0",
     "model_name": "HTMLModel",
     "state": {
      "_dom_classes": [],
      "_model_module": "@jupyter-widgets/controls",
      "_model_module_version": "1.5.0",
      "_model_name": "HTMLModel",
      "_view_count": null,
      "_view_module": "@jupyter-widgets/controls",
      "_view_module_version": "1.5.0",
      "_view_name": "HTMLView",
      "description": "",
      "description_tooltip": null,
      "layout": "IPY_MODEL_9da6f95a8c1541b2a6f212d1a5f94a77",
      "placeholder": "​",
      "style": "IPY_MODEL_53eb117d999d49a99bf4edca6148f998",
      "value": " 548M/548M [00:16&lt;00:00, 27.4MB/s]"
     }
    },
    "336e3325290e40f59a84786e0dd8783b": {
     "model_module": "@jupyter-widgets/controls",
     "model_module_version": "1.5.0",
     "model_name": "ProgressStyleModel",
     "state": {
      "_model_module": "@jupyter-widgets/controls",
      "_model_module_version": "1.5.0",
      "_model_name": "ProgressStyleModel",
      "_view_count": null,
      "_view_module": "@jupyter-widgets/base",
      "_view_module_version": "1.2.0",
      "_view_name": "StyleView",
      "bar_color": null,
      "description_width": ""
     }
    },
    "435f50a6527c455589c6b5bf8c2cfd5c": {
     "model_module": "@jupyter-widgets/base",
     "model_module_version": "1.2.0",
     "model_name": "LayoutModel",
     "state": {
      "_model_module": "@jupyter-widgets/base",
      "_model_module_version": "1.2.0",
      "_model_name": "LayoutModel",
      "_view_count": null,
      "_view_module": "@jupyter-widgets/base",
      "_view_module_version": "1.2.0",
      "_view_name": "LayoutView",
      "align_content": null,
      "align_items": null,
      "align_self": null,
      "border": null,
      "bottom": null,
      "display": null,
      "flex": null,
      "flex_flow": null,
      "grid_area": null,
      "grid_auto_columns": null,
      "grid_auto_flow": null,
      "grid_auto_rows": null,
      "grid_column": null,
      "grid_gap": null,
      "grid_row": null,
      "grid_template_areas": null,
      "grid_template_columns": null,
      "grid_template_rows": null,
      "height": null,
      "justify_content": null,
      "justify_items": null,
      "left": null,
      "margin": null,
      "max_height": null,
      "max_width": null,
      "min_height": null,
      "min_width": null,
      "object_fit": null,
      "object_position": null,
      "order": null,
      "overflow": null,
      "overflow_x": null,
      "overflow_y": null,
      "padding": null,
      "right": null,
      "top": null,
      "visibility": null,
      "width": null
     }
    },
    "4a111ba8489040028e977ffb34a9c6a6": {
     "model_module": "@jupyter-widgets/controls",
     "model_module_version": "1.5.0",
     "model_name": "DescriptionStyleModel",
     "state": {
      "_model_module": "@jupyter-widgets/controls",
      "_model_module_version": "1.5.0",
      "_model_name": "DescriptionStyleModel",
      "_view_count": null,
      "_view_module": "@jupyter-widgets/base",
      "_view_module_version": "1.2.0",
      "_view_name": "StyleView",
      "description_width": ""
     }
    },
    "53eb117d999d49a99bf4edca6148f998": {
     "model_module": "@jupyter-widgets/controls",
     "model_module_version": "1.5.0",
     "model_name": "DescriptionStyleModel",
     "state": {
      "_model_module": "@jupyter-widgets/controls",
      "_model_module_version": "1.5.0",
      "_model_name": "DescriptionStyleModel",
      "_view_count": null,
      "_view_module": "@jupyter-widgets/base",
      "_view_module_version": "1.2.0",
      "_view_name": "StyleView",
      "description_width": ""
     }
    },
    "57df0d18a2544c79b5d10344071a6eb1": {
     "model_module": "@jupyter-widgets/base",
     "model_module_version": "1.2.0",
     "model_name": "LayoutModel",
     "state": {
      "_model_module": "@jupyter-widgets/base",
      "_model_module_version": "1.2.0",
      "_model_name": "LayoutModel",
      "_view_count": null,
      "_view_module": "@jupyter-widgets/base",
      "_view_module_version": "1.2.0",
      "_view_name": "LayoutView",
      "align_content": null,
      "align_items": null,
      "align_self": null,
      "border": null,
      "bottom": null,
      "display": null,
      "flex": null,
      "flex_flow": null,
      "grid_area": null,
      "grid_auto_columns": null,
      "grid_auto_flow": null,
      "grid_auto_rows": null,
      "grid_column": null,
      "grid_gap": null,
      "grid_row": null,
      "grid_template_areas": null,
      "grid_template_columns": null,
      "grid_template_rows": null,
      "height": null,
      "justify_content": null,
      "justify_items": null,
      "left": null,
      "margin": null,
      "max_height": null,
      "max_width": null,
      "min_height": null,
      "min_width": null,
      "object_fit": null,
      "object_position": null,
      "order": null,
      "overflow": null,
      "overflow_x": null,
      "overflow_y": null,
      "padding": null,
      "right": null,
      "top": null,
      "visibility": null,
      "width": null
     }
    },
    "5a02871f9ac54c4ab82bcd6cd728cabe": {
     "model_module": "@jupyter-widgets/base",
     "model_module_version": "1.2.0",
     "model_name": "LayoutModel",
     "state": {
      "_model_module": "@jupyter-widgets/base",
      "_model_module_version": "1.2.0",
      "_model_name": "LayoutModel",
      "_view_count": null,
      "_view_module": "@jupyter-widgets/base",
      "_view_module_version": "1.2.0",
      "_view_name": "LayoutView",
      "align_content": null,
      "align_items": null,
      "align_self": null,
      "border": null,
      "bottom": null,
      "display": null,
      "flex": null,
      "flex_flow": null,
      "grid_area": null,
      "grid_auto_columns": null,
      "grid_auto_flow": null,
      "grid_auto_rows": null,
      "grid_column": null,
      "grid_gap": null,
      "grid_row": null,
      "grid_template_areas": null,
      "grid_template_columns": null,
      "grid_template_rows": null,
      "height": null,
      "justify_content": null,
      "justify_items": null,
      "left": null,
      "margin": null,
      "max_height": null,
      "max_width": null,
      "min_height": null,
      "min_width": null,
      "object_fit": null,
      "object_position": null,
      "order": null,
      "overflow": null,
      "overflow_x": null,
      "overflow_y": null,
      "padding": null,
      "right": null,
      "top": null,
      "visibility": null,
      "width": null
     }
    },
    "65dc6dcb01fb43939e5b7f5eede68da6": {
     "model_module": "@jupyter-widgets/controls",
     "model_module_version": "1.5.0",
     "model_name": "DescriptionStyleModel",
     "state": {
      "_model_module": "@jupyter-widgets/controls",
      "_model_module_version": "1.5.0",
      "_model_name": "DescriptionStyleModel",
      "_view_count": null,
      "_view_module": "@jupyter-widgets/base",
      "_view_module_version": "1.2.0",
      "_view_name": "StyleView",
      "description_width": ""
     }
    },
    "80e40fe0a8714918812784b367869e87": {
     "model_module": "@jupyter-widgets/controls",
     "model_module_version": "1.5.0",
     "model_name": "FloatProgressModel",
     "state": {
      "_dom_classes": [],
      "_model_module": "@jupyter-widgets/controls",
      "_model_module_version": "1.5.0",
      "_model_name": "FloatProgressModel",
      "_view_count": null,
      "_view_module": "@jupyter-widgets/controls",
      "_view_module_version": "1.5.0",
      "_view_name": "ProgressView",
      "bar_style": "success",
      "description": "",
      "description_tooltip": null,
      "layout": "IPY_MODEL_df2f263c498f49e6a8fd2d3b18ad13c3",
      "max": 574673361,
      "min": 0,
      "orientation": "horizontal",
      "style": "IPY_MODEL_a1b28a7e96c548fd804b5a83106728b0",
      "value": 574673361
     }
    },
    "8a1042d1430b4099b0fe5394fb77704f": {
     "model_module": "@jupyter-widgets/controls",
     "model_module_version": "1.5.0",
     "model_name": "HBoxModel",
     "state": {
      "_dom_classes": [],
      "_model_module": "@jupyter-widgets/controls",
      "_model_module_version": "1.5.0",
      "_model_name": "HBoxModel",
      "_view_count": null,
      "_view_module": "@jupyter-widgets/controls",
      "_view_module_version": "1.5.0",
      "_view_name": "HBoxView",
      "box_style": "",
      "children": [
       "IPY_MODEL_dcb98b3b0a314f3a828e227010736b30",
       "IPY_MODEL_80e40fe0a8714918812784b367869e87",
       "IPY_MODEL_316ed2c2ef1e442ca9c37a0a605d55c9"
      ],
      "layout": "IPY_MODEL_a444dc0ee3e74c9abd66a2ade25b9132"
     }
    },
    "93339553e9f04ef6a97e86901a0b45b2": {
     "model_module": "@jupyter-widgets/base",
     "model_module_version": "1.2.0",
     "model_name": "LayoutModel",
     "state": {
      "_model_module": "@jupyter-widgets/base",
      "_model_module_version": "1.2.0",
      "_model_name": "LayoutModel",
      "_view_count": null,
      "_view_module": "@jupyter-widgets/base",
      "_view_module_version": "1.2.0",
      "_view_name": "LayoutView",
      "align_content": null,
      "align_items": null,
      "align_self": null,
      "border": null,
      "bottom": null,
      "display": null,
      "flex": null,
      "flex_flow": null,
      "grid_area": null,
      "grid_auto_columns": null,
      "grid_auto_flow": null,
      "grid_auto_rows": null,
      "grid_column": null,
      "grid_gap": null,
      "grid_row": null,
      "grid_template_areas": null,
      "grid_template_columns": null,
      "grid_template_rows": null,
      "height": null,
      "justify_content": null,
      "justify_items": null,
      "left": null,
      "margin": null,
      "max_height": null,
      "max_width": null,
      "min_height": null,
      "min_width": null,
      "object_fit": null,
      "object_position": null,
      "order": null,
      "overflow": null,
      "overflow_x": null,
      "overflow_y": null,
      "padding": null,
      "right": null,
      "top": null,
      "visibility": null,
      "width": null
     }
    },
    "9da6f95a8c1541b2a6f212d1a5f94a77": {
     "model_module": "@jupyter-widgets/base",
     "model_module_version": "1.2.0",
     "model_name": "LayoutModel",
     "state": {
      "_model_module": "@jupyter-widgets/base",
      "_model_module_version": "1.2.0",
      "_model_name": "LayoutModel",
      "_view_count": null,
      "_view_module": "@jupyter-widgets/base",
      "_view_module_version": "1.2.0",
      "_view_name": "LayoutView",
      "align_content": null,
      "align_items": null,
      "align_self": null,
      "border": null,
      "bottom": null,
      "display": null,
      "flex": null,
      "flex_flow": null,
      "grid_area": null,
      "grid_auto_columns": null,
      "grid_auto_flow": null,
      "grid_auto_rows": null,
      "grid_column": null,
      "grid_gap": null,
      "grid_row": null,
      "grid_template_areas": null,
      "grid_template_columns": null,
      "grid_template_rows": null,
      "height": null,
      "justify_content": null,
      "justify_items": null,
      "left": null,
      "margin": null,
      "max_height": null,
      "max_width": null,
      "min_height": null,
      "min_width": null,
      "object_fit": null,
      "object_position": null,
      "order": null,
      "overflow": null,
      "overflow_x": null,
      "overflow_y": null,
      "padding": null,
      "right": null,
      "top": null,
      "visibility": null,
      "width": null
     }
    },
    "9dab36dd8b634d71bd13d587b20ebe11": {
     "model_module": "@jupyter-widgets/controls",
     "model_module_version": "1.5.0",
     "model_name": "HTMLModel",
     "state": {
      "_dom_classes": [],
      "_model_module": "@jupyter-widgets/controls",
      "_model_module_version": "1.5.0",
      "_model_name": "HTMLModel",
      "_view_count": null,
      "_view_module": "@jupyter-widgets/controls",
      "_view_module_version": "1.5.0",
      "_view_name": "HTMLView",
      "description": "",
      "description_tooltip": null,
      "layout": "IPY_MODEL_57df0d18a2544c79b5d10344071a6eb1",
      "placeholder": "​",
      "style": "IPY_MODEL_2a66c666e88f4b778bf4d7e8504d9649",
      "value": "100%"
     }
    },
    "a1b28a7e96c548fd804b5a83106728b0": {
     "model_module": "@jupyter-widgets/controls",
     "model_module_version": "1.5.0",
     "model_name": "ProgressStyleModel",
     "state": {
      "_model_module": "@jupyter-widgets/controls",
      "_model_module_version": "1.5.0",
      "_model_name": "ProgressStyleModel",
      "_view_count": null,
      "_view_module": "@jupyter-widgets/base",
      "_view_module_version": "1.2.0",
      "_view_name": "StyleView",
      "bar_color": null,
      "description_width": ""
     }
    },
    "a444dc0ee3e74c9abd66a2ade25b9132": {
     "model_module": "@jupyter-widgets/base",
     "model_module_version": "1.2.0",
     "model_name": "LayoutModel",
     "state": {
      "_model_module": "@jupyter-widgets/base",
      "_model_module_version": "1.2.0",
      "_model_name": "LayoutModel",
      "_view_count": null,
      "_view_module": "@jupyter-widgets/base",
      "_view_module_version": "1.2.0",
      "_view_name": "LayoutView",
      "align_content": null,
      "align_items": null,
      "align_self": null,
      "border": null,
      "bottom": null,
      "display": null,
      "flex": null,
      "flex_flow": null,
      "grid_area": null,
      "grid_auto_columns": null,
      "grid_auto_flow": null,
      "grid_auto_rows": null,
      "grid_column": null,
      "grid_gap": null,
      "grid_row": null,
      "grid_template_areas": null,
      "grid_template_columns": null,
      "grid_template_rows": null,
      "height": null,
      "justify_content": null,
      "justify_items": null,
      "left": null,
      "margin": null,
      "max_height": null,
      "max_width": null,
      "min_height": null,
      "min_width": null,
      "object_fit": null,
      "object_position": null,
      "order": null,
      "overflow": null,
      "overflow_x": null,
      "overflow_y": null,
      "padding": null,
      "right": null,
      "top": null,
      "visibility": null,
      "width": null
     }
    },
    "aa8da9a0f9d14d7d8b6f450d4b17f812": {
     "model_module": "@jupyter-widgets/controls",
     "model_module_version": "1.5.0",
     "model_name": "HTMLModel",
     "state": {
      "_dom_classes": [],
      "_model_module": "@jupyter-widgets/controls",
      "_model_module_version": "1.5.0",
      "_model_name": "HTMLModel",
      "_view_count": null,
      "_view_module": "@jupyter-widgets/controls",
      "_view_module_version": "1.5.0",
      "_view_name": "HTMLView",
      "description": "",
      "description_tooltip": null,
      "layout": "IPY_MODEL_045ed6397dd941ce92e8df8054dfd726",
      "placeholder": "​",
      "style": "IPY_MODEL_65dc6dcb01fb43939e5b7f5eede68da6",
      "value": " 528M/528M [00:02&lt;00:00, 237MB/s]"
     }
    },
    "b35307a386aa4bb690f5f64791801dc9": {
     "model_module": "@jupyter-widgets/controls",
     "model_module_version": "1.5.0",
     "model_name": "HBoxModel",
     "state": {
      "_dom_classes": [],
      "_model_module": "@jupyter-widgets/controls",
      "_model_module_version": "1.5.0",
      "_model_name": "HBoxModel",
      "_view_count": null,
      "_view_module": "@jupyter-widgets/controls",
      "_view_module_version": "1.5.0",
      "_view_name": "HBoxView",
      "box_style": "",
      "children": [
       "IPY_MODEL_9dab36dd8b634d71bd13d587b20ebe11",
       "IPY_MODEL_c718997ddccb4cddaaf44eb220fff885",
       "IPY_MODEL_aa8da9a0f9d14d7d8b6f450d4b17f812"
      ],
      "layout": "IPY_MODEL_435f50a6527c455589c6b5bf8c2cfd5c"
     }
    },
    "c718997ddccb4cddaaf44eb220fff885": {
     "model_module": "@jupyter-widgets/controls",
     "model_module_version": "1.5.0",
     "model_name": "FloatProgressModel",
     "state": {
      "_dom_classes": [],
      "_model_module": "@jupyter-widgets/controls",
      "_model_module_version": "1.5.0",
      "_model_name": "FloatProgressModel",
      "_view_count": null,
      "_view_module": "@jupyter-widgets/controls",
      "_view_module_version": "1.5.0",
      "_view_name": "ProgressView",
      "bar_style": "success",
      "description": "",
      "description_tooltip": null,
      "layout": "IPY_MODEL_93339553e9f04ef6a97e86901a0b45b2",
      "max": 553433881,
      "min": 0,
      "orientation": "horizontal",
      "style": "IPY_MODEL_336e3325290e40f59a84786e0dd8783b",
      "value": 553433881
     }
    },
    "dcb98b3b0a314f3a828e227010736b30": {
     "model_module": "@jupyter-widgets/controls",
     "model_module_version": "1.5.0",
     "model_name": "HTMLModel",
     "state": {
      "_dom_classes": [],
      "_model_module": "@jupyter-widgets/controls",
      "_model_module_version": "1.5.0",
      "_model_name": "HTMLModel",
      "_view_count": null,
      "_view_module": "@jupyter-widgets/controls",
      "_view_module_version": "1.5.0",
      "_view_name": "HTMLView",
      "description": "",
      "description_tooltip": null,
      "layout": "IPY_MODEL_5a02871f9ac54c4ab82bcd6cd728cabe",
      "placeholder": "​",
      "style": "IPY_MODEL_4a111ba8489040028e977ffb34a9c6a6",
      "value": "100%"
     }
    },
    "df2f263c498f49e6a8fd2d3b18ad13c3": {
     "model_module": "@jupyter-widgets/base",
     "model_module_version": "1.2.0",
     "model_name": "LayoutModel",
     "state": {
      "_model_module": "@jupyter-widgets/base",
      "_model_module_version": "1.2.0",
      "_model_name": "LayoutModel",
      "_view_count": null,
      "_view_module": "@jupyter-widgets/base",
      "_view_module_version": "1.2.0",
      "_view_name": "LayoutView",
      "align_content": null,
      "align_items": null,
      "align_self": null,
      "border": null,
      "bottom": null,
      "display": null,
      "flex": null,
      "flex_flow": null,
      "grid_area": null,
      "grid_auto_columns": null,
      "grid_auto_flow": null,
      "grid_auto_rows": null,
      "grid_column": null,
      "grid_gap": null,
      "grid_row": null,
      "grid_template_areas": null,
      "grid_template_columns": null,
      "grid_template_rows": null,
      "height": null,
      "justify_content": null,
      "justify_items": null,
      "left": null,
      "margin": null,
      "max_height": null,
      "max_width": null,
      "min_height": null,
      "min_width": null,
      "object_fit": null,
      "object_position": null,
      "order": null,
      "overflow": null,
      "overflow_x": null,
      "overflow_y": null,
      "padding": null,
      "right": null,
      "top": null,
      "visibility": null,
      "width": null
     }
    }
   }
  }
 },
 "nbformat": 4,
 "nbformat_minor": 4
}
