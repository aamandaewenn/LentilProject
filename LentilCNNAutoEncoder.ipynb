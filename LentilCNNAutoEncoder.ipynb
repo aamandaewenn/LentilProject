{
 "cells": [
  {
   "cell_type": "markdown",
   "metadata": {},
   "source": [
    "# If Running in Google CoLab Connect to Drive"
   ]
  },
  {
   "cell_type": "code",
   "execution_count": null,
   "metadata": {
    "colab": {
     "background_save": true,
     "base_uri": "https://localhost:8080/"
    },
    "executionInfo": {
     "elapsed": 49098,
     "status": "ok",
     "timestamp": 1660161129395,
     "user": {
      "displayName": "Amanda E",
      "userId": "18060553539545466159"
     },
     "user_tz": 360
    },
    "id": "Susqj6W9s83t"
   },
   "outputs": [
    {
     "name": "stdout",
     "output_type": "stream",
     "text": [
      "Mounted at /content/gdrive\n"
     ]
    }
   ],
   "source": [
    "from google.colab import drive\n",
    "drive.mount(\"/content/gdrive\")"
   ]
  },
  {
   "cell_type": "code",
   "execution_count": null,
   "metadata": {
    "id": "EPrylvhqtY2X"
   },
   "outputs": [],
   "source": [
    "import os\n",
    "os.chdir(\"gdrive/MyDrive/Lentil Project/\")"
   ]
  },
  {
   "cell_type": "code",
   "execution_count": null,
   "metadata": {
    "colab": {
     "base_uri": "https://localhost:8080/",
     "height": 35
    },
    "executionInfo": {
     "elapsed": 646,
     "status": "ok",
     "timestamp": 1660161900644,
     "user": {
      "displayName": "Amanda E",
      "userId": "18060553539545466159"
     },
     "user_tz": 360
    },
    "id": "QzzrcP73tmSu",
    "outputId": "30d81b91-7e33-4d89-cdd6-bf819ce6335c"
   },
   "outputs": [
    {
     "data": {
      "application/vnd.google.colaboratory.intrinsic+json": {
       "type": "string"
      },
      "text/plain": [
       "'/content/gdrive/MyDrive/Lentil Project'"
      ]
     },
     "execution_count": 12,
     "metadata": {},
     "output_type": "execute_result"
    }
   ],
   "source": [
    "pwd"
   ]
  },
  {
   "cell_type": "markdown",
   "metadata": {},
   "source": [
    "# If not Running in CoLab, Start Here"
   ]
  },
  {
   "cell_type": "code",
   "execution_count": null,
   "metadata": {
    "id": "v6sg8Dr4tqas"
   },
   "outputs": [],
   "source": [
    "import torch\n",
    "import torchvision\n",
    "\n",
    "import numpy as np\n",
    "import matplotlib.pyplot as plt\n",
    "import torch.nn as nn\n",
    "import torch.nn.functional as F\n",
    "\n",
    "\n",
    "from torch.utils.data.dataloader import DataLoader\n",
    "from torch.utils.data import random_split, ConcatDataset\n",
    "from torch.utils.data import Dataset\n",
    "from torch.utils.data.sampler import SubsetRandomSampler\n",
    "\n",
    "import torch.optim as optim\n",
    "\n",
    "import pandas as pd\n",
    "\n",
    "from torchvision.datasets import CIFAR10\n",
    "\n",
    "from skimage import io\n",
    "\n",
    "%matplotlib inline"
   ]
  },
  {
   "cell_type": "markdown",
   "metadata": {
    "id": "MlnQVNSQubdq"
   },
   "source": [
    "Data Loader"
   ]
  },
  {
   "cell_type": "code",
   "execution_count": null,
   "metadata": {
    "id": "WVptZkSaudQU"
   },
   "outputs": [],
   "source": [
    "class LentilDataset(Dataset): \n",
    "    def __init__(self, paths, transformer): \n",
    "        super(LentilDataset, self).__init__()\n",
    "        self.image_paths = paths\n",
    "        self.transformer = transformer\n",
    "        \n",
    "    def __len__(self): \n",
    "        return len(self.image_paths)\n",
    "    \n",
    "    def __getitem__(self, item): \n",
    "        path = self.image_paths[item]\n",
    "        image = io.imread(path)\n",
    "        \n",
    "        image = self.transformer(image)\n",
    "            \n",
    "        return item, image"
   ]
  },
  {
   "cell_type": "code",
   "execution_count": null,
   "metadata": {
    "id": "lp1nYBcBuk0b"
   },
   "outputs": [],
   "source": [
    "transform = torchvision.transforms.Compose([\n",
    "    torchvision.transforms.ToTensor(),\n",
    "    torchvision.transforms.Resize(size=(256, 256)),\n",
    "    torchvision.transforms.Normalize(mean = [0.485, 0.456, 0.406], std = [0.229, 0.224, 0.225])\n",
    "])"
   ]
  },
  {
   "cell_type": "code",
   "execution_count": null,
   "metadata": {
    "id": "k0wWW8O4uryE"
   },
   "outputs": [],
   "source": [
    "df = pd.read_csv('metadata/real_features.csv')\n",
    "paths = df.Image.tolist()\n",
    "# this may need to be changed depending on where your images are saved\n",
    "for i in range(len(paths)):\n",
    "    paths[i] = paths[i].split(\"/\")[-2]+\"/\"+paths[i].split(\"/\")[-1]"
   ]
  },
  {
   "cell_type": "code",
   "execution_count": null,
   "metadata": {
    "id": "nBQvdSClvDoL"
   },
   "outputs": [],
   "source": [
    "train_paths, valid_paths = np.split(paths, [int(.8*len(df))])"
   ]
  },
  {
   "cell_type": "code",
   "execution_count": null,
   "metadata": {
    "colab": {
     "base_uri": "https://localhost:8080/"
    },
    "executionInfo": {
     "elapsed": 183,
     "status": "ok",
     "timestamp": 1658502762737,
     "user": {
      "displayName": "Amanda E",
      "userId": "18060553539545466159"
     },
     "user_tz": 360
    },
    "id": "x-l2VGIDvhML",
    "outputId": "c7234d44-01be-40ac-a97b-91ab052f5299"
   },
   "outputs": [
    {
     "data": {
      "text/plain": [
       "(1272,)"
      ]
     },
     "execution_count": 9,
     "metadata": {},
     "output_type": "execute_result"
    }
   ],
   "source": [
    "train_dataset = LentilDataset(train_paths, transform)\n",
    "valid_dataset = LentilDataset(valid_paths, transform)\n",
    "train_dataset.image_paths.shape"
   ]
  },
  {
   "cell_type": "code",
   "execution_count": null,
   "metadata": {
    "id": "KgYBcFpLvpnT"
   },
   "outputs": [],
   "source": [
    "# Define dataloaders. \n",
    "BATCH_SIZE = 16\n",
    "\n",
    "train_loader = DataLoader(\n",
    "    train_dataset, \n",
    "    batch_size=BATCH_SIZE, \n",
    "    shuffle=True, \n",
    "    num_workers=0\n",
    ")\n",
    "valid_loader = DataLoader(\n",
    "    valid_dataset, \n",
    "    batch_size=BATCH_SIZE, \n",
    "    shuffle=False,\n",
    "    num_workers=0\n",
    ")"
   ]
  },
  {
   "cell_type": "code",
   "execution_count": null,
   "metadata": {
    "colab": {
     "base_uri": "https://localhost:8080/"
    },
    "executionInfo": {
     "elapsed": 38903,
     "status": "ok",
     "timestamp": 1658502804986,
     "user": {
      "displayName": "Amanda E",
      "userId": "18060553539545466159"
     },
     "user_tz": 360
    },
    "id": "MRXQfv37vtsr",
    "outputId": "ec71a25d-201a-43e4-f3c6-99d2a8531647"
   },
   "outputs": [
    {
     "name": "stdout",
     "output_type": "stream",
     "text": [
      "torch.Size([16, 3, 256, 256])\n",
      "torch.Size([16, 3, 256, 256])\n",
      "torch.Size([16, 3, 256, 256])\n",
      "torch.Size([16, 3, 256, 256])\n",
      "torch.Size([16, 3, 256, 256])\n",
      "torch.Size([16, 3, 256, 256])\n",
      "torch.Size([16, 3, 256, 256])\n",
      "torch.Size([16, 3, 256, 256])\n",
      "torch.Size([16, 3, 256, 256])\n",
      "torch.Size([16, 3, 256, 256])\n",
      "torch.Size([16, 3, 256, 256])\n",
      "torch.Size([16, 3, 256, 256])\n",
      "torch.Size([16, 3, 256, 256])\n",
      "torch.Size([16, 3, 256, 256])\n",
      "torch.Size([16, 3, 256, 256])\n",
      "torch.Size([16, 3, 256, 256])\n",
      "torch.Size([16, 3, 256, 256])\n",
      "torch.Size([16, 3, 256, 256])\n",
      "torch.Size([16, 3, 256, 256])\n",
      "torch.Size([16, 3, 256, 256])\n",
      "torch.Size([16, 3, 256, 256])\n",
      "torch.Size([16, 3, 256, 256])\n",
      "torch.Size([16, 3, 256, 256])\n",
      "torch.Size([16, 3, 256, 256])\n",
      "torch.Size([16, 3, 256, 256])\n",
      "torch.Size([16, 3, 256, 256])\n",
      "torch.Size([16, 3, 256, 256])\n",
      "torch.Size([16, 3, 256, 256])\n",
      "torch.Size([16, 3, 256, 256])\n",
      "torch.Size([16, 3, 256, 256])\n",
      "torch.Size([16, 3, 256, 256])\n",
      "torch.Size([16, 3, 256, 256])\n",
      "torch.Size([16, 3, 256, 256])\n",
      "torch.Size([16, 3, 256, 256])\n",
      "torch.Size([16, 3, 256, 256])\n",
      "torch.Size([16, 3, 256, 256])\n",
      "torch.Size([16, 3, 256, 256])\n",
      "torch.Size([16, 3, 256, 256])\n",
      "torch.Size([16, 3, 256, 256])\n",
      "torch.Size([16, 3, 256, 256])\n",
      "torch.Size([16, 3, 256, 256])\n",
      "torch.Size([16, 3, 256, 256])\n",
      "torch.Size([16, 3, 256, 256])\n",
      "torch.Size([16, 3, 256, 256])\n",
      "torch.Size([16, 3, 256, 256])\n",
      "torch.Size([16, 3, 256, 256])\n",
      "torch.Size([16, 3, 256, 256])\n",
      "torch.Size([16, 3, 256, 256])\n",
      "torch.Size([16, 3, 256, 256])\n",
      "torch.Size([16, 3, 256, 256])\n",
      "torch.Size([16, 3, 256, 256])\n",
      "torch.Size([16, 3, 256, 256])\n",
      "torch.Size([16, 3, 256, 256])\n",
      "torch.Size([16, 3, 256, 256])\n",
      "torch.Size([16, 3, 256, 256])\n",
      "torch.Size([16, 3, 256, 256])\n",
      "torch.Size([16, 3, 256, 256])\n",
      "torch.Size([16, 3, 256, 256])\n",
      "torch.Size([16, 3, 256, 256])\n",
      "torch.Size([16, 3, 256, 256])\n",
      "torch.Size([16, 3, 256, 256])\n",
      "torch.Size([16, 3, 256, 256])\n",
      "torch.Size([16, 3, 256, 256])\n",
      "torch.Size([16, 3, 256, 256])\n",
      "torch.Size([16, 3, 256, 256])\n",
      "torch.Size([16, 3, 256, 256])\n",
      "torch.Size([16, 3, 256, 256])\n",
      "torch.Size([16, 3, 256, 256])\n",
      "torch.Size([16, 3, 256, 256])\n",
      "torch.Size([16, 3, 256, 256])\n",
      "torch.Size([16, 3, 256, 256])\n",
      "torch.Size([16, 3, 256, 256])\n",
      "torch.Size([16, 3, 256, 256])\n",
      "torch.Size([16, 3, 256, 256])\n",
      "torch.Size([16, 3, 256, 256])\n",
      "torch.Size([16, 3, 256, 256])\n",
      "torch.Size([16, 3, 256, 256])\n",
      "torch.Size([16, 3, 256, 256])\n",
      "torch.Size([16, 3, 256, 256])\n",
      "torch.Size([8, 3, 256, 256])\n"
     ]
    }
   ],
   "source": [
    "for data in train_loader:\n",
    "    items, image = data\n",
    "    print(image.shape)"
   ]
  },
  {
   "cell_type": "markdown",
   "metadata": {
    "id": "7iOlntjswQY2"
   },
   "source": [
    "**Model Definition**"
   ]
  },
  {
   "cell_type": "code",
   "execution_count": null,
   "metadata": {
    "colab": {
     "base_uri": "https://localhost:8080/"
    },
    "executionInfo": {
     "elapsed": 4473,
     "status": "ok",
     "timestamp": 1660161158192,
     "user": {
      "displayName": "Amanda E",
      "userId": "18060553539545466159"
     },
     "user_tz": 360
    },
    "id": "JUidQc9Lvwlz",
    "outputId": "2ea783ce-997d-4396-db83-639479109ede"
   },
   "outputs": [
    {
     "name": "stdout",
     "output_type": "stream",
     "text": [
      "Set device to  cuda\n"
     ]
    }
   ],
   "source": [
    "class CNN_Model(nn.Module):\n",
    "    def __init__(self):\n",
    "        super().__init__()\n",
    "        \n",
    "        self.encoder = nn.Sequential(\n",
    "            nn.Conv2d(in_channels=3, out_channels=8, stride=2, padding=1, kernel_size=3),\n",
    "            nn.BatchNorm2d(8),\n",
    "            nn.ReLU(), # Shape : 128 by 128\n",
    "\n",
    "            nn.Conv2d(in_channels=8, out_channels=16, stride=2, padding=1, kernel_size=3),\n",
    "            nn.BatchNorm2d(16),\n",
    "            nn.ReLU(), # Shape : 64 by 64\n",
    "\n",
    "            nn.Conv2d(in_channels=16, out_channels=32, stride=2, padding=1, kernel_size=3),\n",
    "            nn.BatchNorm2d(32),\n",
    "            nn.ReLU(), # Shape : 32 by 32\n",
    "\n",
    "            nn.Conv2d(in_channels=32, out_channels=64, stride=2, padding=1, kernel_size=3),\n",
    "            nn.BatchNorm2d(64),\n",
    "            nn.ReLU(), # Shape : 16 by 16\n",
    "\n",
    "            nn.Conv2d(in_channels=64, out_channels=64, stride=2, padding=1, kernel_size=3),\n",
    "            nn.BatchNorm2d(64),\n",
    "            nn.ReLU(), # Shape : 8 by 8\n",
    "\n",
    "            nn.Flatten(start_dim=1), \n",
    "            nn.Linear(4096, 1024),\n",
    "            nn.ReLU(),\n",
    "            nn.Linear(1024, 128),\n",
    "        )\n",
    "        self.linear_decoder = nn.Sequential(\n",
    "            nn.Linear(128, 1024),\n",
    "            nn.ReLU(),\n",
    "            nn.Linear(1024, 4096),\n",
    "            nn.ReLU()\n",
    "            \n",
    "        )\n",
    "        self.decoder =nn.Sequential(\n",
    "            nn.ConvTranspose2d(in_channels=64, out_channels=64, kernel_size=3, stride=2, padding=1, output_padding=1), \n",
    "            nn.BatchNorm2d(64),\n",
    "            nn.ReLU(), # Shape : 16 by 16\n",
    "\n",
    "            nn.ConvTranspose2d(in_channels=64, out_channels=32, kernel_size=3, stride=2, padding=1, output_padding=1), \n",
    "            nn.BatchNorm2d(32),\n",
    "            nn.ReLU(), # Shape : 32 by 32\n",
    "\n",
    "            nn.ConvTranspose2d(in_channels=32, out_channels=16, kernel_size=3, stride=2, padding=1, output_padding=1), \n",
    "            nn.BatchNorm2d(16),\n",
    "            nn.ReLU(), # Shape : 64 by 64\n",
    "\n",
    "            nn.ConvTranspose2d(in_channels=16, out_channels=8, kernel_size=3, stride=2, padding=1, output_padding=1), \n",
    "            nn.BatchNorm2d(8),\n",
    "            nn.ReLU(), # Shape : 128 by 128\n",
    "\n",
    "            nn.ConvTranspose2d(in_channels=8, out_channels=3, kernel_size=3, stride=2, padding=1, output_padding=1), # Shape : 256 by 256\n",
    "            \n",
    "            nn.Sigmoid() # To change the output range of the output images into a normal range between 0 and 1.  \n",
    "        )\n",
    "        \n",
    "    def forward(self, x):\n",
    "        encoded = self.encoder(x)\n",
    "        linearly_decoded = self.linear_decoder(encoded)\n",
    "        linearly_decoded = linearly_decoded.view(-1, 64, 8, 8) # Reshape from linear to conv2d format.\n",
    "        decoded = self.decoder(linearly_decoded)\n",
    "        return decoded\n",
    "    \n",
    "device = torch.device('cuda' if torch.cuda.is_available() else 'cpu')\n",
    "print('Set device to ', device)\n",
    "model = CNN_Model()\n",
    "model = model.to(device)"
   ]
  },
  {
   "cell_type": "code",
   "execution_count": null,
   "metadata": {
    "colab": {
     "base_uri": "https://localhost:8080/"
    },
    "executionInfo": {
     "elapsed": 6,
     "status": "ok",
     "timestamp": 1658502810955,
     "user": {
      "displayName": "Amanda E",
      "userId": "18060553539545466159"
     },
     "user_tz": 360
    },
    "id": "6b501MwhwXlT",
    "outputId": "09ea0a57-5dfb-4137-848e-aa7090c40080"
   },
   "outputs": [
    {
     "name": "stdout",
     "output_type": "stream",
     "text": [
      "CNN_Model(\n",
      "  (encoder): Sequential(\n",
      "    (0): Conv2d(3, 8, kernel_size=(3, 3), stride=(2, 2), padding=(1, 1))\n",
      "    (1): BatchNorm2d(8, eps=1e-05, momentum=0.1, affine=True, track_running_stats=True)\n",
      "    (2): ReLU()\n",
      "    (3): Conv2d(8, 16, kernel_size=(3, 3), stride=(2, 2), padding=(1, 1))\n",
      "    (4): BatchNorm2d(16, eps=1e-05, momentum=0.1, affine=True, track_running_stats=True)\n",
      "    (5): ReLU()\n",
      "    (6): Conv2d(16, 32, kernel_size=(3, 3), stride=(2, 2), padding=(1, 1))\n",
      "    (7): BatchNorm2d(32, eps=1e-05, momentum=0.1, affine=True, track_running_stats=True)\n",
      "    (8): ReLU()\n",
      "    (9): Conv2d(32, 64, kernel_size=(3, 3), stride=(2, 2), padding=(1, 1))\n",
      "    (10): BatchNorm2d(64, eps=1e-05, momentum=0.1, affine=True, track_running_stats=True)\n",
      "    (11): ReLU()\n",
      "    (12): Conv2d(64, 64, kernel_size=(3, 3), stride=(2, 2), padding=(1, 1))\n",
      "    (13): BatchNorm2d(64, eps=1e-05, momentum=0.1, affine=True, track_running_stats=True)\n",
      "    (14): ReLU()\n",
      "    (15): Flatten(start_dim=1, end_dim=-1)\n",
      "    (16): Linear(in_features=4096, out_features=1024, bias=True)\n",
      "    (17): ReLU()\n",
      "    (18): Linear(in_features=1024, out_features=128, bias=True)\n",
      "  )\n",
      "  (linear_decoder): Sequential(\n",
      "    (0): Linear(in_features=128, out_features=1024, bias=True)\n",
      "    (1): ReLU()\n",
      "    (2): Linear(in_features=1024, out_features=4096, bias=True)\n",
      "    (3): ReLU()\n",
      "  )\n",
      "  (decoder): Sequential(\n",
      "    (0): ConvTranspose2d(64, 64, kernel_size=(3, 3), stride=(2, 2), padding=(1, 1), output_padding=(1, 1))\n",
      "    (1): BatchNorm2d(64, eps=1e-05, momentum=0.1, affine=True, track_running_stats=True)\n",
      "    (2): ReLU()\n",
      "    (3): ConvTranspose2d(64, 32, kernel_size=(3, 3), stride=(2, 2), padding=(1, 1), output_padding=(1, 1))\n",
      "    (4): BatchNorm2d(32, eps=1e-05, momentum=0.1, affine=True, track_running_stats=True)\n",
      "    (5): ReLU()\n",
      "    (6): ConvTranspose2d(32, 16, kernel_size=(3, 3), stride=(2, 2), padding=(1, 1), output_padding=(1, 1))\n",
      "    (7): BatchNorm2d(16, eps=1e-05, momentum=0.1, affine=True, track_running_stats=True)\n",
      "    (8): ReLU()\n",
      "    (9): ConvTranspose2d(16, 8, kernel_size=(3, 3), stride=(2, 2), padding=(1, 1), output_padding=(1, 1))\n",
      "    (10): BatchNorm2d(8, eps=1e-05, momentum=0.1, affine=True, track_running_stats=True)\n",
      "    (11): ReLU()\n",
      "    (12): ConvTranspose2d(8, 3, kernel_size=(3, 3), stride=(2, 2), padding=(1, 1), output_padding=(1, 1))\n",
      "    (13): Sigmoid()\n",
      "  )\n",
      ")\n"
     ]
    }
   ],
   "source": [
    "print(model)"
   ]
  },
  {
   "cell_type": "code",
   "execution_count": null,
   "metadata": {
    "id": "Ygvi709AzpWS"
   },
   "outputs": [],
   "source": [
    "criterion = nn.L1Loss()\n",
    "optimizer = optim.Adam(model.parameters(), lr=0.001, weight_decay=1e-5)"
   ]
  },
  {
   "cell_type": "code",
   "execution_count": null,
   "metadata": {
    "colab": {
     "base_uri": "https://localhost:8080/"
    },
    "executionInfo": {
     "elapsed": 1235757,
     "status": "ok",
     "timestamp": 1658247428012,
     "user": {
      "displayName": "Amanda E",
      "userId": "18060553539545466159"
     },
     "user_tz": 360
    },
    "id": "eIfR68PFzsVZ",
    "outputId": "e9c674c5-3aba-440e-834e-4050f2eade80"
   },
   "outputs": [
    {
     "name": "stdout",
     "output_type": "stream",
     "text": [
      "Start\n",
      "Epoch: 0\n",
      "Train --> Epoch: 0, Loss: 2.1255135610699654.\n",
      "Valid --> Epoch: 0, Loss: 1.6213488042354585.\n",
      "--------------------------------------------------\n",
      "Epoch: 1\n",
      "Train --> Epoch: 1, Loss: 1.7115750074386598.\n",
      "Valid --> Epoch: 1, Loss: 1.442501026391983.\n",
      "--------------------------------------------------\n",
      "Epoch: 2\n",
      "Train --> Epoch: 2, Loss: 1.5442224696278573.\n",
      "Valid --> Epoch: 2, Loss: 1.3220978736877442.\n",
      "--------------------------------------------------\n",
      "Epoch: 3\n",
      "Train --> Epoch: 3, Loss: 1.4696049481630324.\n",
      "Valid --> Epoch: 3, Loss: 1.284546172618866.\n",
      "--------------------------------------------------\n",
      "Epoch: 4\n",
      "Train --> Epoch: 4, Loss: 1.432378923892975.\n",
      "Valid --> Epoch: 4, Loss: 1.2435095816850663.\n",
      "--------------------------------------------------\n",
      "Epoch: 5\n",
      "Train --> Epoch: 5, Loss: 1.4107222616672517.\n",
      "Valid --> Epoch: 5, Loss: 1.238005194067955.\n",
      "--------------------------------------------------\n",
      "Epoch: 6\n",
      "Train --> Epoch: 6, Loss: 1.3987610965967179.\n",
      "Valid --> Epoch: 6, Loss: 1.228001630306244.\n",
      "--------------------------------------------------\n",
      "Epoch: 7\n",
      "Train --> Epoch: 7, Loss: 1.3926156431436538.\n",
      "Valid --> Epoch: 7, Loss: 1.2246577262878418.\n",
      "--------------------------------------------------\n",
      "Epoch: 8\n",
      "Train --> Epoch: 8, Loss: 1.386005598306656.\n",
      "Valid --> Epoch: 8, Loss: 1.2199259042739867.\n",
      "--------------------------------------------------\n",
      "Epoch: 9\n",
      "Train --> Epoch: 9, Loss: 1.3842664048075677.\n",
      "Valid --> Epoch: 9, Loss: 1.215509682893753.\n",
      "--------------------------------------------------\n",
      "Epoch: 10\n",
      "Train --> Epoch: 10, Loss: 1.381415194272995.\n",
      "Valid --> Epoch: 10, Loss: 1.2151227414608001.\n",
      "--------------------------------------------------\n",
      "Epoch: 11\n",
      "Train --> Epoch: 11, Loss: 1.3795874208211898.\n",
      "Valid --> Epoch: 11, Loss: 1.2134656190872193.\n",
      "--------------------------------------------------\n",
      "Epoch: 12\n",
      "Train --> Epoch: 12, Loss: 1.3766627728939056.\n",
      "Valid --> Epoch: 12, Loss: 1.2106392800807952.\n",
      "--------------------------------------------------\n",
      "Epoch: 13\n",
      "Train --> Epoch: 13, Loss: 1.375531479716301.\n",
      "Valid --> Epoch: 13, Loss: 1.2126133650541306.\n",
      "--------------------------------------------------\n",
      "Epoch: 14\n",
      "Train --> Epoch: 14, Loss: 1.3747274562716485.\n",
      "Valid --> Epoch: 14, Loss: 1.2129090517759322.\n",
      "--------------------------------------------------\n",
      "Epoch: 15\n",
      "Train --> Epoch: 15, Loss: 1.3719079434871673.\n",
      "Valid --> Epoch: 15, Loss: 1.2101030021905899.\n",
      "--------------------------------------------------\n",
      "Epoch: 16\n",
      "Train --> Epoch: 16, Loss: 1.372672252357006.\n",
      "Valid --> Epoch: 16, Loss: 1.2097397178411484.\n",
      "--------------------------------------------------\n",
      "Epoch: 17\n",
      "Train --> Epoch: 17, Loss: 1.3715894117951393.\n",
      "Valid --> Epoch: 17, Loss: 1.2066732674837113.\n",
      "--------------------------------------------------\n",
      "Epoch: 18\n",
      "Train --> Epoch: 18, Loss: 1.3702996090054511.\n",
      "Valid --> Epoch: 18, Loss: 1.2094070762395859.\n",
      "--------------------------------------------------\n",
      "Epoch: 19\n",
      "Train --> Epoch: 19, Loss: 1.3706155598163605.\n",
      "Valid --> Epoch: 19, Loss: 1.2049651473760605.\n",
      "--------------------------------------------------\n",
      "Epoch: 20\n",
      "Train --> Epoch: 20, Loss: 1.3688443079590797.\n",
      "Valid --> Epoch: 20, Loss: 1.2066081583499908.\n",
      "--------------------------------------------------\n",
      "Epoch: 21\n",
      "Train --> Epoch: 21, Loss: 1.368308824300766.\n",
      "Valid --> Epoch: 21, Loss: 1.2050551027059555.\n",
      "--------------------------------------------------\n",
      "Epoch: 22\n",
      "Train --> Epoch: 22, Loss: 1.3669572725892067.\n",
      "Valid --> Epoch: 22, Loss: 1.2050344675779343.\n",
      "--------------------------------------------------\n",
      "Epoch: 23\n",
      "Train --> Epoch: 23, Loss: 1.3660321608185768.\n",
      "Valid --> Epoch: 23, Loss: 1.2019374161958694.\n",
      "--------------------------------------------------\n",
      "Epoch: 24\n",
      "Train --> Epoch: 24, Loss: 1.3661578238010406.\n",
      "Valid --> Epoch: 24, Loss: 1.2059444904327392.\n",
      "--------------------------------------------------\n",
      "Epoch: 25\n",
      "Train --> Epoch: 25, Loss: 1.3669163122773171.\n",
      "Valid --> Epoch: 25, Loss: 1.2026156902313232.\n",
      "--------------------------------------------------\n",
      "Epoch: 26\n",
      "Train --> Epoch: 26, Loss: 1.3664402857422828.\n",
      "Valid --> Epoch: 26, Loss: 1.202796709537506.\n",
      "--------------------------------------------------\n",
      "Epoch: 27\n",
      "Train --> Epoch: 27, Loss: 1.3677640408277512.\n",
      "Valid --> Epoch: 27, Loss: 1.2044518738985062.\n",
      "--------------------------------------------------\n",
      "Epoch: 28\n",
      "Train --> Epoch: 28, Loss: 1.3665637388825416.\n",
      "Valid --> Epoch: 28, Loss: 1.2000515758991241.\n",
      "--------------------------------------------------\n",
      "Epoch: 29\n",
      "Train --> Epoch: 29, Loss: 1.3625788897275926.\n",
      "Valid --> Epoch: 29, Loss: 1.1991769164800643.\n",
      "--------------------------------------------------\n",
      "Epoch: 30\n",
      "Train --> Epoch: 30, Loss: 1.3619469970464706.\n",
      "Valid --> Epoch: 30, Loss: 1.2015955030918122.\n",
      "--------------------------------------------------\n",
      "Epoch: 31\n",
      "Train --> Epoch: 31, Loss: 1.36266937404871.\n",
      "Valid --> Epoch: 31, Loss: 1.1993289172649384.\n",
      "--------------------------------------------------\n",
      "Epoch: 32\n",
      "Train --> Epoch: 32, Loss: 1.3621870934963227.\n",
      "Valid --> Epoch: 32, Loss: 1.1988199055194855.\n",
      "--------------------------------------------------\n",
      "Epoch: 33\n",
      "Train --> Epoch: 33, Loss: 1.361189705133438.\n",
      "Valid --> Epoch: 33, Loss: 1.2264675140380858.\n",
      "--------------------------------------------------\n",
      "Epoch: 34\n",
      "Train --> Epoch: 34, Loss: 1.3620381459593773.\n",
      "Valid --> Epoch: 34, Loss: 1.1992794394493103.\n",
      "--------------------------------------------------\n",
      "Epoch: 35\n",
      "Train --> Epoch: 35, Loss: 1.360042642056942.\n",
      "Valid --> Epoch: 35, Loss: 1.1964079588651657.\n",
      "--------------------------------------------------\n",
      "Epoch: 36\n",
      "Train --> Epoch: 36, Loss: 1.3644324257969855.\n",
      "Valid --> Epoch: 36, Loss: 1.197541171312332.\n",
      "--------------------------------------------------\n",
      "Epoch: 37\n",
      "Train --> Epoch: 37, Loss: 1.3646238014101981.\n",
      "Valid --> Epoch: 37, Loss: 1.2043671011924744.\n",
      "--------------------------------------------------\n",
      "Epoch: 38\n",
      "Train --> Epoch: 38, Loss: 1.364952164888382.\n",
      "Valid --> Epoch: 38, Loss: 1.1933099776506424.\n",
      "--------------------------------------------------\n",
      "Epoch: 39\n",
      "Train --> Epoch: 39, Loss: 1.354669888317585.\n",
      "Valid --> Epoch: 39, Loss: 1.1856426656246186.\n",
      "--------------------------------------------------\n",
      "Epoch: 40\n",
      "Train --> Epoch: 40, Loss: 1.3522054165601731.\n",
      "Valid --> Epoch: 40, Loss: 1.1886156678199769.\n",
      "--------------------------------------------------\n",
      "Epoch: 41\n",
      "Train --> Epoch: 41, Loss: 1.349723745882511.\n",
      "Valid --> Epoch: 41, Loss: 1.1784422725439072.\n",
      "--------------------------------------------------\n",
      "Epoch: 42\n",
      "Train --> Epoch: 42, Loss: 1.3432450249791146.\n",
      "Valid --> Epoch: 42, Loss: 1.1739949226379394.\n",
      "--------------------------------------------------\n",
      "Epoch: 43\n",
      "Train --> Epoch: 43, Loss: 1.345137670636177.\n",
      "Valid --> Epoch: 43, Loss: 1.1735022693872452.\n",
      "--------------------------------------------------\n",
      "Epoch: 44\n",
      "Train --> Epoch: 44, Loss: 1.3414540573954583.\n",
      "Valid --> Epoch: 44, Loss: 1.1761529684066772.\n",
      "--------------------------------------------------\n",
      "Epoch: 45\n",
      "Train --> Epoch: 45, Loss: 1.3395621582865715.\n",
      "Valid --> Epoch: 45, Loss: 1.1692870497703551.\n",
      "--------------------------------------------------\n",
      "Epoch: 46\n",
      "Train --> Epoch: 46, Loss: 1.3361555188894272.\n",
      "Valid --> Epoch: 46, Loss: 1.1647971749305726.\n",
      "--------------------------------------------------\n",
      "Epoch: 47\n",
      "Train --> Epoch: 47, Loss: 1.3375338956713676.\n",
      "Valid --> Epoch: 47, Loss: 1.1645447701215743.\n",
      "--------------------------------------------------\n",
      "Epoch: 48\n",
      "Train --> Epoch: 48, Loss: 1.3335344523191452.\n",
      "Valid --> Epoch: 48, Loss: 1.163239249587059.\n",
      "--------------------------------------------------\n",
      "Epoch: 49\n",
      "Train --> Epoch: 49, Loss: 1.3326292350888251.\n",
      "Valid --> Epoch: 49, Loss: 1.1613184183835983.\n",
      "--------------------------------------------------\n",
      "Finished.\n"
     ]
    }
   ],
   "source": [
    "MAXEPOCH = 25\n",
    "\n",
    "train_loss_tracking = []\n",
    "vlaid_loss_tracking = []\n",
    "\n",
    "print(\"Start\")\n",
    "for epoch in range(MAXEPOCH):\n",
    "    print(\"Epoch:\", epoch)\n",
    "    # Change the development mode to the training mode. \n",
    "    model.train()\n",
    "    running_loss = 0.0\n",
    "    \n",
    "    running_steps = 0\n",
    "    for i, data in enumerate(train_loader, 0):\n",
    "        _, images = data\n",
    "        images=images.to(device)\n",
    "\n",
    "        optimizer.zero_grad()\n",
    "\n",
    "        outputs = model(images)\n",
    "\n",
    "        loss = criterion(outputs, images.clone())\n",
    "        loss.backward()\n",
    "        optimizer.step()\n",
    "\n",
    "        running_loss += loss.item()\n",
    "\n",
    "        running_steps += 1\n",
    "    train_loss = running_loss / running_steps\n",
    "    train_loss_tracking.append(train_loss)\n",
    "\n",
    "    print(f'Train --> Epoch: {epoch}, Loss: {train_loss}.')\n",
    "\n",
    "    # Evaluate the model for this epoch. \n",
    "    # Change the development mode to the evaluating mode. \n",
    "    model.eval()\n",
    "    with torch.no_grad():\n",
    "        running_loss = 0.0\n",
    "\n",
    "        running_steps = 0\n",
    "        for i, data in enumerate(valid_loader, 0):\n",
    "            _, features = data\n",
    "            features=features.to(device)\n",
    "\n",
    "            outputs = model(features)\n",
    "            loss = criterion(outputs, features)\n",
    "\n",
    "            running_loss += loss.cpu().item()\n",
    "  \n",
    "            running_steps += 1\n",
    "        valid_loss = running_loss / running_steps\n",
    "        vlaid_loss_tracking.append(valid_loss)\n",
    "\n",
    "        print(f'Valid --> Epoch: {epoch}, Loss: {valid_loss}.')\n",
    "        print('-' * 50)\n",
    "        \n",
    "print('Finished.')"
   ]
  },
  {
   "cell_type": "markdown",
   "metadata": {
    "id": "cu_bD4uO3XM8"
   },
   "source": [
    "**Visualize the Loss Over Different Epochs**"
   ]
  },
  {
   "cell_type": "code",
   "execution_count": null,
   "metadata": {
    "colab": {
     "base_uri": "https://localhost:8080/",
     "height": 295
    },
    "executionInfo": {
     "elapsed": 493,
     "status": "ok",
     "timestamp": 1658247430630,
     "user": {
      "displayName": "Amanda E",
      "userId": "18060553539545466159"
     },
     "user_tz": 360
    },
    "id": "3ZsGqAtuzvia",
    "outputId": "6753ed83-eaec-48f5-abca-a3cbc0792e07"
   },
   "outputs": [
    {
     "data": {
      "image/png": "[encoded data removed]",
      "text/plain": [
       "<Figure size 432x288 with 1 Axes>"
      ]
     },
     "metadata": {},
     "output_type": "display_data"
    }
   ],
   "source": [
    "plt.plot(range(len(train_loss_tracking)), train_loss_tracking, 'r-', label='Train Loss')\n",
    "plt.plot(range(len(vlaid_loss_tracking)), vlaid_loss_tracking, 'g-', label='Valid Loss')\n",
    "plt.title('Loss')\n",
    "plt.xlabel('Epochs')\n",
    "plt.ylabel('Loss Values')\n",
    "plt.legend()\n",
    "plt.show()"
   ]
  },
  {
   "cell_type": "code",
   "execution_count": null,
   "metadata": {
    "id": "YD7FlWiZ2-18"
   },
   "outputs": [],
   "source": [
    "# change to where you want model saved\n",
    "PATH = 'CNNModel1/CNN1.pth'\n",
    "torch.save(model.state_dict(), PATH)"
   ]
  },
  {
   "cell_type": "code",
   "execution_count": null,
   "metadata": {
    "id": "IKetdLlO3C_p"
   },
   "outputs": [],
   "source": [
    "# Load the best saved model. \n",
    "checkpoint = torch.load('CNNModel1/CNN1.pth', map_location=torch.device(str(device)))\n",
    "# Define the base model.\n",
    "model = CNN_Model()\n",
    "# Load the weights. \n",
    "model.load_state_dict(checkpoint)\n",
    "model = model.to(device)\n",
    "model = model.eval()"
   ]
  },
  {
   "cell_type": "code",
   "execution_count": null,
   "metadata": {
    "colab": {
     "base_uri": "https://localhost:8080/",
     "height": 389
    },
    "executionInfo": {
     "elapsed": 2118,
     "status": "error",
     "timestamp": 1660161845702,
     "user": {
      "displayName": "Amanda E",
      "userId": "18060553539545466159"
     },
     "user_tz": 360
    },
    "id": "eGaxYEYF3QsB",
    "outputId": "7cf563fe-8d0b-40cc-c0ac-f3712e9a63b5"
   },
   "outputs": [
    {
     "ename": "FileNotFoundError",
     "evalue": "ignored",
     "output_type": "error",
     "traceback": [
      "\u001b[0;31m---------------------------------------------------------------------------\u001b[0m",
      "\u001b[0;31mFileNotFoundError\u001b[0m                         Traceback (most recent call last)",
      "\u001b[0;32m<ipython-input-11-1b2046d60d3a>\u001b[0m in \u001b[0;36m<module>\u001b[0;34m()\u001b[0m\n\u001b[1;32m     19\u001b[0m \u001b[0moutput_items\u001b[0m \u001b[0;34m=\u001b[0m \u001b[0;34m[\u001b[0m\u001b[0;34m]\u001b[0m\u001b[0;34m\u001b[0m\u001b[0;34m\u001b[0m\u001b[0m\n\u001b[1;32m     20\u001b[0m \u001b[0;32mwith\u001b[0m \u001b[0mtorch\u001b[0m\u001b[0;34m.\u001b[0m\u001b[0mno_grad\u001b[0m\u001b[0;34m(\u001b[0m\u001b[0;34m)\u001b[0m\u001b[0;34m:\u001b[0m\u001b[0;34m\u001b[0m\u001b[0;34m\u001b[0m\u001b[0m\n\u001b[0;32m---> 21\u001b[0;31m     \u001b[0;32mfor\u001b[0m \u001b[0mi\u001b[0m\u001b[0;34m,\u001b[0m \u001b[0mdata\u001b[0m \u001b[0;32min\u001b[0m \u001b[0menumerate\u001b[0m\u001b[0;34m(\u001b[0m\u001b[0mimage_loader\u001b[0m\u001b[0;34m)\u001b[0m\u001b[0;34m:\u001b[0m\u001b[0;34m\u001b[0m\u001b[0;34m\u001b[0m\u001b[0m\n\u001b[0m\u001b[1;32m     22\u001b[0m         \u001b[0mprint\u001b[0m\u001b[0;34m(\u001b[0m\u001b[0mi\u001b[0m\u001b[0;34m)\u001b[0m\u001b[0;34m\u001b[0m\u001b[0;34m\u001b[0m\u001b[0m\n\u001b[1;32m     23\u001b[0m         \u001b[0mitems\u001b[0m\u001b[0;34m,\u001b[0m \u001b[0mimages\u001b[0m \u001b[0;34m=\u001b[0m \u001b[0mdata\u001b[0m\u001b[0;34m\u001b[0m\u001b[0;34m\u001b[0m\u001b[0m\n",
      "\u001b[0;32m/usr/local/lib/python3.7/dist-packages/torch/utils/data/dataloader.py\u001b[0m in \u001b[0;36m__next__\u001b[0;34m(self)\u001b[0m\n\u001b[1;32m    650\u001b[0m                 \u001b[0;31m# TODO(https://github.com/pytorch/pytorch/issues/76750)\u001b[0m\u001b[0;34m\u001b[0m\u001b[0;34m\u001b[0m\u001b[0;34m\u001b[0m\u001b[0m\n\u001b[1;32m    651\u001b[0m                 \u001b[0mself\u001b[0m\u001b[0;34m.\u001b[0m\u001b[0m_reset\u001b[0m\u001b[0;34m(\u001b[0m\u001b[0;34m)\u001b[0m  \u001b[0;31m# type: ignore[call-arg]\u001b[0m\u001b[0;34m\u001b[0m\u001b[0;34m\u001b[0m\u001b[0m\n\u001b[0;32m--> 652\u001b[0;31m             \u001b[0mdata\u001b[0m \u001b[0;34m=\u001b[0m \u001b[0mself\u001b[0m\u001b[0;34m.\u001b[0m\u001b[0m_next_data\u001b[0m\u001b[0;34m(\u001b[0m\u001b[0;34m)\u001b[0m\u001b[0;34m\u001b[0m\u001b[0;34m\u001b[0m\u001b[0m\n\u001b[0m\u001b[1;32m    653\u001b[0m             \u001b[0mself\u001b[0m\u001b[0;34m.\u001b[0m\u001b[0m_num_yielded\u001b[0m \u001b[0;34m+=\u001b[0m \u001b[0;36m1\u001b[0m\u001b[0;34m\u001b[0m\u001b[0;34m\u001b[0m\u001b[0m\n\u001b[1;32m    654\u001b[0m             \u001b[0;32mif\u001b[0m \u001b[0mself\u001b[0m\u001b[0;34m.\u001b[0m\u001b[0m_dataset_kind\u001b[0m \u001b[0;34m==\u001b[0m \u001b[0m_DatasetKind\u001b[0m\u001b[0;34m.\u001b[0m\u001b[0mIterable\u001b[0m \u001b[0;32mand\u001b[0m\u001b[0;31m \u001b[0m\u001b[0;31m\\\u001b[0m\u001b[0;34m\u001b[0m\u001b[0;34m\u001b[0m\u001b[0m\n",
      "\u001b[0;32m/usr/local/lib/python3.7/dist-packages/torch/utils/data/dataloader.py\u001b[0m in \u001b[0;36m_next_data\u001b[0;34m(self)\u001b[0m\n\u001b[1;32m    690\u001b[0m     \u001b[0;32mdef\u001b[0m \u001b[0m_next_data\u001b[0m\u001b[0;34m(\u001b[0m\u001b[0mself\u001b[0m\u001b[0;34m)\u001b[0m\u001b[0;34m:\u001b[0m\u001b[0;34m\u001b[0m\u001b[0;34m\u001b[0m\u001b[0m\n\u001b[1;32m    691\u001b[0m         \u001b[0mindex\u001b[0m \u001b[0;34m=\u001b[0m \u001b[0mself\u001b[0m\u001b[0;34m.\u001b[0m\u001b[0m_next_index\u001b[0m\u001b[0;34m(\u001b[0m\u001b[0;34m)\u001b[0m  \u001b[0;31m# may raise StopIteration\u001b[0m\u001b[0;34m\u001b[0m\u001b[0;34m\u001b[0m\u001b[0m\n\u001b[0;32m--> 692\u001b[0;31m         \u001b[0mdata\u001b[0m \u001b[0;34m=\u001b[0m \u001b[0mself\u001b[0m\u001b[0;34m.\u001b[0m\u001b[0m_dataset_fetcher\u001b[0m\u001b[0;34m.\u001b[0m\u001b[0mfetch\u001b[0m\u001b[0;34m(\u001b[0m\u001b[0mindex\u001b[0m\u001b[0;34m)\u001b[0m  \u001b[0;31m# may raise StopIteration\u001b[0m\u001b[0;34m\u001b[0m\u001b[0;34m\u001b[0m\u001b[0m\n\u001b[0m\u001b[1;32m    693\u001b[0m         \u001b[0;32mif\u001b[0m \u001b[0mself\u001b[0m\u001b[0;34m.\u001b[0m\u001b[0m_pin_memory\u001b[0m\u001b[0;34m:\u001b[0m\u001b[0;34m\u001b[0m\u001b[0;34m\u001b[0m\u001b[0m\n\u001b[1;32m    694\u001b[0m             \u001b[0mdata\u001b[0m \u001b[0;34m=\u001b[0m \u001b[0m_utils\u001b[0m\u001b[0;34m.\u001b[0m\u001b[0mpin_memory\u001b[0m\u001b[0;34m.\u001b[0m\u001b[0mpin_memory\u001b[0m\u001b[0;34m(\u001b[0m\u001b[0mdata\u001b[0m\u001b[0;34m,\u001b[0m \u001b[0mself\u001b[0m\u001b[0;34m.\u001b[0m\u001b[0m_pin_memory_device\u001b[0m\u001b[0;34m)\u001b[0m\u001b[0;34m\u001b[0m\u001b[0;34m\u001b[0m\u001b[0m\n",
      "\u001b[0;32m/usr/local/lib/python3.7/dist-packages/torch/utils/data/_utils/fetch.py\u001b[0m in \u001b[0;36mfetch\u001b[0;34m(self, possibly_batched_index)\u001b[0m\n\u001b[1;32m     47\u001b[0m     \u001b[0;32mdef\u001b[0m \u001b[0mfetch\u001b[0m\u001b[0;34m(\u001b[0m\u001b[0mself\u001b[0m\u001b[0;34m,\u001b[0m \u001b[0mpossibly_batched_index\u001b[0m\u001b[0;34m)\u001b[0m\u001b[0;34m:\u001b[0m\u001b[0;34m\u001b[0m\u001b[0;34m\u001b[0m\u001b[0m\n\u001b[1;32m     48\u001b[0m         \u001b[0;32mif\u001b[0m \u001b[0mself\u001b[0m\u001b[0;34m.\u001b[0m\u001b[0mauto_collation\u001b[0m\u001b[0;34m:\u001b[0m\u001b[0;34m\u001b[0m\u001b[0;34m\u001b[0m\u001b[0m\n\u001b[0;32m---> 49\u001b[0;31m             \u001b[0mdata\u001b[0m \u001b[0;34m=\u001b[0m \u001b[0;34m[\u001b[0m\u001b[0mself\u001b[0m\u001b[0;34m.\u001b[0m\u001b[0mdataset\u001b[0m\u001b[0;34m[\u001b[0m\u001b[0midx\u001b[0m\u001b[0;34m]\u001b[0m \u001b[0;32mfor\u001b[0m \u001b[0midx\u001b[0m \u001b[0;32min\u001b[0m \u001b[0mpossibly_batched_index\u001b[0m\u001b[0;34m]\u001b[0m\u001b[0;34m\u001b[0m\u001b[0;34m\u001b[0m\u001b[0m\n\u001b[0m\u001b[1;32m     50\u001b[0m         \u001b[0;32melse\u001b[0m\u001b[0;34m:\u001b[0m\u001b[0;34m\u001b[0m\u001b[0;34m\u001b[0m\u001b[0m\n\u001b[1;32m     51\u001b[0m             \u001b[0mdata\u001b[0m \u001b[0;34m=\u001b[0m \u001b[0mself\u001b[0m\u001b[0;34m.\u001b[0m\u001b[0mdataset\u001b[0m\u001b[0;34m[\u001b[0m\u001b[0mpossibly_batched_index\u001b[0m\u001b[0;34m]\u001b[0m\u001b[0;34m\u001b[0m\u001b[0;34m\u001b[0m\u001b[0m\n",
      "\u001b[0;32m/usr/local/lib/python3.7/dist-packages/torch/utils/data/_utils/fetch.py\u001b[0m in \u001b[0;36m<listcomp>\u001b[0;34m(.0)\u001b[0m\n\u001b[1;32m     47\u001b[0m     \u001b[0;32mdef\u001b[0m \u001b[0mfetch\u001b[0m\u001b[0;34m(\u001b[0m\u001b[0mself\u001b[0m\u001b[0;34m,\u001b[0m \u001b[0mpossibly_batched_index\u001b[0m\u001b[0;34m)\u001b[0m\u001b[0;34m:\u001b[0m\u001b[0;34m\u001b[0m\u001b[0;34m\u001b[0m\u001b[0m\n\u001b[1;32m     48\u001b[0m         \u001b[0;32mif\u001b[0m \u001b[0mself\u001b[0m\u001b[0;34m.\u001b[0m\u001b[0mauto_collation\u001b[0m\u001b[0;34m:\u001b[0m\u001b[0;34m\u001b[0m\u001b[0;34m\u001b[0m\u001b[0m\n\u001b[0;32m---> 49\u001b[0;31m             \u001b[0mdata\u001b[0m \u001b[0;34m=\u001b[0m \u001b[0;34m[\u001b[0m\u001b[0mself\u001b[0m\u001b[0;34m.\u001b[0m\u001b[0mdataset\u001b[0m\u001b[0;34m[\u001b[0m\u001b[0midx\u001b[0m\u001b[0;34m]\u001b[0m \u001b[0;32mfor\u001b[0m \u001b[0midx\u001b[0m \u001b[0;32min\u001b[0m \u001b[0mpossibly_batched_index\u001b[0m\u001b[0;34m]\u001b[0m\u001b[0;34m\u001b[0m\u001b[0;34m\u001b[0m\u001b[0m\n\u001b[0m\u001b[1;32m     50\u001b[0m         \u001b[0;32melse\u001b[0m\u001b[0;34m:\u001b[0m\u001b[0;34m\u001b[0m\u001b[0;34m\u001b[0m\u001b[0m\n\u001b[1;32m     51\u001b[0m             \u001b[0mdata\u001b[0m \u001b[0;34m=\u001b[0m \u001b[0mself\u001b[0m\u001b[0;34m.\u001b[0m\u001b[0mdataset\u001b[0m\u001b[0;34m[\u001b[0m\u001b[0mpossibly_batched_index\u001b[0m\u001b[0;34m]\u001b[0m\u001b[0;34m\u001b[0m\u001b[0;34m\u001b[0m\u001b[0m\n",
      "\u001b[0;32m<ipython-input-5-388f063c6e9e>\u001b[0m in \u001b[0;36m__getitem__\u001b[0;34m(self, item)\u001b[0m\n\u001b[1;32m     10\u001b[0m     \u001b[0;32mdef\u001b[0m \u001b[0m__getitem__\u001b[0m\u001b[0;34m(\u001b[0m\u001b[0mself\u001b[0m\u001b[0;34m,\u001b[0m \u001b[0mitem\u001b[0m\u001b[0;34m)\u001b[0m\u001b[0;34m:\u001b[0m\u001b[0;34m\u001b[0m\u001b[0;34m\u001b[0m\u001b[0m\n\u001b[1;32m     11\u001b[0m         \u001b[0mpath\u001b[0m \u001b[0;34m=\u001b[0m \u001b[0mself\u001b[0m\u001b[0;34m.\u001b[0m\u001b[0mimage_paths\u001b[0m\u001b[0;34m[\u001b[0m\u001b[0mitem\u001b[0m\u001b[0;34m]\u001b[0m\u001b[0;34m\u001b[0m\u001b[0;34m\u001b[0m\u001b[0m\n\u001b[0;32m---> 12\u001b[0;31m         \u001b[0mimage\u001b[0m \u001b[0;34m=\u001b[0m \u001b[0mio\u001b[0m\u001b[0;34m.\u001b[0m\u001b[0mimread\u001b[0m\u001b[0;34m(\u001b[0m\u001b[0mpath\u001b[0m\u001b[0;34m)\u001b[0m\u001b[0;34m\u001b[0m\u001b[0;34m\u001b[0m\u001b[0m\n\u001b[0m\u001b[1;32m     13\u001b[0m \u001b[0;34m\u001b[0m\u001b[0m\n\u001b[1;32m     14\u001b[0m         \u001b[0mimage\u001b[0m \u001b[0;34m=\u001b[0m \u001b[0mself\u001b[0m\u001b[0;34m.\u001b[0m\u001b[0mtransformer\u001b[0m\u001b[0;34m(\u001b[0m\u001b[0mimage\u001b[0m\u001b[0;34m)\u001b[0m\u001b[0;34m\u001b[0m\u001b[0;34m\u001b[0m\u001b[0m\n",
      "\u001b[0;32m/usr/local/lib/python3.7/dist-packages/skimage/io/_io.py\u001b[0m in \u001b[0;36mimread\u001b[0;34m(fname, as_gray, plugin, **plugin_args)\u001b[0m\n\u001b[1;32m     46\u001b[0m \u001b[0;34m\u001b[0m\u001b[0m\n\u001b[1;32m     47\u001b[0m     \u001b[0;32mwith\u001b[0m \u001b[0mfile_or_url_context\u001b[0m\u001b[0;34m(\u001b[0m\u001b[0mfname\u001b[0m\u001b[0;34m)\u001b[0m \u001b[0;32mas\u001b[0m \u001b[0mfname\u001b[0m\u001b[0;34m:\u001b[0m\u001b[0;34m\u001b[0m\u001b[0;34m\u001b[0m\u001b[0m\n\u001b[0;32m---> 48\u001b[0;31m         \u001b[0mimg\u001b[0m \u001b[0;34m=\u001b[0m \u001b[0mcall_plugin\u001b[0m\u001b[0;34m(\u001b[0m\u001b[0;34m'imread'\u001b[0m\u001b[0;34m,\u001b[0m \u001b[0mfname\u001b[0m\u001b[0;34m,\u001b[0m \u001b[0mplugin\u001b[0m\u001b[0;34m=\u001b[0m\u001b[0mplugin\u001b[0m\u001b[0;34m,\u001b[0m \u001b[0;34m**\u001b[0m\u001b[0mplugin_args\u001b[0m\u001b[0;34m)\u001b[0m\u001b[0;34m\u001b[0m\u001b[0;34m\u001b[0m\u001b[0m\n\u001b[0m\u001b[1;32m     49\u001b[0m \u001b[0;34m\u001b[0m\u001b[0m\n\u001b[1;32m     50\u001b[0m     \u001b[0;32mif\u001b[0m \u001b[0;32mnot\u001b[0m \u001b[0mhasattr\u001b[0m\u001b[0;34m(\u001b[0m\u001b[0mimg\u001b[0m\u001b[0;34m,\u001b[0m \u001b[0;34m'ndim'\u001b[0m\u001b[0;34m)\u001b[0m\u001b[0;34m:\u001b[0m\u001b[0;34m\u001b[0m\u001b[0;34m\u001b[0m\u001b[0m\n",
      "\u001b[0;32m/usr/local/lib/python3.7/dist-packages/skimage/io/manage_plugins.py\u001b[0m in \u001b[0;36mcall_plugin\u001b[0;34m(kind, *args, **kwargs)\u001b[0m\n\u001b[1;32m    205\u001b[0m                                (plugin, kind))\n\u001b[1;32m    206\u001b[0m \u001b[0;34m\u001b[0m\u001b[0m\n\u001b[0;32m--> 207\u001b[0;31m     \u001b[0;32mreturn\u001b[0m \u001b[0mfunc\u001b[0m\u001b[0;34m(\u001b[0m\u001b[0;34m*\u001b[0m\u001b[0margs\u001b[0m\u001b[0;34m,\u001b[0m \u001b[0;34m**\u001b[0m\u001b[0mkwargs\u001b[0m\u001b[0;34m)\u001b[0m\u001b[0;34m\u001b[0m\u001b[0;34m\u001b[0m\u001b[0m\n\u001b[0m\u001b[1;32m    208\u001b[0m \u001b[0;34m\u001b[0m\u001b[0m\n\u001b[1;32m    209\u001b[0m \u001b[0;34m\u001b[0m\u001b[0m\n",
      "\u001b[0;32m/usr/local/lib/python3.7/dist-packages/skimage/io/_plugins/imageio_plugin.py\u001b[0m in \u001b[0;36mimread\u001b[0;34m(*args, **kwargs)\u001b[0m\n\u001b[1;32m      8\u001b[0m \u001b[0;34m@\u001b[0m\u001b[0mwraps\u001b[0m\u001b[0;34m(\u001b[0m\u001b[0mimageio_imread\u001b[0m\u001b[0;34m)\u001b[0m\u001b[0;34m\u001b[0m\u001b[0;34m\u001b[0m\u001b[0m\n\u001b[1;32m      9\u001b[0m \u001b[0;32mdef\u001b[0m \u001b[0mimread\u001b[0m\u001b[0;34m(\u001b[0m\u001b[0;34m*\u001b[0m\u001b[0margs\u001b[0m\u001b[0;34m,\u001b[0m \u001b[0;34m**\u001b[0m\u001b[0mkwargs\u001b[0m\u001b[0;34m)\u001b[0m\u001b[0;34m:\u001b[0m\u001b[0;34m\u001b[0m\u001b[0;34m\u001b[0m\u001b[0m\n\u001b[0;32m---> 10\u001b[0;31m     \u001b[0;32mreturn\u001b[0m \u001b[0mnp\u001b[0m\u001b[0;34m.\u001b[0m\u001b[0masarray\u001b[0m\u001b[0;34m(\u001b[0m\u001b[0mimageio_imread\u001b[0m\u001b[0;34m(\u001b[0m\u001b[0;34m*\u001b[0m\u001b[0margs\u001b[0m\u001b[0;34m,\u001b[0m \u001b[0;34m**\u001b[0m\u001b[0mkwargs\u001b[0m\u001b[0;34m)\u001b[0m\u001b[0;34m)\u001b[0m\u001b[0;34m\u001b[0m\u001b[0;34m\u001b[0m\u001b[0m\n\u001b[0m",
      "\u001b[0;32m/usr/local/lib/python3.7/dist-packages/imageio/core/functions.py\u001b[0m in \u001b[0;36mimread\u001b[0;34m(uri, format, **kwargs)\u001b[0m\n\u001b[1;32m    263\u001b[0m \u001b[0;34m\u001b[0m\u001b[0m\n\u001b[1;32m    264\u001b[0m     \u001b[0;31m# Get reader and read first\u001b[0m\u001b[0;34m\u001b[0m\u001b[0;34m\u001b[0m\u001b[0;34m\u001b[0m\u001b[0m\n\u001b[0;32m--> 265\u001b[0;31m     \u001b[0mreader\u001b[0m \u001b[0;34m=\u001b[0m \u001b[0mread\u001b[0m\u001b[0;34m(\u001b[0m\u001b[0muri\u001b[0m\u001b[0;34m,\u001b[0m \u001b[0mformat\u001b[0m\u001b[0;34m,\u001b[0m \u001b[0;34m\"i\"\u001b[0m\u001b[0;34m,\u001b[0m \u001b[0;34m**\u001b[0m\u001b[0mkwargs\u001b[0m\u001b[0;34m)\u001b[0m\u001b[0;34m\u001b[0m\u001b[0;34m\u001b[0m\u001b[0m\n\u001b[0m\u001b[1;32m    266\u001b[0m     \u001b[0;32mwith\u001b[0m \u001b[0mreader\u001b[0m\u001b[0;34m:\u001b[0m\u001b[0;34m\u001b[0m\u001b[0;34m\u001b[0m\u001b[0m\n\u001b[1;32m    267\u001b[0m         \u001b[0;32mreturn\u001b[0m \u001b[0mreader\u001b[0m\u001b[0;34m.\u001b[0m\u001b[0mget_data\u001b[0m\u001b[0;34m(\u001b[0m\u001b[0;36m0\u001b[0m\u001b[0;34m)\u001b[0m\u001b[0;34m\u001b[0m\u001b[0;34m\u001b[0m\u001b[0m\n",
      "\u001b[0;32m/usr/local/lib/python3.7/dist-packages/imageio/core/functions.py\u001b[0m in \u001b[0;36mget_reader\u001b[0;34m(uri, format, mode, **kwargs)\u001b[0m\n\u001b[1;32m    170\u001b[0m \u001b[0;34m\u001b[0m\u001b[0m\n\u001b[1;32m    171\u001b[0m     \u001b[0;31m# Create request object\u001b[0m\u001b[0;34m\u001b[0m\u001b[0;34m\u001b[0m\u001b[0;34m\u001b[0m\u001b[0m\n\u001b[0;32m--> 172\u001b[0;31m     \u001b[0mrequest\u001b[0m \u001b[0;34m=\u001b[0m \u001b[0mRequest\u001b[0m\u001b[0;34m(\u001b[0m\u001b[0muri\u001b[0m\u001b[0;34m,\u001b[0m \u001b[0;34m\"r\"\u001b[0m \u001b[0;34m+\u001b[0m \u001b[0mmode\u001b[0m\u001b[0;34m,\u001b[0m \u001b[0;34m**\u001b[0m\u001b[0mkwargs\u001b[0m\u001b[0;34m)\u001b[0m\u001b[0;34m\u001b[0m\u001b[0;34m\u001b[0m\u001b[0m\n\u001b[0m\u001b[1;32m    173\u001b[0m \u001b[0;34m\u001b[0m\u001b[0m\n\u001b[1;32m    174\u001b[0m     \u001b[0;31m# Get format\u001b[0m\u001b[0;34m\u001b[0m\u001b[0;34m\u001b[0m\u001b[0;34m\u001b[0m\u001b[0m\n",
      "\u001b[0;32m/usr/local/lib/python3.7/dist-packages/imageio/core/request.py\u001b[0m in \u001b[0;36m__init__\u001b[0;34m(self, uri, mode, **kwargs)\u001b[0m\n\u001b[1;32m    122\u001b[0m \u001b[0;34m\u001b[0m\u001b[0m\n\u001b[1;32m    123\u001b[0m         \u001b[0;31m# Parse what was given\u001b[0m\u001b[0;34m\u001b[0m\u001b[0;34m\u001b[0m\u001b[0;34m\u001b[0m\u001b[0m\n\u001b[0;32m--> 124\u001b[0;31m         \u001b[0mself\u001b[0m\u001b[0;34m.\u001b[0m\u001b[0m_parse_uri\u001b[0m\u001b[0;34m(\u001b[0m\u001b[0muri\u001b[0m\u001b[0;34m)\u001b[0m\u001b[0;34m\u001b[0m\u001b[0;34m\u001b[0m\u001b[0m\n\u001b[0m\u001b[1;32m    125\u001b[0m \u001b[0;34m\u001b[0m\u001b[0m\n\u001b[1;32m    126\u001b[0m         \u001b[0;31m# Set extension\u001b[0m\u001b[0;34m\u001b[0m\u001b[0;34m\u001b[0m\u001b[0;34m\u001b[0m\u001b[0m\n",
      "\u001b[0;32m/usr/local/lib/python3.7/dist-packages/imageio/core/request.py\u001b[0m in \u001b[0;36m_parse_uri\u001b[0;34m(self, uri)\u001b[0m\n\u001b[1;32m    258\u001b[0m                 \u001b[0;31m# Reading: check that the file exists (but is allowed a dir)\u001b[0m\u001b[0;34m\u001b[0m\u001b[0;34m\u001b[0m\u001b[0;34m\u001b[0m\u001b[0m\n\u001b[1;32m    259\u001b[0m                 \u001b[0;32mif\u001b[0m \u001b[0;32mnot\u001b[0m \u001b[0mos\u001b[0m\u001b[0;34m.\u001b[0m\u001b[0mpath\u001b[0m\u001b[0;34m.\u001b[0m\u001b[0mexists\u001b[0m\u001b[0;34m(\u001b[0m\u001b[0mfn\u001b[0m\u001b[0;34m)\u001b[0m\u001b[0;34m:\u001b[0m\u001b[0;34m\u001b[0m\u001b[0;34m\u001b[0m\u001b[0m\n\u001b[0;32m--> 260\u001b[0;31m                     \u001b[0;32mraise\u001b[0m \u001b[0mFileNotFoundError\u001b[0m\u001b[0;34m(\u001b[0m\u001b[0;34m\"No such file: '%s'\"\u001b[0m \u001b[0;34m%\u001b[0m \u001b[0mfn\u001b[0m\u001b[0;34m)\u001b[0m\u001b[0;34m\u001b[0m\u001b[0;34m\u001b[0m\u001b[0m\n\u001b[0m\u001b[1;32m    261\u001b[0m             \u001b[0;32melse\u001b[0m\u001b[0;34m:\u001b[0m\u001b[0;34m\u001b[0m\u001b[0;34m\u001b[0m\u001b[0m\n\u001b[1;32m    262\u001b[0m                 \u001b[0;31m# Writing: check that the directory to write to does exist\u001b[0m\u001b[0;34m\u001b[0m\u001b[0;34m\u001b[0m\u001b[0;34m\u001b[0m\u001b[0m\n",
      "\u001b[0;31mFileNotFoundError\u001b[0m: No such file: '/content/gdrive/MyDrive/Lentil Project/0000_16401081_1.png'"
     ]
    }
   ],
   "source": [
    "# encode the images\n",
    "\n",
    "df = pd.read_csv('metadata/real_features.csv')\n",
    "paths = df.Image.tolist()\n",
    "for i in range(len(paths)):\n",
    "  paths[i] = paths[i].split(\"/\")[-1]\n",
    "\n",
    "image_dataset = LentilDataset(paths, transform)\n",
    "\n",
    "\n",
    "image_loader = DataLoader(\n",
    "    image_dataset, \n",
    "    batch_size=64, \n",
    "    shuffle=False,\n",
    "    num_workers=0\n",
    ")\n",
    "\n",
    "output_images = []\n",
    "output_items = []\n",
    "with torch.no_grad():\n",
    "    for i, data in enumerate(image_loader):\n",
    "        print(i)\n",
    "        items, images = data\n",
    "        images = images.to(device)\n",
    "        output = model.encoder(images)\n",
    "        output_images.extend(output.cpu().numpy().tolist())\n",
    "        output_items.extend(items.numpy().tolist())"
   ]
  },
  {
   "cell_type": "code",
   "execution_count": null,
   "metadata": {
    "colab": {
     "base_uri": "https://localhost:8080/",
     "height": 300
    },
    "executionInfo": {
     "elapsed": 176,
     "status": "ok",
     "timestamp": 1658247476357,
     "user": {
      "displayName": "Amanda E",
      "userId": "18060553539545466159"
     },
     "user_tz": 360
    },
    "id": "9mUxw59L_WVw",
    "outputId": "d2ca5600-ba8d-4e73-e303-65c827454d02"
   },
   "outputs": [
    {
     "data": {
      "text/html": [
       "\n",
       "  <div id=\"df-3f541124-85d7-4336-b25e-0154016a45b6\">\n",
       "    <div class=\"colab-df-container\">\n",
       "      <div>\n",
       "<style scoped>\n",
       "    .dataframe tbody tr th:only-of-type {\n",
       "        vertical-align: middle;\n",
       "    }\n",
       "\n",
       "    .dataframe tbody tr th {\n",
       "        vertical-align: top;\n",
       "    }\n",
       "\n",
       "    .dataframe thead th {\n",
       "        text-align: right;\n",
       "    }\n",
       "</style>\n",
       "<table border=\"1\" class=\"dataframe\">\n",
       "  <thead>\n",
       "    <tr style=\"text-align: right;\">\n",
       "      <th></th>\n",
       "      <th>Image</th>\n",
       "      <th>0</th>\n",
       "      <th>1</th>\n",
       "      <th>2</th>\n",
       "      <th>3</th>\n",
       "      <th>4</th>\n",
       "      <th>5</th>\n",
       "      <th>6</th>\n",
       "      <th>7</th>\n",
       "      <th>8</th>\n",
       "      <th>...</th>\n",
       "      <th>118</th>\n",
       "      <th>119</th>\n",
       "      <th>120</th>\n",
       "      <th>121</th>\n",
       "      <th>122</th>\n",
       "      <th>123</th>\n",
       "      <th>124</th>\n",
       "      <th>125</th>\n",
       "      <th>126</th>\n",
       "      <th>127</th>\n",
       "    </tr>\n",
       "  </thead>\n",
       "  <tbody>\n",
       "    <tr>\n",
       "      <th>0</th>\n",
       "      <td>0000_16401081_1.png</td>\n",
       "      <td>-9.259099</td>\n",
       "      <td>8.225995</td>\n",
       "      <td>-9.194209</td>\n",
       "      <td>8.827660</td>\n",
       "      <td>-8.401722</td>\n",
       "      <td>95.121155</td>\n",
       "      <td>28.510572</td>\n",
       "      <td>8.732097</td>\n",
       "      <td>-9.334272</td>\n",
       "      <td>...</td>\n",
       "      <td>7.660960</td>\n",
       "      <td>8.415262</td>\n",
       "      <td>-8.956603</td>\n",
       "      <td>8.705330</td>\n",
       "      <td>3.585794</td>\n",
       "      <td>7.436241</td>\n",
       "      <td>-9.200736</td>\n",
       "      <td>9.542938</td>\n",
       "      <td>25.951141</td>\n",
       "      <td>-9.318683</td>\n",
       "    </tr>\n",
       "    <tr>\n",
       "      <th>1</th>\n",
       "      <td>0001_16401081_10.png</td>\n",
       "      <td>-4.134941</td>\n",
       "      <td>3.344551</td>\n",
       "      <td>-2.761408</td>\n",
       "      <td>1.874607</td>\n",
       "      <td>-4.804010</td>\n",
       "      <td>98.987144</td>\n",
       "      <td>22.982887</td>\n",
       "      <td>1.558561</td>\n",
       "      <td>-2.439010</td>\n",
       "      <td>...</td>\n",
       "      <td>1.132102</td>\n",
       "      <td>5.756436</td>\n",
       "      <td>-6.270718</td>\n",
       "      <td>2.055515</td>\n",
       "      <td>14.553722</td>\n",
       "      <td>2.360578</td>\n",
       "      <td>-1.682596</td>\n",
       "      <td>1.515147</td>\n",
       "      <td>19.608452</td>\n",
       "      <td>-2.529361</td>\n",
       "    </tr>\n",
       "    <tr>\n",
       "      <th>2</th>\n",
       "      <td>0002_16401081_11.png</td>\n",
       "      <td>-3.070122</td>\n",
       "      <td>2.413742</td>\n",
       "      <td>-1.309897</td>\n",
       "      <td>0.181052</td>\n",
       "      <td>-4.251186</td>\n",
       "      <td>109.888435</td>\n",
       "      <td>23.567633</td>\n",
       "      <td>-0.248159</td>\n",
       "      <td>-0.777913</td>\n",
       "      <td>...</td>\n",
       "      <td>-0.457497</td>\n",
       "      <td>5.716142</td>\n",
       "      <td>-6.177071</td>\n",
       "      <td>0.487902</td>\n",
       "      <td>19.600771</td>\n",
       "      <td>1.276296</td>\n",
       "      <td>0.175423</td>\n",
       "      <td>-0.870396</td>\n",
       "      <td>19.624889</td>\n",
       "      <td>-0.936809</td>\n",
       "    </tr>\n",
       "    <tr>\n",
       "      <th>3</th>\n",
       "      <td>0003_16401081_12.png</td>\n",
       "      <td>-5.299025</td>\n",
       "      <td>4.597054</td>\n",
       "      <td>-4.206825</td>\n",
       "      <td>3.395687</td>\n",
       "      <td>-5.735687</td>\n",
       "      <td>101.392906</td>\n",
       "      <td>23.959845</td>\n",
       "      <td>3.096549</td>\n",
       "      <td>-3.907910</td>\n",
       "      <td>...</td>\n",
       "      <td>2.606557</td>\n",
       "      <td>6.716931</td>\n",
       "      <td>-7.133355</td>\n",
       "      <td>3.552712</td>\n",
       "      <td>13.899903</td>\n",
       "      <td>3.653175</td>\n",
       "      <td>-3.304974</td>\n",
       "      <td>2.466836</td>\n",
       "      <td>20.576036</td>\n",
       "      <td>-4.036252</td>\n",
       "    </tr>\n",
       "    <tr>\n",
       "      <th>4</th>\n",
       "      <td>0004_16401081_14.png</td>\n",
       "      <td>25.487152</td>\n",
       "      <td>-28.316530</td>\n",
       "      <td>34.034184</td>\n",
       "      <td>-36.949863</td>\n",
       "      <td>18.931141</td>\n",
       "      <td>7.782105</td>\n",
       "      <td>-14.985884</td>\n",
       "      <td>-37.905109</td>\n",
       "      <td>34.720291</td>\n",
       "      <td>...</td>\n",
       "      <td>-36.084293</td>\n",
       "      <td>-21.860416</td>\n",
       "      <td>16.989975</td>\n",
       "      <td>-36.533928</td>\n",
       "      <td>17.013166</td>\n",
       "      <td>-31.235586</td>\n",
       "      <td>39.368954</td>\n",
       "      <td>-20.475374</td>\n",
       "      <td>-16.783197</td>\n",
       "      <td>36.921188</td>\n",
       "    </tr>\n",
       "  </tbody>\n",
       "</table>\n",
       "<p>5 rows × 129 columns</p>\n",
       "</div>\n",
       "      <button class=\"colab-df-convert\" onclick=\"convertToInteractive('df-3f541124-85d7-4336-b25e-0154016a45b6')\"\n",
       "              title=\"Convert this dataframe to an interactive table.\"\n",
       "              style=\"display:none;\">\n",
       "        \n",
       "  <svg xmlns=\"http://www.w3.org/2000/svg\" height=\"24px\"viewBox=\"0 0 24 24\"\n",
       "       width=\"24px\">\n",
       "    <path d=\"M0 0h24v24H0V0z\" fill=\"none\"/>\n",
       "    <path d=\"M18.56 5.44l.94 2.06.94-2.06 2.06-.94-2.06-.94-.94-2.06-.94 2.06-2.06.94zm-11 1L8.5 8.5l.94-2.06 2.06-.94-2.06-.94L8.5 2.5l-.94 2.06-2.06.94zm10 10l.94 2.06.94-2.06 2.06-.94-2.06-.94-.94-2.06-.94 2.06-2.06.94z\"/><path d=\"M17.41 7.96l-1.37-1.37c-.4-.4-.92-.59-1.43-.59-.52 0-1.04.2-1.43.59L10.3 9.45l-7.72 7.72c-.78.78-.78 2.05 0 2.83L4 21.41c.39.39.9.59 1.41.59.51 0 1.02-.2 1.41-.59l7.78-7.78 2.81-2.81c.8-.78.8-2.07 0-2.86zM5.41 20L4 18.59l7.72-7.72 1.47 1.35L5.41 20z\"/>\n",
       "  </svg>\n",
       "      </button>\n",
       "      \n",
       "  <style>\n",
       "    .colab-df-container {\n",
       "      display:flex;\n",
       "      flex-wrap:wrap;\n",
       "      gap: 12px;\n",
       "    }\n",
       "\n",
       "    .colab-df-convert {\n",
       "      background-color: #E8F0FE;\n",
       "      border: none;\n",
       "      border-radius: 50%;\n",
       "      cursor: pointer;\n",
       "      display: none;\n",
       "      fill: #1967D2;\n",
       "      height: 32px;\n",
       "      padding: 0 0 0 0;\n",
       "      width: 32px;\n",
       "    }\n",
       "\n",
       "    .colab-df-convert:hover {\n",
       "      background-color: #E2EBFA;\n",
       "      box-shadow: 0px 1px 2px rgba(60, 64, 67, 0.3), 0px 1px 3px 1px rgba(60, 64, 67, 0.15);\n",
       "      fill: #174EA6;\n",
       "    }\n",
       "\n",
       "    [theme=dark] .colab-df-convert {\n",
       "      background-color: #3B4455;\n",
       "      fill: #D2E3FC;\n",
       "    }\n",
       "\n",
       "    [theme=dark] .colab-df-convert:hover {\n",
       "      background-color: #434B5C;\n",
       "      box-shadow: 0px 1px 3px 1px rgba(0, 0, 0, 0.15);\n",
       "      filter: drop-shadow(0px 1px 2px rgba(0, 0, 0, 0.3));\n",
       "      fill: #FFFFFF;\n",
       "    }\n",
       "  </style>\n",
       "\n",
       "      <script>\n",
       "        const buttonEl =\n",
       "          document.querySelector('#df-3f541124-85d7-4336-b25e-0154016a45b6 button.colab-df-convert');\n",
       "        buttonEl.style.display =\n",
       "          google.colab.kernel.accessAllowed ? 'block' : 'none';\n",
       "\n",
       "        async function convertToInteractive(key) {\n",
       "          const element = document.querySelector('#df-3f541124-85d7-4336-b25e-0154016a45b6');\n",
       "          const dataTable =\n",
       "            await google.colab.kernel.invokeFunction('convertToInteractive',\n",
       "                                                     [key], {});\n",
       "          if (!dataTable) return;\n",
       "\n",
       "          const docLinkHtml = 'Like what you see? Visit the ' +\n",
       "            '<a target=\"_blank\" href=https://colab.research.google.com/notebooks/data_table.ipynb>data table notebook</a>'\n",
       "            + ' to learn more about interactive tables.';\n",
       "          element.innerHTML = '';\n",
       "          dataTable['output_type'] = 'display_data';\n",
       "          await google.colab.output.renderOutput(dataTable, element);\n",
       "          const docLink = document.createElement('div');\n",
       "          docLink.innerHTML = docLinkHtml;\n",
       "          element.appendChild(docLink);\n",
       "        }\n",
       "      </script>\n",
       "    </div>\n",
       "  </div>\n",
       "  "
      ],
      "text/plain": [
       "                  Image          0          1          2          3  \\\n",
       "0   0000_16401081_1.png  -9.259099   8.225995  -9.194209   8.827660   \n",
       "1  0001_16401081_10.png  -4.134941   3.344551  -2.761408   1.874607   \n",
       "2  0002_16401081_11.png  -3.070122   2.413742  -1.309897   0.181052   \n",
       "3  0003_16401081_12.png  -5.299025   4.597054  -4.206825   3.395687   \n",
       "4  0004_16401081_14.png  25.487152 -28.316530  34.034184 -36.949863   \n",
       "\n",
       "           4           5          6          7          8  ...        118  \\\n",
       "0  -8.401722   95.121155  28.510572   8.732097  -9.334272  ...   7.660960   \n",
       "1  -4.804010   98.987144  22.982887   1.558561  -2.439010  ...   1.132102   \n",
       "2  -4.251186  109.888435  23.567633  -0.248159  -0.777913  ...  -0.457497   \n",
       "3  -5.735687  101.392906  23.959845   3.096549  -3.907910  ...   2.606557   \n",
       "4  18.931141    7.782105 -14.985884 -37.905109  34.720291  ... -36.084293   \n",
       "\n",
       "         119        120        121        122        123        124  \\\n",
       "0   8.415262  -8.956603   8.705330   3.585794   7.436241  -9.200736   \n",
       "1   5.756436  -6.270718   2.055515  14.553722   2.360578  -1.682596   \n",
       "2   5.716142  -6.177071   0.487902  19.600771   1.276296   0.175423   \n",
       "3   6.716931  -7.133355   3.552712  13.899903   3.653175  -3.304974   \n",
       "4 -21.860416  16.989975 -36.533928  17.013166 -31.235586  39.368954   \n",
       "\n",
       "         125        126        127  \n",
       "0   9.542938  25.951141  -9.318683  \n",
       "1   1.515147  19.608452  -2.529361  \n",
       "2  -0.870396  19.624889  -0.936809  \n",
       "3   2.466836  20.576036  -4.036252  \n",
       "4 -20.475374 -16.783197  36.921188  \n",
       "\n",
       "[5 rows x 129 columns]"
      ]
     },
     "execution_count": 32,
     "metadata": {},
     "output_type": "execute_result"
    }
   ],
   "source": [
    "# save encoded features\n",
    "\n",
    "output_paths = pd.DataFrame({\"Image\":[paths[i] for i in output_items]})\n",
    "output_features = pd.DataFrame(output_images)\n",
    "\n",
    "output_features = pd.concat([output_paths, output_features], axis=1)\n",
    "output_features.head()\n"
   ]
  },
  {
   "cell_type": "code",
   "execution_count": null,
   "metadata": {
    "id": "pWwldL3iC34U"
   },
   "outputs": [],
   "source": [
    "output_features.to_csv(\"metadata/encoded_features.csv\", index=False)"
   ]
  },
  {
   "cell_type": "markdown",
   "metadata": {
    "id": "EdBzl3dPeRky"
   },
   "source": [
    "**Check Decoded Images**"
   ]
  },
  {
   "cell_type": "code",
   "execution_count": null,
   "metadata": {
    "colab": {
     "base_uri": "https://localhost:8080/",
     "height": 521
    },
    "executionInfo": {
     "elapsed": 2220,
     "status": "ok",
     "timestamp": 1658510680267,
     "user": {
      "displayName": "Amanda E",
      "userId": "18060553539545466159"
     },
     "user_tz": 360
    },
    "id": "ZUi1OQrQKBSL",
    "outputId": "3d7dce60-a814-4259-c7ca-9e1332291ac7"
   },
   "outputs": [
    {
     "data": {
      "image/png": "[encoded data removed]",
      "text/plain": [
       "<Figure size 432x288 with 1 Axes>"
      ]
     },
     "metadata": {},
     "output_type": "display_data"
    },
    {
     "data": {
      "image/png": "[encoded data removed]",
      "text/plain": [
       "<Figure size 432x288 with 1 Axes>"
      ]
     },
     "metadata": {},
     "output_type": "display_data"
    }
   ],
   "source": [
    "# show original images\n",
    "image_paths = ['real_regions/0003_16401081_12.png', 'real_regions/1003_16401081_41.png']\n",
    "\n",
    "for path in image_paths:\n",
    "    img = io.imread(path)\n",
    "    plt.imshow(img)\n",
    "    plt.show()"
   ]
  },
  {
   "cell_type": "code",
   "execution_count": null,
   "metadata": {
    "colab": {
     "base_uri": "https://localhost:8080/"
    },
    "executionInfo": {
     "elapsed": 537,
     "status": "ok",
     "timestamp": 1658510682918,
     "user": {
      "displayName": "Amanda E",
      "userId": "18060553539545466159"
     },
     "user_tz": 360
    },
    "id": "Iq35x2DpeifN",
    "outputId": "2e0ed203-55c2-46db-9efa-8448e4c24278"
   },
   "outputs": [
    {
     "name": "stdout",
     "output_type": "stream",
     "text": [
      "0\n"
     ]
    }
   ],
   "source": [
    "#encode and decode the images\n",
    "\n",
    "image_test_dataset = LentilDataset(image_paths, transform)\n",
    "\n",
    "\n",
    "image_test_loader = DataLoader(\n",
    "    image_test_dataset, \n",
    "    batch_size=2, \n",
    "    shuffle=False,\n",
    "    num_workers=0\n",
    ")\n",
    "\n",
    "output_images = []\n",
    "with torch.no_grad():\n",
    "    for i, data in enumerate(image_test_loader):\n",
    "        print(i)\n",
    "        _, images = data\n",
    "        images = images.to(device)\n",
    "        output = model(images)\n",
    "        output_images.extend(output.cpu().numpy())"
   ]
  },
  {
   "cell_type": "code",
   "execution_count": null,
   "metadata": {
    "colab": {
     "base_uri": "https://localhost:8080/",
     "height": 521
    },
    "executionInfo": {
     "elapsed": 572,
     "status": "ok",
     "timestamp": 1658510686155,
     "user": {
      "displayName": "Amanda E",
      "userId": "18060553539545466159"
     },
     "user_tz": 360
    },
    "id": "qvEB8r5Cj4wb",
    "outputId": "1b17068f-e75f-4ca7-a643-bbd358ef586a"
   },
   "outputs": [
    {
     "data": {
      "image/png": "[encoded data removed]",
      "text/plain": [
       "<Figure size 432x288 with 1 Axes>"
      ]
     },
     "metadata": {},
     "output_type": "display_data"
    },
    {
     "data": {
      "image/png": "[encoded data removed]",
      "text/plain": [
       "<Figure size 432x288 with 1 Axes>"
      ]
     },
     "metadata": {},
     "output_type": "display_data"
    }
   ],
   "source": [
    "# show decoded image\n",
    "for img in output_images:\n",
    "    img = img.swapaxes(0,1)\n",
    "    img = img.swapaxes(1,2)\n",
    "    plt.imshow(img)\n",
    "    plt.show()"
   ]
  },
  {
   "cell_type": "markdown",
   "metadata": {
    "id": "FYIYVmRbUTp4"
   },
   "source": [
    "**Encode the New Images (Images not in dataset used to train model)**"
   ]
  },
  {
   "cell_type": "code",
   "execution_count": null,
   "metadata": {
    "id": "fUppIED8USqc"
   },
   "outputs": [],
   "source": [
    "# Load the best saved model. \n",
    "checkpoint = torch.load('CNNModel1/CNN1.pth', map_location=torch.device(str(device)))\n",
    "# Define the base model.\n",
    "model = CNN_Model()\n",
    "# Load the weights. \n",
    "model.load_state_dict(checkpoint)\n",
    "model = model.to(device)\n",
    "model = model.eval()"
   ]
  },
  {
   "cell_type": "code",
   "execution_count": null,
   "metadata": {
    "colab": {
     "base_uri": "https://localhost:8080/"
    },
    "executionInfo": {
     "elapsed": 985103,
     "status": "ok",
     "timestamp": 1660163467376,
     "user": {
      "displayName": "Amanda E",
      "userId": "18060553539545466159"
     },
     "user_tz": 360
    },
    "id": "gMVC9KImUStf",
    "outputId": "04d06083-bb97-4581-a9ef-c1e07d1b531d"
   },
   "outputs": [
    {
     "name": "stdout",
     "output_type": "stream",
     "text": [
      "0\n",
      "1\n",
      "2\n",
      "3\n",
      "4\n",
      "5\n",
      "6\n",
      "7\n",
      "8\n",
      "9\n",
      "10\n",
      "11\n",
      "12\n",
      "13\n",
      "14\n",
      "15\n",
      "16\n",
      "17\n",
      "18\n",
      "19\n",
      "20\n"
     ]
    }
   ],
   "source": [
    "# Load the new dataset\n",
    "df = pd.read_csv('metadata/new_lentil_paths.csv')\n",
    "paths = df.Image.tolist()\n",
    "\n",
    "image_dataset = LentilDataset(paths, transform)\n",
    "\n",
    "\n",
    "image_loader = DataLoader(\n",
    "    image_dataset, \n",
    "    batch_size=64, \n",
    "    shuffle=False,\n",
    "    num_workers=0\n",
    ")\n",
    "\n",
    "output_images = []\n",
    "output_items = []\n",
    "with torch.no_grad():\n",
    "    for i, data in enumerate(image_loader):\n",
    "        print(i)\n",
    "        items, images = data\n",
    "        images = images.to(device)\n",
    "        output = model.encoder(images)\n",
    "        output_images.extend(output.cpu().numpy().tolist())\n",
    "        output_items.extend(items.numpy().tolist())"
   ]
  },
  {
   "cell_type": "code",
   "execution_count": null,
   "metadata": {
    "colab": {
     "base_uri": "https://localhost:8080/",
     "height": 366
    },
    "executionInfo": {
     "elapsed": 922,
     "status": "ok",
     "timestamp": 1660163626519,
     "user": {
      "displayName": "Amanda E",
      "userId": "18060553539545466159"
     },
     "user_tz": 360
    },
    "id": "0VXYpOeQUS6w",
    "outputId": "b3af6b03-5dce-4503-d574-9a3817cc597a"
   },
   "outputs": [
    {
     "data": {
      "text/html": [
       "\n",
       "  <div id=\"df-19042a98-a834-419e-a7b9-4369c52fde0a\">\n",
       "    <div class=\"colab-df-container\">\n",
       "      <div>\n",
       "<style scoped>\n",
       "    .dataframe tbody tr th:only-of-type {\n",
       "        vertical-align: middle;\n",
       "    }\n",
       "\n",
       "    .dataframe tbody tr th {\n",
       "        vertical-align: top;\n",
       "    }\n",
       "\n",
       "    .dataframe thead th {\n",
       "        text-align: right;\n",
       "    }\n",
       "</style>\n",
       "<table border=\"1\" class=\"dataframe\">\n",
       "  <thead>\n",
       "    <tr style=\"text-align: right;\">\n",
       "      <th></th>\n",
       "      <th>Image</th>\n",
       "      <th>0</th>\n",
       "      <th>1</th>\n",
       "      <th>2</th>\n",
       "      <th>3</th>\n",
       "      <th>4</th>\n",
       "      <th>5</th>\n",
       "      <th>6</th>\n",
       "      <th>7</th>\n",
       "      <th>8</th>\n",
       "      <th>...</th>\n",
       "      <th>118</th>\n",
       "      <th>119</th>\n",
       "      <th>120</th>\n",
       "      <th>121</th>\n",
       "      <th>122</th>\n",
       "      <th>123</th>\n",
       "      <th>124</th>\n",
       "      <th>125</th>\n",
       "      <th>126</th>\n",
       "      <th>127</th>\n",
       "    </tr>\n",
       "  </thead>\n",
       "  <tbody>\n",
       "    <tr>\n",
       "      <th>0</th>\n",
       "      <td>New_Lentils/brown-marbled-7059 (segmented)/164...</td>\n",
       "      <td>-50.450283</td>\n",
       "      <td>52.236862</td>\n",
       "      <td>0.633628</td>\n",
       "      <td>4.723947</td>\n",
       "      <td>33.048306</td>\n",
       "      <td>3.543474</td>\n",
       "      <td>4.561373</td>\n",
       "      <td>-36.000172</td>\n",
       "      <td>-23.961124</td>\n",
       "      <td>...</td>\n",
       "      <td>49.803268</td>\n",
       "      <td>47.657997</td>\n",
       "      <td>-37.987118</td>\n",
       "      <td>-13.245797</td>\n",
       "      <td>-37.147011</td>\n",
       "      <td>-29.830957</td>\n",
       "      <td>-22.331896</td>\n",
       "      <td>7.095768</td>\n",
       "      <td>-16.186466</td>\n",
       "      <td>-20.808908</td>\n",
       "    </tr>\n",
       "    <tr>\n",
       "      <th>1</th>\n",
       "      <td>New_Lentils/brown-marbled-7059 (segmented)/164...</td>\n",
       "      <td>-48.312485</td>\n",
       "      <td>62.156052</td>\n",
       "      <td>5.272187</td>\n",
       "      <td>-15.072780</td>\n",
       "      <td>18.748957</td>\n",
       "      <td>21.680712</td>\n",
       "      <td>22.211351</td>\n",
       "      <td>-39.481339</td>\n",
       "      <td>-9.529542</td>\n",
       "      <td>...</td>\n",
       "      <td>75.184654</td>\n",
       "      <td>44.500267</td>\n",
       "      <td>-35.753937</td>\n",
       "      <td>-2.275872</td>\n",
       "      <td>-38.642677</td>\n",
       "      <td>-14.952507</td>\n",
       "      <td>-30.110458</td>\n",
       "      <td>19.096302</td>\n",
       "      <td>1.749470</td>\n",
       "      <td>-20.440245</td>\n",
       "    </tr>\n",
       "    <tr>\n",
       "      <th>2</th>\n",
       "      <td>New_Lentils/brown-marbled-7059 (segmented)/164...</td>\n",
       "      <td>-44.977047</td>\n",
       "      <td>55.246964</td>\n",
       "      <td>2.174827</td>\n",
       "      <td>7.227791</td>\n",
       "      <td>35.441410</td>\n",
       "      <td>6.100941</td>\n",
       "      <td>1.521590</td>\n",
       "      <td>-42.522831</td>\n",
       "      <td>-24.255465</td>\n",
       "      <td>...</td>\n",
       "      <td>26.395638</td>\n",
       "      <td>38.903202</td>\n",
       "      <td>-35.802280</td>\n",
       "      <td>-10.539165</td>\n",
       "      <td>-35.634403</td>\n",
       "      <td>7.080564</td>\n",
       "      <td>-39.566311</td>\n",
       "      <td>8.433096</td>\n",
       "      <td>-19.139406</td>\n",
       "      <td>-12.709001</td>\n",
       "    </tr>\n",
       "    <tr>\n",
       "      <th>3</th>\n",
       "      <td>New_Lentils/brown-marbled-7059 (segmented)/164...</td>\n",
       "      <td>-43.257294</td>\n",
       "      <td>49.260265</td>\n",
       "      <td>3.264165</td>\n",
       "      <td>7.283667</td>\n",
       "      <td>36.659889</td>\n",
       "      <td>17.552383</td>\n",
       "      <td>22.371454</td>\n",
       "      <td>-33.606392</td>\n",
       "      <td>-28.563334</td>\n",
       "      <td>...</td>\n",
       "      <td>60.644123</td>\n",
       "      <td>38.959160</td>\n",
       "      <td>-38.668594</td>\n",
       "      <td>-21.103745</td>\n",
       "      <td>-33.084728</td>\n",
       "      <td>2.052317</td>\n",
       "      <td>-33.731533</td>\n",
       "      <td>24.735538</td>\n",
       "      <td>-17.802387</td>\n",
       "      <td>-12.816207</td>\n",
       "    </tr>\n",
       "    <tr>\n",
       "      <th>4</th>\n",
       "      <td>New_Lentils/brown-marbled-7059 (segmented)/164...</td>\n",
       "      <td>-41.884762</td>\n",
       "      <td>59.736393</td>\n",
       "      <td>5.756638</td>\n",
       "      <td>-14.397798</td>\n",
       "      <td>17.335243</td>\n",
       "      <td>22.010355</td>\n",
       "      <td>20.070347</td>\n",
       "      <td>-39.981277</td>\n",
       "      <td>-7.430474</td>\n",
       "      <td>...</td>\n",
       "      <td>59.058140</td>\n",
       "      <td>36.616913</td>\n",
       "      <td>-31.268185</td>\n",
       "      <td>1.117746</td>\n",
       "      <td>-35.339722</td>\n",
       "      <td>5.563846</td>\n",
       "      <td>-36.361195</td>\n",
       "      <td>18.578094</td>\n",
       "      <td>1.463712</td>\n",
       "      <td>-15.010604</td>\n",
       "    </tr>\n",
       "  </tbody>\n",
       "</table>\n",
       "<p>5 rows × 129 columns</p>\n",
       "</div>\n",
       "      <button class=\"colab-df-convert\" onclick=\"convertToInteractive('df-19042a98-a834-419e-a7b9-4369c52fde0a')\"\n",
       "              title=\"Convert this dataframe to an interactive table.\"\n",
       "              style=\"display:none;\">\n",
       "        \n",
       "  <svg xmlns=\"http://www.w3.org/2000/svg\" height=\"24px\"viewBox=\"0 0 24 24\"\n",
       "       width=\"24px\">\n",
       "    <path d=\"M0 0h24v24H0V0z\" fill=\"none\"/>\n",
       "    <path d=\"M18.56 5.44l.94 2.06.94-2.06 2.06-.94-2.06-.94-.94-2.06-.94 2.06-2.06.94zm-11 1L8.5 8.5l.94-2.06 2.06-.94-2.06-.94L8.5 2.5l-.94 2.06-2.06.94zm10 10l.94 2.06.94-2.06 2.06-.94-2.06-.94-.94-2.06-.94 2.06-2.06.94z\"/><path d=\"M17.41 7.96l-1.37-1.37c-.4-.4-.92-.59-1.43-.59-.52 0-1.04.2-1.43.59L10.3 9.45l-7.72 7.72c-.78.78-.78 2.05 0 2.83L4 21.41c.39.39.9.59 1.41.59.51 0 1.02-.2 1.41-.59l7.78-7.78 2.81-2.81c.8-.78.8-2.07 0-2.86zM5.41 20L4 18.59l7.72-7.72 1.47 1.35L5.41 20z\"/>\n",
       "  </svg>\n",
       "      </button>\n",
       "      \n",
       "  <style>\n",
       "    .colab-df-container {\n",
       "      display:flex;\n",
       "      flex-wrap:wrap;\n",
       "      gap: 12px;\n",
       "    }\n",
       "\n",
       "    .colab-df-convert {\n",
       "      background-color: #E8F0FE;\n",
       "      border: none;\n",
       "      border-radius: 50%;\n",
       "      cursor: pointer;\n",
       "      display: none;\n",
       "      fill: #1967D2;\n",
       "      height: 32px;\n",
       "      padding: 0 0 0 0;\n",
       "      width: 32px;\n",
       "    }\n",
       "\n",
       "    .colab-df-convert:hover {\n",
       "      background-color: #E2EBFA;\n",
       "      box-shadow: 0px 1px 2px rgba(60, 64, 67, 0.3), 0px 1px 3px 1px rgba(60, 64, 67, 0.15);\n",
       "      fill: #174EA6;\n",
       "    }\n",
       "\n",
       "    [theme=dark] .colab-df-convert {\n",
       "      background-color: #3B4455;\n",
       "      fill: #D2E3FC;\n",
       "    }\n",
       "\n",
       "    [theme=dark] .colab-df-convert:hover {\n",
       "      background-color: #434B5C;\n",
       "      box-shadow: 0px 1px 3px 1px rgba(0, 0, 0, 0.15);\n",
       "      filter: drop-shadow(0px 1px 2px rgba(0, 0, 0, 0.3));\n",
       "      fill: #FFFFFF;\n",
       "    }\n",
       "  </style>\n",
       "\n",
       "      <script>\n",
       "        const buttonEl =\n",
       "          document.querySelector('#df-19042a98-a834-419e-a7b9-4369c52fde0a button.colab-df-convert');\n",
       "        buttonEl.style.display =\n",
       "          google.colab.kernel.accessAllowed ? 'block' : 'none';\n",
       "\n",
       "        async function convertToInteractive(key) {\n",
       "          const element = document.querySelector('#df-19042a98-a834-419e-a7b9-4369c52fde0a');\n",
       "          const dataTable =\n",
       "            await google.colab.kernel.invokeFunction('convertToInteractive',\n",
       "                                                     [key], {});\n",
       "          if (!dataTable) return;\n",
       "\n",
       "          const docLinkHtml = 'Like what you see? Visit the ' +\n",
       "            '<a target=\"_blank\" href=https://colab.research.google.com/notebooks/data_table.ipynb>data table notebook</a>'\n",
       "            + ' to learn more about interactive tables.';\n",
       "          element.innerHTML = '';\n",
       "          dataTable['output_type'] = 'display_data';\n",
       "          await google.colab.output.renderOutput(dataTable, element);\n",
       "          const docLink = document.createElement('div');\n",
       "          docLink.innerHTML = docLinkHtml;\n",
       "          element.appendChild(docLink);\n",
       "        }\n",
       "      </script>\n",
       "    </div>\n",
       "  </div>\n",
       "  "
      ],
      "text/plain": [
       "                                               Image          0          1  \\\n",
       "0  New_Lentils/brown-marbled-7059 (segmented)/164... -50.450283  52.236862   \n",
       "1  New_Lentils/brown-marbled-7059 (segmented)/164... -48.312485  62.156052   \n",
       "2  New_Lentils/brown-marbled-7059 (segmented)/164... -44.977047  55.246964   \n",
       "3  New_Lentils/brown-marbled-7059 (segmented)/164... -43.257294  49.260265   \n",
       "4  New_Lentils/brown-marbled-7059 (segmented)/164... -41.884762  59.736393   \n",
       "\n",
       "          2          3          4          5          6          7          8  \\\n",
       "0  0.633628   4.723947  33.048306   3.543474   4.561373 -36.000172 -23.961124   \n",
       "1  5.272187 -15.072780  18.748957  21.680712  22.211351 -39.481339  -9.529542   \n",
       "2  2.174827   7.227791  35.441410   6.100941   1.521590 -42.522831 -24.255465   \n",
       "3  3.264165   7.283667  36.659889  17.552383  22.371454 -33.606392 -28.563334   \n",
       "4  5.756638 -14.397798  17.335243  22.010355  20.070347 -39.981277  -7.430474   \n",
       "\n",
       "   ...        118        119        120        121        122        123  \\\n",
       "0  ...  49.803268  47.657997 -37.987118 -13.245797 -37.147011 -29.830957   \n",
       "1  ...  75.184654  44.500267 -35.753937  -2.275872 -38.642677 -14.952507   \n",
       "2  ...  26.395638  38.903202 -35.802280 -10.539165 -35.634403   7.080564   \n",
       "3  ...  60.644123  38.959160 -38.668594 -21.103745 -33.084728   2.052317   \n",
       "4  ...  59.058140  36.616913 -31.268185   1.117746 -35.339722   5.563846   \n",
       "\n",
       "         124        125        126        127  \n",
       "0 -22.331896   7.095768 -16.186466 -20.808908  \n",
       "1 -30.110458  19.096302   1.749470 -20.440245  \n",
       "2 -39.566311   8.433096 -19.139406 -12.709001  \n",
       "3 -33.731533  24.735538 -17.802387 -12.816207  \n",
       "4 -36.361195  18.578094   1.463712 -15.010604  \n",
       "\n",
       "[5 rows x 129 columns]"
      ]
     },
     "execution_count": 29,
     "metadata": {},
     "output_type": "execute_result"
    }
   ],
   "source": [
    "# save the encoded features\n",
    "\n",
    "output_paths = pd.DataFrame({\"Image\":[paths[i] for i in output_items]})\n",
    "output_features = pd.DataFrame(output_images)\n",
    "\n",
    "output_features = pd.concat([output_paths, output_features], axis=1)\n",
    "output_features.head()"
   ]
  },
  {
   "cell_type": "code",
   "execution_count": null,
   "metadata": {
    "id": "mvyTpQCAYazJ"
   },
   "outputs": [],
   "source": [
    "output_features.to_csv(\"metadata/new_images_cnn_encoded_features.csv\", index=False)"
   ]
  }
 ],
 "metadata": {
  "accelerator": "GPU",
  "colab": {
   "collapsed_sections": [],
   "name": "LentilCNNAutoEncoder.ipynb",
   "version": ""
  },
  "gpuClass": "standard",
  "kernelspec": {
   "display_name": "Python 3 (ipykernel)",
   "language": "python",
   "name": "python3"
  },
  "language_info": {
   "codemirror_mode": {
    "name": "ipython",
    "version": 3
   },
   "file_extension": ".py",
   "mimetype": "text/x-python",
   "name": "python",
   "nbconvert_exporter": "python",
   "pygments_lexer": "ipython3",
   "version": "3.10.4"
  }
 },
 "nbformat": 4,
 "nbformat_minor": 4
}
